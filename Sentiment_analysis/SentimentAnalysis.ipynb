{
 "cells": [
  {
   "cell_type": "markdown",
   "id": "53974591",
   "metadata": {},
   "source": [
    "# __Sentiment Analysis on Womens Clothing E-Commerce Reviews__\n",
    "> 1. Train and Test several models on the dataset 'Womens Clothing E-Commerce Reviews.csv'\n",
    "> > + Fully Connected Neural Network (FCNN)\n",
    "> > + Recurrent Neural Network (RNN)\n",
    "> 2. Predict the sentiment on 'chatbots-virtual-assistant-Bitext-sample.csv'"
   ]
  },
  {
   "cell_type": "markdown",
   "id": "0614ab26",
   "metadata": {},
   "source": [
    "## __Phase 1: Training and Test__"
   ]
  },
  {
   "cell_type": "code",
   "execution_count": 3,
   "id": "51962883",
   "metadata": {},
   "outputs": [],
   "source": [
    "import pandas as pd\n",
    "import numpy as np\n",
    "import matplotlib.pyplot as plt\n",
    "import seaborn as sns"
   ]
  },
  {
   "cell_type": "markdown",
   "id": "e24ad96c",
   "metadata": {},
   "source": [
    "### Load the dataset"
   ]
  },
  {
   "cell_type": "code",
   "execution_count": 5,
   "id": "0f3c84c7",
   "metadata": {},
   "outputs": [
    {
     "data": {
      "text/html": [
       "<div>\n",
       "<style scoped>\n",
       "    .dataframe tbody tr th:only-of-type {\n",
       "        vertical-align: middle;\n",
       "    }\n",
       "\n",
       "    .dataframe tbody tr th {\n",
       "        vertical-align: top;\n",
       "    }\n",
       "\n",
       "    .dataframe thead th {\n",
       "        text-align: right;\n",
       "    }\n",
       "</style>\n",
       "<table border=\"1\" class=\"dataframe\">\n",
       "  <thead>\n",
       "    <tr style=\"text-align: right;\">\n",
       "      <th></th>\n",
       "      <th>Clothing ID</th>\n",
       "      <th>Age</th>\n",
       "      <th>Title</th>\n",
       "      <th>Review Text</th>\n",
       "      <th>Rating</th>\n",
       "      <th>Recommended IND</th>\n",
       "      <th>Positive Feedback Count</th>\n",
       "      <th>Division Name</th>\n",
       "      <th>Department Name</th>\n",
       "      <th>Class Name</th>\n",
       "    </tr>\n",
       "  </thead>\n",
       "  <tbody>\n",
       "    <tr>\n",
       "      <th>0</th>\n",
       "      <td>1077</td>\n",
       "      <td>60</td>\n",
       "      <td>Some major design flaws</td>\n",
       "      <td>I had such high hopes for this dress and reall...</td>\n",
       "      <td>3</td>\n",
       "      <td>0</td>\n",
       "      <td>0</td>\n",
       "      <td>General</td>\n",
       "      <td>Dresses</td>\n",
       "      <td>Dresses</td>\n",
       "    </tr>\n",
       "    <tr>\n",
       "      <th>1</th>\n",
       "      <td>1049</td>\n",
       "      <td>50</td>\n",
       "      <td>My favorite buy!</td>\n",
       "      <td>I love, love, love this jumpsuit. it's fun, fl...</td>\n",
       "      <td>5</td>\n",
       "      <td>1</td>\n",
       "      <td>0</td>\n",
       "      <td>General Petite</td>\n",
       "      <td>Bottoms</td>\n",
       "      <td>Pants</td>\n",
       "    </tr>\n",
       "    <tr>\n",
       "      <th>2</th>\n",
       "      <td>847</td>\n",
       "      <td>47</td>\n",
       "      <td>Flattering shirt</td>\n",
       "      <td>This shirt is very flattering to all due to th...</td>\n",
       "      <td>5</td>\n",
       "      <td>1</td>\n",
       "      <td>6</td>\n",
       "      <td>General</td>\n",
       "      <td>Tops</td>\n",
       "      <td>Blouses</td>\n",
       "    </tr>\n",
       "    <tr>\n",
       "      <th>3</th>\n",
       "      <td>1080</td>\n",
       "      <td>49</td>\n",
       "      <td>Not for the very petite</td>\n",
       "      <td>I love tracy reese dresses, but this one is no...</td>\n",
       "      <td>2</td>\n",
       "      <td>0</td>\n",
       "      <td>4</td>\n",
       "      <td>General</td>\n",
       "      <td>Dresses</td>\n",
       "      <td>Dresses</td>\n",
       "    </tr>\n",
       "    <tr>\n",
       "      <th>4</th>\n",
       "      <td>858</td>\n",
       "      <td>39</td>\n",
       "      <td>Cagrcoal shimmer fun</td>\n",
       "      <td>I aded this in my basket at hte last mintue to...</td>\n",
       "      <td>5</td>\n",
       "      <td>1</td>\n",
       "      <td>1</td>\n",
       "      <td>General Petite</td>\n",
       "      <td>Tops</td>\n",
       "      <td>Knits</td>\n",
       "    </tr>\n",
       "  </tbody>\n",
       "</table>\n",
       "</div>"
      ],
      "text/plain": [
       "   Clothing ID  Age                    Title  \\\n",
       "0         1077   60  Some major design flaws   \n",
       "1         1049   50         My favorite buy!   \n",
       "2          847   47         Flattering shirt   \n",
       "3         1080   49  Not for the very petite   \n",
       "4          858   39     Cagrcoal shimmer fun   \n",
       "\n",
       "                                         Review Text  Rating  Recommended IND  \\\n",
       "0  I had such high hopes for this dress and reall...       3                0   \n",
       "1  I love, love, love this jumpsuit. it's fun, fl...       5                1   \n",
       "2  This shirt is very flattering to all due to th...       5                1   \n",
       "3  I love tracy reese dresses, but this one is no...       2                0   \n",
       "4  I aded this in my basket at hte last mintue to...       5                1   \n",
       "\n",
       "   Positive Feedback Count   Division Name Department Name Class Name  \n",
       "0                        0         General         Dresses    Dresses  \n",
       "1                        0  General Petite         Bottoms      Pants  \n",
       "2                        6         General            Tops    Blouses  \n",
       "3                        4         General         Dresses    Dresses  \n",
       "4                        1  General Petite            Tops      Knits  "
      ]
     },
     "execution_count": 5,
     "metadata": {},
     "output_type": "execute_result"
    }
   ],
   "source": [
    "women_df = pd.read_csv('Womens Clothing E-Commerce Reviews.csv')\n",
    "women_df.drop('Unnamed: 0', axis = 1, inplace = True)     # drop some column\n",
    "women_df.dropna(inplace = True)     # modify in the original data\n",
    "women_df.reset_index(drop = True, inplace = True)     # reset index after dropna\n",
    "women_df.head()"
   ]
  },
  {
   "cell_type": "code",
   "execution_count": 6,
   "id": "55cadcbf",
   "metadata": {},
   "outputs": [
    {
     "data": {
      "text/plain": [
       "5    10858\n",
       "4     4289\n",
       "3     2464\n",
       "2     1360\n",
       "1      691\n",
       "Name: Rating, dtype: int64"
      ]
     },
     "execution_count": 6,
     "metadata": {},
     "output_type": "execute_result"
    }
   ],
   "source": [
    "women_df['Rating'].value_counts()"
   ]
  },
  {
   "cell_type": "code",
   "execution_count": 7,
   "id": "37ad6609",
   "metadata": {},
   "outputs": [
    {
     "data": {
      "text/plain": [
       "<AxesSubplot:xlabel='Rating', ylabel='count'>"
      ]
     },
     "execution_count": 7,
     "metadata": {},
     "output_type": "execute_result"
    },
    {
     "data": {
      "image/png": "[encoded data removed]",
      "text/plain": [
       "<Figure size 432x288 with 1 Axes>"
      ]
     },
     "metadata": {
      "needs_background": "light"
     },
     "output_type": "display_data"
    }
   ],
   "source": [
    "sns.set_style('whitegrid')\n",
    "sns.countplot(x = 'Rating',data = women_df, palette = 'YlGnBu_r')"
   ]
  },
  {
   "cell_type": "markdown",
   "id": "8a9cfc49",
   "metadata": {},
   "source": [
    "#### The Rating is unevenly distributed. Rating = 5 has the largest count number, and is almost equal to the sum of the counts of other levels."
   ]
  },
  {
   "cell_type": "markdown",
   "id": "4641afe8",
   "metadata": {},
   "source": [
    "### Calculate Polarity Rating based on the rating\n",
    "> + Apply the following rules:\n",
    "> + the existing rating > 3, then polarity_rating = 'Positive'\n",
    "> + the existing rating == 3, then polarity_rating = 'Neutral'\n",
    "> + the existing rating < 3, then polarity_rating = 'Negative'"
   ]
  },
  {
   "cell_type": "code",
   "execution_count": 8,
   "id": "5556c7eb",
   "metadata": {},
   "outputs": [
    {
     "data": {
      "text/html": [
       "<div>\n",
       "<style scoped>\n",
       "    .dataframe tbody tr th:only-of-type {\n",
       "        vertical-align: middle;\n",
       "    }\n",
       "\n",
       "    .dataframe tbody tr th {\n",
       "        vertical-align: top;\n",
       "    }\n",
       "\n",
       "    .dataframe thead th {\n",
       "        text-align: right;\n",
       "    }\n",
       "</style>\n",
       "<table border=\"1\" class=\"dataframe\">\n",
       "  <thead>\n",
       "    <tr style=\"text-align: right;\">\n",
       "      <th></th>\n",
       "      <th>Clothing ID</th>\n",
       "      <th>Age</th>\n",
       "      <th>Title</th>\n",
       "      <th>Review Text</th>\n",
       "      <th>Rating</th>\n",
       "      <th>Recommended IND</th>\n",
       "      <th>Positive Feedback Count</th>\n",
       "      <th>Division Name</th>\n",
       "      <th>Department Name</th>\n",
       "      <th>Class Name</th>\n",
       "      <th>Polarity_Rating</th>\n",
       "    </tr>\n",
       "  </thead>\n",
       "  <tbody>\n",
       "    <tr>\n",
       "      <th>0</th>\n",
       "      <td>1077</td>\n",
       "      <td>60</td>\n",
       "      <td>Some major design flaws</td>\n",
       "      <td>I had such high hopes for this dress and reall...</td>\n",
       "      <td>3</td>\n",
       "      <td>0</td>\n",
       "      <td>0</td>\n",
       "      <td>General</td>\n",
       "      <td>Dresses</td>\n",
       "      <td>Dresses</td>\n",
       "      <td>Neutral</td>\n",
       "    </tr>\n",
       "    <tr>\n",
       "      <th>1</th>\n",
       "      <td>1049</td>\n",
       "      <td>50</td>\n",
       "      <td>My favorite buy!</td>\n",
       "      <td>I love, love, love this jumpsuit. it's fun, fl...</td>\n",
       "      <td>5</td>\n",
       "      <td>1</td>\n",
       "      <td>0</td>\n",
       "      <td>General Petite</td>\n",
       "      <td>Bottoms</td>\n",
       "      <td>Pants</td>\n",
       "      <td>Positive</td>\n",
       "    </tr>\n",
       "    <tr>\n",
       "      <th>2</th>\n",
       "      <td>847</td>\n",
       "      <td>47</td>\n",
       "      <td>Flattering shirt</td>\n",
       "      <td>This shirt is very flattering to all due to th...</td>\n",
       "      <td>5</td>\n",
       "      <td>1</td>\n",
       "      <td>6</td>\n",
       "      <td>General</td>\n",
       "      <td>Tops</td>\n",
       "      <td>Blouses</td>\n",
       "      <td>Positive</td>\n",
       "    </tr>\n",
       "    <tr>\n",
       "      <th>3</th>\n",
       "      <td>1080</td>\n",
       "      <td>49</td>\n",
       "      <td>Not for the very petite</td>\n",
       "      <td>I love tracy reese dresses, but this one is no...</td>\n",
       "      <td>2</td>\n",
       "      <td>0</td>\n",
       "      <td>4</td>\n",
       "      <td>General</td>\n",
       "      <td>Dresses</td>\n",
       "      <td>Dresses</td>\n",
       "      <td>Negative</td>\n",
       "    </tr>\n",
       "    <tr>\n",
       "      <th>4</th>\n",
       "      <td>858</td>\n",
       "      <td>39</td>\n",
       "      <td>Cagrcoal shimmer fun</td>\n",
       "      <td>I aded this in my basket at hte last mintue to...</td>\n",
       "      <td>5</td>\n",
       "      <td>1</td>\n",
       "      <td>1</td>\n",
       "      <td>General Petite</td>\n",
       "      <td>Tops</td>\n",
       "      <td>Knits</td>\n",
       "      <td>Positive</td>\n",
       "    </tr>\n",
       "  </tbody>\n",
       "</table>\n",
       "</div>"
      ],
      "text/plain": [
       "   Clothing ID  Age                    Title  \\\n",
       "0         1077   60  Some major design flaws   \n",
       "1         1049   50         My favorite buy!   \n",
       "2          847   47         Flattering shirt   \n",
       "3         1080   49  Not for the very petite   \n",
       "4          858   39     Cagrcoal shimmer fun   \n",
       "\n",
       "                                         Review Text  Rating  Recommended IND  \\\n",
       "0  I had such high hopes for this dress and reall...       3                0   \n",
       "1  I love, love, love this jumpsuit. it's fun, fl...       5                1   \n",
       "2  This shirt is very flattering to all due to th...       5                1   \n",
       "3  I love tracy reese dresses, but this one is no...       2                0   \n",
       "4  I aded this in my basket at hte last mintue to...       5                1   \n",
       "\n",
       "   Positive Feedback Count   Division Name Department Name Class Name  \\\n",
       "0                        0         General         Dresses    Dresses   \n",
       "1                        0  General Petite         Bottoms      Pants   \n",
       "2                        6         General            Tops    Blouses   \n",
       "3                        4         General         Dresses    Dresses   \n",
       "4                        1  General Petite            Tops      Knits   \n",
       "\n",
       "  Polarity_Rating  \n",
       "0         Neutral  \n",
       "1        Positive  \n",
       "2        Positive  \n",
       "3        Negative  \n",
       "4        Positive  "
      ]
     },
     "execution_count": 8,
     "metadata": {},
     "output_type": "execute_result"
    }
   ],
   "source": [
    "women_df['Polarity_Rating'] = women_df['Rating'].apply(\n",
    "    lambda x: 'Positive' if x > 3 else('Neutral' if x == 3  else 'Negative')\n",
    ")\n",
    "women_df.head()"
   ]
  },
  {
   "cell_type": "code",
   "execution_count": 9,
   "id": "44ad484a",
   "metadata": {},
   "outputs": [
    {
     "data": {
      "text/plain": [
       "Positive    15147\n",
       "Neutral      2464\n",
       "Negative     2051\n",
       "Name: Polarity_Rating, dtype: int64"
      ]
     },
     "execution_count": 9,
     "metadata": {},
     "output_type": "execute_result"
    }
   ],
   "source": [
    "women_df['Polarity_Rating'].value_counts()"
   ]
  },
  {
   "cell_type": "code",
   "execution_count": 10,
   "id": "2baec751",
   "metadata": {},
   "outputs": [
    {
     "data": {
      "text/plain": [
       "<AxesSubplot:xlabel='Polarity_Rating', ylabel='count'>"
      ]
     },
     "execution_count": 10,
     "metadata": {},
     "output_type": "execute_result"
    },
    {
     "data": {
      "image/png": "[encoded data removed]",
      "text/plain": [
       "<Figure size 432x288 with 1 Axes>"
      ]
     },
     "metadata": {},
     "output_type": "display_data"
    }
   ],
   "source": [
    "sns.set_style('whitegrid')\n",
    "sns.countplot(x = 'Polarity_Rating', data = women_df, palette = 'summer')"
   ]
  },
  {
   "cell_type": "markdown",
   "id": "c0860379",
   "metadata": {},
   "source": [
    "#### The distribution of Polarity Rating is extremely imbalanced. Positive has the far most count number than other two levels."
   ]
  },
  {
   "cell_type": "markdown",
   "id": "e24e0e19",
   "metadata": {},
   "source": [
    "### Resampling\n",
    "> to make Polarity Rating is equally distributed, in which each level has 8,000 data samples"
   ]
  },
  {
   "cell_type": "code",
   "execution_count": 11,
   "id": "2987bd92",
   "metadata": {},
   "outputs": [],
   "source": [
    "# Positive has data samples > 8000\n",
    "# so we sample 8000 from all samples without replacement, whichs no repetition\n",
    "# by default replace = False, means sample without replacement\n",
    "df_Positive = women_df[women_df['Polarity_Rating'] == 'Positive'].sample(\n",
    "    n = 8000, replace = False, random_state = 1\n",
    ")\n",
    "df_Neutral = women_df[women_df['Polarity_Rating'] == 'Neutral']\n",
    "df_Negative = women_df[women_df['Polarity_Rating'] == 'Negative']"
   ]
  },
  {
   "cell_type": "code",
   "execution_count": 12,
   "id": "bd956851",
   "metadata": {},
   "outputs": [
    {
     "data": {
      "text/plain": [
       "(24000, 11)"
      ]
     },
     "execution_count": 12,
     "metadata": {},
     "output_type": "execute_result"
    }
   ],
   "source": [
    "# Neutral, Negative has samples < 8000\n",
    "# so we sample them to 8000 with replacement, which have repetitions\n",
    "# replace = True, means sample with replacement\n",
    "df_Neutral_over = df_Neutral.sample(8000, replace = True, random_state = 1)\n",
    "df_Negative_over = df_Negative.sample(8000, replace = True, random_state = 1)\n",
    "women_sample_df = pd.concat([df_Positive, df_Neutral_over, df_Negative_over], axis = 0)\n",
    "# reset index after resampling\n",
    "women_sample_df.reset_index(drop = True, inplace = True)\n",
    "women_sample_df.shape"
   ]
  },
  {
   "cell_type": "markdown",
   "id": "f7a95d80",
   "metadata": {},
   "source": [
    "### TextToText Preprocessing on 'Review Text'"
   ]
  },
  {
   "cell_type": "code",
   "execution_count": 13,
   "id": "770ebfde",
   "metadata": {},
   "outputs": [
    {
     "name": "stderr",
     "output_type": "stream",
     "text": [
      "[nltk_data] Downloading package stopwords to\n",
      "[nltk_data]     /Users/daikeig/nltk_data...\n",
      "[nltk_data]   Package stopwords is already up-to-date!\n",
      "[nltk_data] Downloading package punkt to /Users/daikeig/nltk_data...\n",
      "[nltk_data]   Package punkt is already up-to-date!\n"
     ]
    }
   ],
   "source": [
    "import re\n",
    "\n",
    "import nltk\n",
    "nltk.download('stopwords')\n",
    "nltk.download('punkt')\n",
    "from nltk.tokenize import word_tokenize\n",
    "from nltk.tokenize import WordPunctTokenizer\n",
    "from nltk.corpus import stopwords\n",
    "from nltk.stem.porter import PorterStemmer\n",
    "from nltk.stem import WordNetLemmatizer"
   ]
  },
  {
   "cell_type": "code",
   "execution_count": 14,
   "id": "d8100f57",
   "metadata": {},
   "outputs": [],
   "source": [
    "stopwords = stopwords.words(\"english\")\n",
    "\n",
    "def processTextToText(tweet):\n",
    "\n",
    "    # convert all words in the tweet into the lower case\n",
    "    tweet = tweet.lower()\n",
    "\n",
    "    # remove the urls\n",
    "    tweet = re.sub('http[s]?://(?:[a-zA-Z]|[0-9]|[$-_@.&+#]|[!*\\(\\),]|'\\\n",
    "                             '(?:%[0-9a-fA-F][0-9a-fA-F]))+','', tweet)\n",
    "    # remove the @ and references\n",
    "    tweet = re.sub(r\"(@[A-Za-z0-9_]+)\",\"\", tweet)\n",
    "    # remove special charaecters\n",
    "    tweet = re.sub(r'[\\#\\:\\)\\n\\/\\_\\-\\&]','', tweet)\n",
    "\n",
    "    # tokenize the string into list of words\n",
    "    word_list = word_tokenize(tweet)\n",
    "    \n",
    "    # filter out the stop words and punctuations in the list\n",
    "    word_list = [w for w in word_list if (not w in stopwords) and (w.isalpha())]\n",
    "\n",
    "    # transfer all remained words into the word stems i.e., perform stemming\n",
    "    porter = PorterStemmer()\n",
    "    word_list = [porter.stem(w) for w in word_list]\n",
    "\n",
    "    return ' '.join(word_list)"
   ]
  },
  {
   "cell_type": "code",
   "execution_count": 15,
   "id": "6c78bb84",
   "metadata": {},
   "outputs": [],
   "source": [
    "from tqdm import tqdm"
   ]
  },
  {
   "cell_type": "code",
   "execution_count": 16,
   "id": "685845ca",
   "metadata": {},
   "outputs": [
    {
     "name": "stderr",
     "output_type": "stream",
     "text": [
      "100%|███████████████████████████████████| 24000/24000 [00:15<00:00, 1558.21it/s]\n"
     ]
    }
   ],
   "source": [
    "women_processed = []\n",
    "for i in tqdm(range(women_sample_df.shape[0])):\n",
    "    women_processed.append(processTextToText(women_sample_df.iloc[i, 3]))     # Review Text"
   ]
  },
  {
   "cell_type": "code",
   "execution_count": 17,
   "id": "27f6adb8",
   "metadata": {},
   "outputs": [
    {
     "data": {
      "text/html": [
       "<div>\n",
       "<style scoped>\n",
       "    .dataframe tbody tr th:only-of-type {\n",
       "        vertical-align: middle;\n",
       "    }\n",
       "\n",
       "    .dataframe tbody tr th {\n",
       "        vertical-align: top;\n",
       "    }\n",
       "\n",
       "    .dataframe thead th {\n",
       "        text-align: right;\n",
       "    }\n",
       "</style>\n",
       "<table border=\"1\" class=\"dataframe\">\n",
       "  <thead>\n",
       "    <tr style=\"text-align: right;\">\n",
       "      <th></th>\n",
       "      <th>Clothing ID</th>\n",
       "      <th>Age</th>\n",
       "      <th>Title</th>\n",
       "      <th>Review Text</th>\n",
       "      <th>Rating</th>\n",
       "      <th>Recommended IND</th>\n",
       "      <th>Positive Feedback Count</th>\n",
       "      <th>Division Name</th>\n",
       "      <th>Department Name</th>\n",
       "      <th>Class Name</th>\n",
       "      <th>Polarity_Rating</th>\n",
       "    </tr>\n",
       "  </thead>\n",
       "  <tbody>\n",
       "    <tr>\n",
       "      <th>0</th>\n",
       "      <td>1095</td>\n",
       "      <td>21</td>\n",
       "      <td>All-season perfection</td>\n",
       "      <td>I bought this dress after eyeing it up for wee...</td>\n",
       "      <td>5</td>\n",
       "      <td>1</td>\n",
       "      <td>0</td>\n",
       "      <td>General</td>\n",
       "      <td>Dresses</td>\n",
       "      <td>Dresses</td>\n",
       "      <td>Positive</td>\n",
       "    </tr>\n",
       "    <tr>\n",
       "      <th>1</th>\n",
       "      <td>877</td>\n",
       "      <td>48</td>\n",
       "      <td>Cute shirt</td>\n",
       "      <td>I agree with the other reviewers. this shirt i...</td>\n",
       "      <td>5</td>\n",
       "      <td>1</td>\n",
       "      <td>1</td>\n",
       "      <td>General</td>\n",
       "      <td>Tops</td>\n",
       "      <td>Knits</td>\n",
       "      <td>Positive</td>\n",
       "    </tr>\n",
       "    <tr>\n",
       "      <th>2</th>\n",
       "      <td>1044</td>\n",
       "      <td>33</td>\n",
       "      <td>Poofy</td>\n",
       "      <td>I wish these fit more like joggers, but they a...</td>\n",
       "      <td>4</td>\n",
       "      <td>1</td>\n",
       "      <td>1</td>\n",
       "      <td>General Petite</td>\n",
       "      <td>Bottoms</td>\n",
       "      <td>Pants</td>\n",
       "      <td>Positive</td>\n",
       "    </tr>\n",
       "    <tr>\n",
       "      <th>3</th>\n",
       "      <td>1062</td>\n",
       "      <td>42</td>\n",
       "      <td>Perfect summer staple</td>\n",
       "      <td>This is my first romper and i am in love.  so ...</td>\n",
       "      <td>5</td>\n",
       "      <td>1</td>\n",
       "      <td>3</td>\n",
       "      <td>General</td>\n",
       "      <td>Bottoms</td>\n",
       "      <td>Pants</td>\n",
       "      <td>Positive</td>\n",
       "    </tr>\n",
       "    <tr>\n",
       "      <th>4</th>\n",
       "      <td>1150</td>\n",
       "      <td>67</td>\n",
       "      <td>This is a keeper</td>\n",
       "      <td>I just got this dress in the mail, and i have ...</td>\n",
       "      <td>5</td>\n",
       "      <td>1</td>\n",
       "      <td>16</td>\n",
       "      <td>General</td>\n",
       "      <td>Dresses</td>\n",
       "      <td>Dresses</td>\n",
       "      <td>Positive</td>\n",
       "    </tr>\n",
       "  </tbody>\n",
       "</table>\n",
       "</div>"
      ],
      "text/plain": [
       "   Clothing ID  Age                  Title  \\\n",
       "0         1095   21  All-season perfection   \n",
       "1          877   48             Cute shirt   \n",
       "2         1044   33                  Poofy   \n",
       "3         1062   42  Perfect summer staple   \n",
       "4         1150   67       This is a keeper   \n",
       "\n",
       "                                         Review Text  Rating  Recommended IND  \\\n",
       "0  I bought this dress after eyeing it up for wee...       5                1   \n",
       "1  I agree with the other reviewers. this shirt i...       5                1   \n",
       "2  I wish these fit more like joggers, but they a...       4                1   \n",
       "3  This is my first romper and i am in love.  so ...       5                1   \n",
       "4  I just got this dress in the mail, and i have ...       5                1   \n",
       "\n",
       "   Positive Feedback Count   Division Name Department Name Class Name  \\\n",
       "0                        0         General         Dresses    Dresses   \n",
       "1                        1         General            Tops      Knits   \n",
       "2                        1  General Petite         Bottoms      Pants   \n",
       "3                        3         General         Bottoms      Pants   \n",
       "4                       16         General         Dresses    Dresses   \n",
       "\n",
       "  Polarity_Rating  \n",
       "0        Positive  \n",
       "1        Positive  \n",
       "2        Positive  \n",
       "3        Positive  \n",
       "4        Positive  "
      ]
     },
     "execution_count": 17,
     "metadata": {},
     "output_type": "execute_result"
    }
   ],
   "source": [
    "women_sample_df.head()"
   ]
  },
  {
   "cell_type": "markdown",
   "id": "ff38b690",
   "metadata": {},
   "source": [
    "### Visualize the Preprocessed Review Text"
   ]
  },
  {
   "cell_type": "code",
   "execution_count": 18,
   "id": "5a15411a",
   "metadata": {},
   "outputs": [
    {
     "name": "stdout",
     "output_type": "stream",
     "text": [
      "bought dress eye week realli stun red incred vibrant especi linen construct highqual sinc linen feel crisp light layer nice pullov roll sleev flatout hot day rayon slip realli nice touch sinc linen fairli transpar realli drove home sens qualiti bought mine size found slightli big \n",
      "\n",
      "agre review shirt cuter person flatter cut design even prettier photo color navynot charcoal color look photo stitch also color real life \n",
      "\n",
      "wish fit like jogger slightli poofier big button felt bit clownish howev great statement piec qualiti good fabric nice textur think problem sinc linen drape scrunch like less structur fabric hold volum instead loos semiflowi menswear look \n",
      "\n",
      "first romper love comfort easili dress usual xs small petit small retail brand xs work best petit small big length xs perfect ankl length nervou put washer delic cycl came perfectli \n",
      "\n",
      "got dress mail disagre previou review embroideri dress well done thick materi high qualiti although breathabl hold perfectli embroideri usual order extra small loos fit dress order extra small one pound curvi build xs fit want belt wear loos mention color vibrant rich green ca wa \n",
      "\n"
     ]
    }
   ],
   "source": [
    "for i in range(5):\n",
    "    print(women_processed[i], '\\n')"
   ]
  },
  {
   "cell_type": "markdown",
   "id": "1e21e80c",
   "metadata": {},
   "source": [
    "### Apply One-hot Encoding to the Response Variable Polarity_Rating"
   ]
  },
  {
   "cell_type": "code",
   "execution_count": 19,
   "id": "e24596fd",
   "metadata": {},
   "outputs": [
    {
     "data": {
      "text/html": [
       "<div>\n",
       "<style scoped>\n",
       "    .dataframe tbody tr th:only-of-type {\n",
       "        vertical-align: middle;\n",
       "    }\n",
       "\n",
       "    .dataframe tbody tr th {\n",
       "        vertical-align: top;\n",
       "    }\n",
       "\n",
       "    .dataframe thead th {\n",
       "        text-align: right;\n",
       "    }\n",
       "</style>\n",
       "<table border=\"1\" class=\"dataframe\">\n",
       "  <thead>\n",
       "    <tr style=\"text-align: right;\">\n",
       "      <th></th>\n",
       "      <th>Negative</th>\n",
       "      <th>Neutral</th>\n",
       "      <th>Positive</th>\n",
       "    </tr>\n",
       "  </thead>\n",
       "  <tbody>\n",
       "    <tr>\n",
       "      <th>0</th>\n",
       "      <td>0</td>\n",
       "      <td>0</td>\n",
       "      <td>1</td>\n",
       "    </tr>\n",
       "    <tr>\n",
       "      <th>1</th>\n",
       "      <td>0</td>\n",
       "      <td>0</td>\n",
       "      <td>1</td>\n",
       "    </tr>\n",
       "    <tr>\n",
       "      <th>2</th>\n",
       "      <td>0</td>\n",
       "      <td>0</td>\n",
       "      <td>1</td>\n",
       "    </tr>\n",
       "    <tr>\n",
       "      <th>3</th>\n",
       "      <td>0</td>\n",
       "      <td>0</td>\n",
       "      <td>1</td>\n",
       "    </tr>\n",
       "    <tr>\n",
       "      <th>4</th>\n",
       "      <td>0</td>\n",
       "      <td>0</td>\n",
       "      <td>1</td>\n",
       "    </tr>\n",
       "  </tbody>\n",
       "</table>\n",
       "</div>"
      ],
      "text/plain": [
       "   Negative  Neutral  Positive\n",
       "0         0        0         1\n",
       "1         0        0         1\n",
       "2         0        0         1\n",
       "3         0        0         1\n",
       "4         0        0         1"
      ]
     },
     "execution_count": 19,
     "metadata": {},
     "output_type": "execute_result"
    }
   ],
   "source": [
    "y = pd.get_dummies(women_sample_df['Polarity_Rating'])\n",
    "y.head()"
   ]
  },
  {
   "cell_type": "markdown",
   "id": "cf3781c7",
   "metadata": {},
   "source": [
    "### Apply train_test_split"
   ]
  },
  {
   "cell_type": "code",
   "execution_count": 20,
   "id": "6f51f779",
   "metadata": {},
   "outputs": [
    {
     "name": "stdout",
     "output_type": "stream",
     "text": [
      "Negative  Neutral  Positive\n",
      "0         1        0           5612\n",
      "          0        1           5601\n",
      "1         0        0           5587\n",
      "dtype: int64 \n",
      "\n",
      "Negative  Neutral  Positive\n",
      "1         0        0           2413\n",
      "0         0        1           2399\n",
      "          1        0           2388\n",
      "dtype: int64 \n",
      "\n",
      "['order top onlin love color design listen review order usual size unflatt short wide like pictur model needless say immedi ship back', 'maev great materi vivid color amaz fit tri dress week ago purchas saw sale could get store quick enough ladi bottom heavi like dress make look awesom', 'origin purchas dress petit bust petit bit tight return went size happi dress drape flow beauti find immens flatter hourglass figur also ador floral print one review object way bodic drape small hook closur seem insuffici object characterist fit beauti throughout bodic', 'absolut gorgeou poorli fit blous bottom part way billowi inconsist fit top half got sale still return', 'color darker shown order denim look one flower thing visibl look one color must great tall skinni model pear shape like go took back local store']\n"
     ]
    }
   ],
   "source": [
    "from sklearn.model_selection import train_test_split\n",
    "\n",
    "X_train, X_test, y_train, y_test = train_test_split(women_processed, y, test_size = 0.3, random_state = 8307)\n",
    "\n",
    "print(y_train.value_counts(), '\\n')\n",
    "print(y_test.value_counts(), '\\n')\n",
    "print(X_test[0:5])"
   ]
  },
  {
   "cell_type": "markdown",
   "id": "e1a2717c",
   "metadata": {},
   "source": [
    "### Apply Vectorization"
   ]
  },
  {
   "cell_type": "code",
   "execution_count": 21,
   "id": "1905f0fc",
   "metadata": {},
   "outputs": [],
   "source": [
    "from sklearn.feature_extraction.text import CountVectorizer\n",
    "vect = CountVectorizer()\n",
    "X_train_vec = vect.fit_transform(X_train)\n",
    "X_test_vec = vect.transform(X_test)"
   ]
  },
  {
   "cell_type": "markdown",
   "id": "60320821",
   "metadata": {},
   "source": [
    "### Apply Frequency, Inverse Document Frequency"
   ]
  },
  {
   "cell_type": "code",
   "execution_count": 22,
   "id": "136fec5f",
   "metadata": {},
   "outputs": [],
   "source": [
    "from sklearn.feature_extraction.text import TfidfTransformer\n",
    "tfidf = TfidfTransformer()\n",
    "X_train_vec = tfidf.fit_transform(X_train_vec)\n",
    "X_test_vec = tfidf.transform(X_test_vec)\n",
    "X_train_vec = X_train_vec.toarray()\n",
    "X_test_vec = X_test_vec.toarray()"
   ]
  },
  {
   "cell_type": "code",
   "execution_count": 23,
   "id": "18a48b40",
   "metadata": {},
   "outputs": [
    {
     "data": {
      "text/plain": [
       "array([[0., 0., 0., ..., 0., 0., 0.],\n",
       "       [0., 0., 0., ..., 0., 0., 0.],\n",
       "       [0., 0., 0., ..., 0., 0., 0.],\n",
       "       [0., 0., 0., ..., 0., 0., 0.],\n",
       "       [0., 0., 0., ..., 0., 0., 0.]])"
      ]
     },
     "execution_count": 23,
     "metadata": {},
     "output_type": "execute_result"
    }
   ],
   "source": [
    "X_test_vec[0:5]"
   ]
  },
  {
   "cell_type": "markdown",
   "id": "866f491c",
   "metadata": {},
   "source": [
    "## ***Model 1: Fully Connected Neural Network (FCNN)***"
   ]
  },
  {
   "cell_type": "markdown",
   "id": "301d940e",
   "metadata": {},
   "source": [
    "### Build Model 1 with Deep Learning"
   ]
  },
  {
   "cell_type": "code",
   "execution_count": 24,
   "id": "0555e9a4",
   "metadata": {},
   "outputs": [],
   "source": [
    "import tensorflow as tf\n",
    "import keras\n",
    "from keras.models import Sequential\n",
    "from keras.layers import Dense, Dropout\n",
    "from keras.callbacks import EarlyStopping"
   ]
  },
  {
   "cell_type": "markdown",
   "id": "cf95764f",
   "metadata": {},
   "source": [
    "### Add Different Layers to Model 1"
   ]
  },
  {
   "cell_type": "code",
   "execution_count": 25,
   "id": "906c8336",
   "metadata": {},
   "outputs": [
    {
     "name": "stdout",
     "output_type": "stream",
     "text": [
      "Metal device set to: Apple M1\n"
     ]
    },
    {
     "name": "stderr",
     "output_type": "stream",
     "text": [
      "2022-08-06 14:50:01.197739: I tensorflow/core/common_runtime/pluggable_device/pluggable_device_factory.cc:305] Could not identify NUMA node of platform GPU ID 0, defaulting to 0. Your kernel may not have been built with NUMA support.\n",
      "2022-08-06 14:50:01.197940: I tensorflow/core/common_runtime/pluggable_device/pluggable_device_factory.cc:271] Created TensorFlow device (/job:localhost/replica:0/task:0/device:GPU:0 with 0 MB memory) -> physical PluggableDevice (device: 0, name: METAL, pci bus id: <undefined>)\n"
     ]
    }
   ],
   "source": [
    "tf.keras.backend.clear_session()\n",
    "\n",
    "model_1 = Sequential()\n",
    "\n",
    "model_1.add(Dense(units = 12673, activation = \"relu\"))\n",
    "model_1.add(Dropout(0.5))\n",
    "\n",
    "model_1.add(Dense(units = 4000, activation = \"relu\"))\n",
    "model_1.add(Dropout(0.5))\n",
    "\n",
    "model_1.add(Dense(units = 500, activation = \"relu\"))\n",
    "model_1.add(Dropout(0.5))\n",
    "\n",
    "model_1.add(Dense(units  =3, activation = \"softmax\"))\n",
    "\n",
    "opt = tf.keras.optimizers.Adam(learning_rate = 0.001)\n",
    "\n",
    "model_1.compile(optimizer = opt,loss = \"categorical_crossentropy\", metrics = [\"accuracy\"])\n",
    "\n",
    "early_stop = EarlyStopping(monitor = \"val_loss\", mode = \"min\", verbose = 1, patience = 2)"
   ]
  },
  {
   "cell_type": "markdown",
   "id": "53d2a0f4",
   "metadata": {},
   "source": [
    "### Fit the Model 1"
   ]
  },
  {
   "cell_type": "code",
   "execution_count": 26,
   "id": "2a82ce1e",
   "metadata": {},
   "outputs": [
    {
     "name": "stdout",
     "output_type": "stream",
     "text": [
      "Epoch 1/30\n"
     ]
    },
    {
     "name": "stderr",
     "output_type": "stream",
     "text": [
      "2022-08-06 14:50:02.103260: W tensorflow/core/platform/profile_utils/cpu_utils.cc:128] Failed to get CPU frequency: 0 Hz\n",
      "2022-08-06 14:50:02.918653: I tensorflow/core/grappler/optimizers/custom_graph_optimizer_registry.cc:113] Plugin optimizer for device_type GPU is enabled.\n"
     ]
    },
    {
     "name": "stdout",
     "output_type": "stream",
     "text": [
      "66/66 [==============================] - ETA: 0s - loss: 0.6436 - accuracy: 0.7094"
     ]
    },
    {
     "name": "stderr",
     "output_type": "stream",
     "text": [
      "2022-08-06 14:50:23.371668: I tensorflow/core/grappler/optimizers/custom_graph_optimizer_registry.cc:113] Plugin optimizer for device_type GPU is enabled.\n"
     ]
    },
    {
     "name": "stdout",
     "output_type": "stream",
     "text": [
      "66/66 [==============================] - 23s 328ms/step - loss: 0.6436 - accuracy: 0.7094 - val_loss: 0.3358 - val_accuracy: 0.8726\n",
      "Epoch 2/30\n",
      "66/66 [==============================] - 21s 322ms/step - loss: 0.1291 - accuracy: 0.9568 - val_loss: 0.2298 - val_accuracy: 0.9283\n",
      "Epoch 3/30\n",
      " 9/66 [===>..........................] - ETA: 17s - loss: 0.0260 - accuracy: 0.9935"
     ]
    },
    {
     "ename": "KeyboardInterrupt",
     "evalue": "",
     "output_type": "error",
     "traceback": [
      "\u001b[0;31m---------------------------------------------------------------------------\u001b[0m",
      "\u001b[0;31mKeyboardInterrupt\u001b[0m                         Traceback (most recent call last)",
      "Input \u001b[0;32mIn [26]\u001b[0m, in \u001b[0;36m<cell line: 1>\u001b[0;34m()\u001b[0m\n\u001b[0;32m----> 1\u001b[0m \u001b[43mmodel_1\u001b[49m\u001b[38;5;241;43m.\u001b[39;49m\u001b[43mfit\u001b[49m\u001b[43m(\u001b[49m\n\u001b[1;32m      2\u001b[0m \u001b[43m    \u001b[49m\u001b[43mx\u001b[49m\u001b[43m \u001b[49m\u001b[38;5;241;43m=\u001b[39;49m\u001b[43m \u001b[49m\u001b[43mX_train_vec\u001b[49m\u001b[43m,\u001b[49m\n\u001b[1;32m      3\u001b[0m \u001b[43m    \u001b[49m\u001b[43my\u001b[49m\u001b[43m \u001b[49m\u001b[38;5;241;43m=\u001b[39;49m\u001b[43m \u001b[49m\u001b[43my_train\u001b[49m\u001b[43m,\u001b[49m\n\u001b[1;32m      4\u001b[0m \u001b[43m    \u001b[49m\u001b[43mbatch_size\u001b[49m\u001b[43m \u001b[49m\u001b[38;5;241;43m=\u001b[39;49m\u001b[43m \u001b[49m\u001b[38;5;241;43m256\u001b[39;49m\u001b[43m,\u001b[49m\n\u001b[1;32m      5\u001b[0m \u001b[43m    \u001b[49m\u001b[43mepochs\u001b[49m\u001b[43m \u001b[49m\u001b[38;5;241;43m=\u001b[39;49m\u001b[43m \u001b[49m\u001b[38;5;241;43m30\u001b[39;49m\u001b[43m,\u001b[49m\n\u001b[1;32m      6\u001b[0m \u001b[43m    \u001b[49m\u001b[43mvalidation_data\u001b[49m\u001b[43m \u001b[49m\u001b[38;5;241;43m=\u001b[39;49m\u001b[43m \u001b[49m\u001b[43m(\u001b[49m\u001b[43mX_test_vec\u001b[49m\u001b[43m,\u001b[49m\u001b[43m \u001b[49m\u001b[43my_test\u001b[49m\u001b[43m)\u001b[49m\u001b[43m,\u001b[49m\n\u001b[1;32m      7\u001b[0m \u001b[43m    \u001b[49m\u001b[43mverbose\u001b[49m\u001b[43m \u001b[49m\u001b[38;5;241;43m=\u001b[39;49m\u001b[43m \u001b[49m\u001b[38;5;241;43m1\u001b[39;49m\u001b[43m,\u001b[49m\n\u001b[1;32m      8\u001b[0m \u001b[43m    \u001b[49m\u001b[43mcallbacks\u001b[49m\u001b[43m \u001b[49m\u001b[38;5;241;43m=\u001b[39;49m\u001b[43m \u001b[49m\u001b[43mearly_stop\u001b[49m\u001b[43m,\u001b[49m\n\u001b[1;32m      9\u001b[0m \u001b[43m)\u001b[49m\n",
      "File \u001b[0;32m/opt/homebrew/Caskroom/miniforge/base/envs/tfenv/lib/python3.9/site-packages/keras/utils/traceback_utils.py:64\u001b[0m, in \u001b[0;36mfilter_traceback.<locals>.error_handler\u001b[0;34m(*args, **kwargs)\u001b[0m\n\u001b[1;32m     62\u001b[0m filtered_tb \u001b[38;5;241m=\u001b[39m \u001b[38;5;28;01mNone\u001b[39;00m\n\u001b[1;32m     63\u001b[0m \u001b[38;5;28;01mtry\u001b[39;00m:\n\u001b[0;32m---> 64\u001b[0m   \u001b[38;5;28;01mreturn\u001b[39;00m \u001b[43mfn\u001b[49m\u001b[43m(\u001b[49m\u001b[38;5;241;43m*\u001b[39;49m\u001b[43margs\u001b[49m\u001b[43m,\u001b[49m\u001b[43m \u001b[49m\u001b[38;5;241;43m*\u001b[39;49m\u001b[38;5;241;43m*\u001b[39;49m\u001b[43mkwargs\u001b[49m\u001b[43m)\u001b[49m\n\u001b[1;32m     65\u001b[0m \u001b[38;5;28;01mexcept\u001b[39;00m \u001b[38;5;167;01mException\u001b[39;00m \u001b[38;5;28;01mas\u001b[39;00m e:  \u001b[38;5;66;03m# pylint: disable=broad-except\u001b[39;00m\n\u001b[1;32m     66\u001b[0m   filtered_tb \u001b[38;5;241m=\u001b[39m _process_traceback_frames(e\u001b[38;5;241m.\u001b[39m__traceback__)\n",
      "File \u001b[0;32m/opt/homebrew/Caskroom/miniforge/base/envs/tfenv/lib/python3.9/site-packages/keras/engine/training.py:1414\u001b[0m, in \u001b[0;36mModel.fit\u001b[0;34m(self, x, y, batch_size, epochs, verbose, callbacks, validation_split, validation_data, shuffle, class_weight, sample_weight, initial_epoch, steps_per_epoch, validation_steps, validation_batch_size, validation_freq, max_queue_size, workers, use_multiprocessing)\u001b[0m\n\u001b[1;32m   1412\u001b[0m logs \u001b[38;5;241m=\u001b[39m tmp_logs  \u001b[38;5;66;03m# No error, now safe to assign to logs.\u001b[39;00m\n\u001b[1;32m   1413\u001b[0m end_step \u001b[38;5;241m=\u001b[39m step \u001b[38;5;241m+\u001b[39m data_handler\u001b[38;5;241m.\u001b[39mstep_increment\n\u001b[0;32m-> 1414\u001b[0m \u001b[43mcallbacks\u001b[49m\u001b[38;5;241;43m.\u001b[39;49m\u001b[43mon_train_batch_end\u001b[49m\u001b[43m(\u001b[49m\u001b[43mend_step\u001b[49m\u001b[43m,\u001b[49m\u001b[43m \u001b[49m\u001b[43mlogs\u001b[49m\u001b[43m)\u001b[49m\n\u001b[1;32m   1415\u001b[0m \u001b[38;5;28;01mif\u001b[39;00m \u001b[38;5;28mself\u001b[39m\u001b[38;5;241m.\u001b[39mstop_training:\n\u001b[1;32m   1416\u001b[0m   \u001b[38;5;28;01mbreak\u001b[39;00m\n",
      "File \u001b[0;32m/opt/homebrew/Caskroom/miniforge/base/envs/tfenv/lib/python3.9/site-packages/keras/callbacks.py:438\u001b[0m, in \u001b[0;36mCallbackList.on_train_batch_end\u001b[0;34m(self, batch, logs)\u001b[0m\n\u001b[1;32m    431\u001b[0m \u001b[38;5;124;03m\"\"\"Calls the `on_train_batch_end` methods of its callbacks.\u001b[39;00m\n\u001b[1;32m    432\u001b[0m \n\u001b[1;32m    433\u001b[0m \u001b[38;5;124;03mArgs:\u001b[39;00m\n\u001b[1;32m    434\u001b[0m \u001b[38;5;124;03m    batch: Integer, index of batch within the current epoch.\u001b[39;00m\n\u001b[1;32m    435\u001b[0m \u001b[38;5;124;03m    logs: Dict. Aggregated metric results up until this batch.\u001b[39;00m\n\u001b[1;32m    436\u001b[0m \u001b[38;5;124;03m\"\"\"\u001b[39;00m\n\u001b[1;32m    437\u001b[0m \u001b[38;5;28;01mif\u001b[39;00m \u001b[38;5;28mself\u001b[39m\u001b[38;5;241m.\u001b[39m_should_call_train_batch_hooks:\n\u001b[0;32m--> 438\u001b[0m   \u001b[38;5;28;43mself\u001b[39;49m\u001b[38;5;241;43m.\u001b[39;49m\u001b[43m_call_batch_hook\u001b[49m\u001b[43m(\u001b[49m\u001b[43mModeKeys\u001b[49m\u001b[38;5;241;43m.\u001b[39;49m\u001b[43mTRAIN\u001b[49m\u001b[43m,\u001b[49m\u001b[43m \u001b[49m\u001b[38;5;124;43m'\u001b[39;49m\u001b[38;5;124;43mend\u001b[39;49m\u001b[38;5;124;43m'\u001b[39;49m\u001b[43m,\u001b[49m\u001b[43m \u001b[49m\u001b[43mbatch\u001b[49m\u001b[43m,\u001b[49m\u001b[43m \u001b[49m\u001b[43mlogs\u001b[49m\u001b[38;5;241;43m=\u001b[39;49m\u001b[43mlogs\u001b[49m\u001b[43m)\u001b[49m\n",
      "File \u001b[0;32m/opt/homebrew/Caskroom/miniforge/base/envs/tfenv/lib/python3.9/site-packages/keras/callbacks.py:297\u001b[0m, in \u001b[0;36mCallbackList._call_batch_hook\u001b[0;34m(self, mode, hook, batch, logs)\u001b[0m\n\u001b[1;32m    295\u001b[0m   \u001b[38;5;28mself\u001b[39m\u001b[38;5;241m.\u001b[39m_call_batch_begin_hook(mode, batch, logs)\n\u001b[1;32m    296\u001b[0m \u001b[38;5;28;01melif\u001b[39;00m hook \u001b[38;5;241m==\u001b[39m \u001b[38;5;124m'\u001b[39m\u001b[38;5;124mend\u001b[39m\u001b[38;5;124m'\u001b[39m:\n\u001b[0;32m--> 297\u001b[0m   \u001b[38;5;28;43mself\u001b[39;49m\u001b[38;5;241;43m.\u001b[39;49m\u001b[43m_call_batch_end_hook\u001b[49m\u001b[43m(\u001b[49m\u001b[43mmode\u001b[49m\u001b[43m,\u001b[49m\u001b[43m \u001b[49m\u001b[43mbatch\u001b[49m\u001b[43m,\u001b[49m\u001b[43m \u001b[49m\u001b[43mlogs\u001b[49m\u001b[43m)\u001b[49m\n\u001b[1;32m    298\u001b[0m \u001b[38;5;28;01melse\u001b[39;00m:\n\u001b[1;32m    299\u001b[0m   \u001b[38;5;28;01mraise\u001b[39;00m \u001b[38;5;167;01mValueError\u001b[39;00m(\n\u001b[1;32m    300\u001b[0m       \u001b[38;5;124mf\u001b[39m\u001b[38;5;124m'\u001b[39m\u001b[38;5;124mUnrecognized hook: \u001b[39m\u001b[38;5;132;01m{\u001b[39;00mhook\u001b[38;5;132;01m}\u001b[39;00m\u001b[38;5;124m. Expected values are [\u001b[39m\u001b[38;5;124m\"\u001b[39m\u001b[38;5;124mbegin\u001b[39m\u001b[38;5;124m\"\u001b[39m\u001b[38;5;124m, \u001b[39m\u001b[38;5;124m\"\u001b[39m\u001b[38;5;124mend\u001b[39m\u001b[38;5;124m\"\u001b[39m\u001b[38;5;124m]\u001b[39m\u001b[38;5;124m'\u001b[39m)\n",
      "File \u001b[0;32m/opt/homebrew/Caskroom/miniforge/base/envs/tfenv/lib/python3.9/site-packages/keras/callbacks.py:318\u001b[0m, in \u001b[0;36mCallbackList._call_batch_end_hook\u001b[0;34m(self, mode, batch, logs)\u001b[0m\n\u001b[1;32m    315\u001b[0m   batch_time \u001b[38;5;241m=\u001b[39m time\u001b[38;5;241m.\u001b[39mtime() \u001b[38;5;241m-\u001b[39m \u001b[38;5;28mself\u001b[39m\u001b[38;5;241m.\u001b[39m_batch_start_time\n\u001b[1;32m    316\u001b[0m   \u001b[38;5;28mself\u001b[39m\u001b[38;5;241m.\u001b[39m_batch_times\u001b[38;5;241m.\u001b[39mappend(batch_time)\n\u001b[0;32m--> 318\u001b[0m \u001b[38;5;28;43mself\u001b[39;49m\u001b[38;5;241;43m.\u001b[39;49m\u001b[43m_call_batch_hook_helper\u001b[49m\u001b[43m(\u001b[49m\u001b[43mhook_name\u001b[49m\u001b[43m,\u001b[49m\u001b[43m \u001b[49m\u001b[43mbatch\u001b[49m\u001b[43m,\u001b[49m\u001b[43m \u001b[49m\u001b[43mlogs\u001b[49m\u001b[43m)\u001b[49m\n\u001b[1;32m    320\u001b[0m \u001b[38;5;28;01mif\u001b[39;00m \u001b[38;5;28mlen\u001b[39m(\u001b[38;5;28mself\u001b[39m\u001b[38;5;241m.\u001b[39m_batch_times) \u001b[38;5;241m>\u001b[39m\u001b[38;5;241m=\u001b[39m \u001b[38;5;28mself\u001b[39m\u001b[38;5;241m.\u001b[39m_num_batches_for_timing_check:\n\u001b[1;32m    321\u001b[0m   end_hook_name \u001b[38;5;241m=\u001b[39m hook_name\n",
      "File \u001b[0;32m/opt/homebrew/Caskroom/miniforge/base/envs/tfenv/lib/python3.9/site-packages/keras/callbacks.py:356\u001b[0m, in \u001b[0;36mCallbackList._call_batch_hook_helper\u001b[0;34m(self, hook_name, batch, logs)\u001b[0m\n\u001b[1;32m    354\u001b[0m \u001b[38;5;28;01mfor\u001b[39;00m callback \u001b[38;5;129;01min\u001b[39;00m \u001b[38;5;28mself\u001b[39m\u001b[38;5;241m.\u001b[39mcallbacks:\n\u001b[1;32m    355\u001b[0m   hook \u001b[38;5;241m=\u001b[39m \u001b[38;5;28mgetattr\u001b[39m(callback, hook_name)\n\u001b[0;32m--> 356\u001b[0m   \u001b[43mhook\u001b[49m\u001b[43m(\u001b[49m\u001b[43mbatch\u001b[49m\u001b[43m,\u001b[49m\u001b[43m \u001b[49m\u001b[43mlogs\u001b[49m\u001b[43m)\u001b[49m\n\u001b[1;32m    358\u001b[0m \u001b[38;5;28;01mif\u001b[39;00m \u001b[38;5;28mself\u001b[39m\u001b[38;5;241m.\u001b[39m_check_timing:\n\u001b[1;32m    359\u001b[0m   \u001b[38;5;28;01mif\u001b[39;00m hook_name \u001b[38;5;129;01mnot\u001b[39;00m \u001b[38;5;129;01min\u001b[39;00m \u001b[38;5;28mself\u001b[39m\u001b[38;5;241m.\u001b[39m_hook_times:\n",
      "File \u001b[0;32m/opt/homebrew/Caskroom/miniforge/base/envs/tfenv/lib/python3.9/site-packages/keras/callbacks.py:1034\u001b[0m, in \u001b[0;36mProgbarLogger.on_train_batch_end\u001b[0;34m(self, batch, logs)\u001b[0m\n\u001b[1;32m   1033\u001b[0m \u001b[38;5;28;01mdef\u001b[39;00m \u001b[38;5;21mon_train_batch_end\u001b[39m(\u001b[38;5;28mself\u001b[39m, batch, logs\u001b[38;5;241m=\u001b[39m\u001b[38;5;28;01mNone\u001b[39;00m):\n\u001b[0;32m-> 1034\u001b[0m   \u001b[38;5;28;43mself\u001b[39;49m\u001b[38;5;241;43m.\u001b[39;49m\u001b[43m_batch_update_progbar\u001b[49m\u001b[43m(\u001b[49m\u001b[43mbatch\u001b[49m\u001b[43m,\u001b[49m\u001b[43m \u001b[49m\u001b[43mlogs\u001b[49m\u001b[43m)\u001b[49m\n",
      "File \u001b[0;32m/opt/homebrew/Caskroom/miniforge/base/envs/tfenv/lib/python3.9/site-packages/keras/callbacks.py:1106\u001b[0m, in \u001b[0;36mProgbarLogger._batch_update_progbar\u001b[0;34m(self, batch, logs)\u001b[0m\n\u001b[1;32m   1102\u001b[0m   \u001b[38;5;28mself\u001b[39m\u001b[38;5;241m.\u001b[39mseen \u001b[38;5;241m+\u001b[39m\u001b[38;5;241m=\u001b[39m add_seen\n\u001b[1;32m   1104\u001b[0m \u001b[38;5;28;01mif\u001b[39;00m \u001b[38;5;28mself\u001b[39m\u001b[38;5;241m.\u001b[39mverbose \u001b[38;5;241m==\u001b[39m \u001b[38;5;241m1\u001b[39m:\n\u001b[1;32m   1105\u001b[0m   \u001b[38;5;66;03m# Only block async when verbose = 1.\u001b[39;00m\n\u001b[0;32m-> 1106\u001b[0m   logs \u001b[38;5;241m=\u001b[39m \u001b[43mtf_utils\u001b[49m\u001b[38;5;241;43m.\u001b[39;49m\u001b[43msync_to_numpy_or_python_type\u001b[49m\u001b[43m(\u001b[49m\u001b[43mlogs\u001b[49m\u001b[43m)\u001b[49m\n\u001b[1;32m   1107\u001b[0m   \u001b[38;5;28mself\u001b[39m\u001b[38;5;241m.\u001b[39mprogbar\u001b[38;5;241m.\u001b[39mupdate(\u001b[38;5;28mself\u001b[39m\u001b[38;5;241m.\u001b[39mseen, \u001b[38;5;28mlist\u001b[39m(logs\u001b[38;5;241m.\u001b[39mitems()), finalize\u001b[38;5;241m=\u001b[39m\u001b[38;5;28;01mFalse\u001b[39;00m)\n",
      "File \u001b[0;32m/opt/homebrew/Caskroom/miniforge/base/envs/tfenv/lib/python3.9/site-packages/keras/utils/tf_utils.py:607\u001b[0m, in \u001b[0;36msync_to_numpy_or_python_type\u001b[0;34m(tensors)\u001b[0m\n\u001b[1;32m    604\u001b[0m     \u001b[38;5;28;01mreturn\u001b[39;00m t\n\u001b[1;32m    605\u001b[0m   \u001b[38;5;28;01mreturn\u001b[39;00m t\u001b[38;5;241m.\u001b[39mitem() \u001b[38;5;28;01mif\u001b[39;00m np\u001b[38;5;241m.\u001b[39mndim(t) \u001b[38;5;241m==\u001b[39m \u001b[38;5;241m0\u001b[39m \u001b[38;5;28;01melse\u001b[39;00m t\n\u001b[0;32m--> 607\u001b[0m \u001b[38;5;28;01mreturn\u001b[39;00m \u001b[43mtf\u001b[49m\u001b[38;5;241;43m.\u001b[39;49m\u001b[43mnest\u001b[49m\u001b[38;5;241;43m.\u001b[39;49m\u001b[43mmap_structure\u001b[49m\u001b[43m(\u001b[49m\u001b[43m_to_single_numpy_or_python_type\u001b[49m\u001b[43m,\u001b[49m\u001b[43m \u001b[49m\u001b[43mtensors\u001b[49m\u001b[43m)\u001b[49m\n",
      "File \u001b[0;32m/opt/homebrew/Caskroom/miniforge/base/envs/tfenv/lib/python3.9/site-packages/tensorflow/python/util/nest.py:916\u001b[0m, in \u001b[0;36mmap_structure\u001b[0;34m(func, *structure, **kwargs)\u001b[0m\n\u001b[1;32m    912\u001b[0m flat_structure \u001b[38;5;241m=\u001b[39m (flatten(s, expand_composites) \u001b[38;5;28;01mfor\u001b[39;00m s \u001b[38;5;129;01min\u001b[39;00m structure)\n\u001b[1;32m    913\u001b[0m entries \u001b[38;5;241m=\u001b[39m \u001b[38;5;28mzip\u001b[39m(\u001b[38;5;241m*\u001b[39mflat_structure)\n\u001b[1;32m    915\u001b[0m \u001b[38;5;28;01mreturn\u001b[39;00m pack_sequence_as(\n\u001b[0;32m--> 916\u001b[0m     structure[\u001b[38;5;241m0\u001b[39m], [func(\u001b[38;5;241m*\u001b[39mx) \u001b[38;5;28;01mfor\u001b[39;00m x \u001b[38;5;129;01min\u001b[39;00m entries],\n\u001b[1;32m    917\u001b[0m     expand_composites\u001b[38;5;241m=\u001b[39mexpand_composites)\n",
      "File \u001b[0;32m/opt/homebrew/Caskroom/miniforge/base/envs/tfenv/lib/python3.9/site-packages/tensorflow/python/util/nest.py:916\u001b[0m, in \u001b[0;36m<listcomp>\u001b[0;34m(.0)\u001b[0m\n\u001b[1;32m    912\u001b[0m flat_structure \u001b[38;5;241m=\u001b[39m (flatten(s, expand_composites) \u001b[38;5;28;01mfor\u001b[39;00m s \u001b[38;5;129;01min\u001b[39;00m structure)\n\u001b[1;32m    913\u001b[0m entries \u001b[38;5;241m=\u001b[39m \u001b[38;5;28mzip\u001b[39m(\u001b[38;5;241m*\u001b[39mflat_structure)\n\u001b[1;32m    915\u001b[0m \u001b[38;5;28;01mreturn\u001b[39;00m pack_sequence_as(\n\u001b[0;32m--> 916\u001b[0m     structure[\u001b[38;5;241m0\u001b[39m], [\u001b[43mfunc\u001b[49m\u001b[43m(\u001b[49m\u001b[38;5;241;43m*\u001b[39;49m\u001b[43mx\u001b[49m\u001b[43m)\u001b[49m \u001b[38;5;28;01mfor\u001b[39;00m x \u001b[38;5;129;01min\u001b[39;00m entries],\n\u001b[1;32m    917\u001b[0m     expand_composites\u001b[38;5;241m=\u001b[39mexpand_composites)\n",
      "File \u001b[0;32m/opt/homebrew/Caskroom/miniforge/base/envs/tfenv/lib/python3.9/site-packages/keras/utils/tf_utils.py:601\u001b[0m, in \u001b[0;36msync_to_numpy_or_python_type.<locals>._to_single_numpy_or_python_type\u001b[0;34m(t)\u001b[0m\n\u001b[1;32m    598\u001b[0m \u001b[38;5;28;01mdef\u001b[39;00m \u001b[38;5;21m_to_single_numpy_or_python_type\u001b[39m(t):\n\u001b[1;32m    599\u001b[0m   \u001b[38;5;66;03m# Don't turn ragged or sparse tensors to NumPy.\u001b[39;00m\n\u001b[1;32m    600\u001b[0m   \u001b[38;5;28;01mif\u001b[39;00m \u001b[38;5;28misinstance\u001b[39m(t, tf\u001b[38;5;241m.\u001b[39mTensor):\n\u001b[0;32m--> 601\u001b[0m     t \u001b[38;5;241m=\u001b[39m \u001b[43mt\u001b[49m\u001b[38;5;241;43m.\u001b[39;49m\u001b[43mnumpy\u001b[49m\u001b[43m(\u001b[49m\u001b[43m)\u001b[49m\n\u001b[1;32m    602\u001b[0m   \u001b[38;5;66;03m# Strings, ragged and sparse tensors don't have .item(). Return them as-is.\u001b[39;00m\n\u001b[1;32m    603\u001b[0m   \u001b[38;5;28;01mif\u001b[39;00m \u001b[38;5;129;01mnot\u001b[39;00m \u001b[38;5;28misinstance\u001b[39m(t, (np\u001b[38;5;241m.\u001b[39mndarray, np\u001b[38;5;241m.\u001b[39mgeneric)):\n",
      "File \u001b[0;32m/opt/homebrew/Caskroom/miniforge/base/envs/tfenv/lib/python3.9/site-packages/tensorflow/python/framework/ops.py:1159\u001b[0m, in \u001b[0;36m_EagerTensorBase.numpy\u001b[0;34m(self)\u001b[0m\n\u001b[1;32m   1136\u001b[0m \u001b[38;5;124;03m\"\"\"Copy of the contents of this Tensor into a NumPy array or scalar.\u001b[39;00m\n\u001b[1;32m   1137\u001b[0m \n\u001b[1;32m   1138\u001b[0m \u001b[38;5;124;03mUnlike NumPy arrays, Tensors are immutable, so this method has to copy\u001b[39;00m\n\u001b[0;32m   (...)\u001b[0m\n\u001b[1;32m   1156\u001b[0m \u001b[38;5;124;03m    NumPy dtype.\u001b[39;00m\n\u001b[1;32m   1157\u001b[0m \u001b[38;5;124;03m\"\"\"\u001b[39;00m\n\u001b[1;32m   1158\u001b[0m \u001b[38;5;66;03m# TODO(slebedev): Consider avoiding a copy for non-CPU or remote tensors.\u001b[39;00m\n\u001b[0;32m-> 1159\u001b[0m maybe_arr \u001b[38;5;241m=\u001b[39m \u001b[38;5;28;43mself\u001b[39;49m\u001b[38;5;241;43m.\u001b[39;49m\u001b[43m_numpy\u001b[49m\u001b[43m(\u001b[49m\u001b[43m)\u001b[49m  \u001b[38;5;66;03m# pylint: disable=protected-access\u001b[39;00m\n\u001b[1;32m   1160\u001b[0m \u001b[38;5;28;01mreturn\u001b[39;00m maybe_arr\u001b[38;5;241m.\u001b[39mcopy() \u001b[38;5;28;01mif\u001b[39;00m \u001b[38;5;28misinstance\u001b[39m(maybe_arr, np\u001b[38;5;241m.\u001b[39mndarray) \u001b[38;5;28;01melse\u001b[39;00m maybe_arr\n",
      "File \u001b[0;32m/opt/homebrew/Caskroom/miniforge/base/envs/tfenv/lib/python3.9/site-packages/tensorflow/python/framework/ops.py:1125\u001b[0m, in \u001b[0;36m_EagerTensorBase._numpy\u001b[0;34m(self)\u001b[0m\n\u001b[1;32m   1123\u001b[0m \u001b[38;5;28;01mdef\u001b[39;00m \u001b[38;5;21m_numpy\u001b[39m(\u001b[38;5;28mself\u001b[39m):\n\u001b[1;32m   1124\u001b[0m   \u001b[38;5;28;01mtry\u001b[39;00m:\n\u001b[0;32m-> 1125\u001b[0m     \u001b[38;5;28;01mreturn\u001b[39;00m \u001b[38;5;28;43mself\u001b[39;49m\u001b[38;5;241;43m.\u001b[39;49m\u001b[43m_numpy_internal\u001b[49m\u001b[43m(\u001b[49m\u001b[43m)\u001b[49m\n\u001b[1;32m   1126\u001b[0m   \u001b[38;5;28;01mexcept\u001b[39;00m core\u001b[38;5;241m.\u001b[39m_NotOkStatusException \u001b[38;5;28;01mas\u001b[39;00m e:  \u001b[38;5;66;03m# pylint: disable=protected-access\u001b[39;00m\n\u001b[1;32m   1127\u001b[0m     \u001b[38;5;28;01mraise\u001b[39;00m core\u001b[38;5;241m.\u001b[39m_status_to_exception(e) \u001b[38;5;28;01mfrom\u001b[39;00m \u001b[38;5;28mNone\u001b[39m\n",
      "\u001b[0;31mKeyboardInterrupt\u001b[0m: "
     ]
    }
   ],
   "source": [
    "model_1.fit(\n",
    "    x = X_train_vec,\n",
    "    y = y_train,\n",
    "    batch_size = 256,\n",
    "    epochs = 30,\n",
    "    validation_data = (X_test_vec, y_test),\n",
    "    verbose = 1,\n",
    "    callbacks = early_stop,\n",
    ")"
   ]
  },
  {
   "cell_type": "code",
   "execution_count": 27,
   "id": "2944bb3b",
   "metadata": {},
   "outputs": [
    {
     "data": {
      "image/png": "[encoded data removed]",
      "text/plain": [
       "<IPython.core.display.Image object>"
      ]
     },
     "execution_count": 27,
     "metadata": {},
     "output_type": "execute_result"
    }
   ],
   "source": [
    "from keras.utils.vis_utils import plot_model\n",
    "plot_model(model_1, './model_1.png', show_shapes = True)"
   ]
  },
  {
   "cell_type": "markdown",
   "id": "301c0524",
   "metadata": {},
   "source": [
    "### Evaluation of Model 1"
   ]
  },
  {
   "cell_type": "code",
   "execution_count": 28,
   "id": "bd7b95f9",
   "metadata": {},
   "outputs": [
    {
     "name": "stdout",
     "output_type": "stream",
     "text": [
      "113/113 [==============================] - 3s 21ms/step - loss: 0.2519 - accuracy: 0.9260\n",
      "Test Accuracy: 0.9259722232818604\n"
     ]
    }
   ],
   "source": [
    "model_1_score = model_1.evaluate(X_test_vec, y_test, batch_size = 64, verbose = 1)\n",
    "print(\"Test Accuracy:\", model_1_score[1])"
   ]
  },
  {
   "cell_type": "markdown",
   "id": "6355816d",
   "metadata": {},
   "source": [
    "### Save Model 1"
   ]
  },
  {
   "cell_type": "code",
   "execution_count": 29,
   "id": "0076ea77",
   "metadata": {},
   "outputs": [
    {
     "name": "stdout",
     "output_type": "stream",
     "text": [
      "INFO:tensorflow:Assets written to: ./saved_model/FCNN/assets\n"
     ]
    }
   ],
   "source": [
    "!mkdir -p saved_model\n",
    "model_1.save('./saved_model/FCNN')"
   ]
  },
  {
   "cell_type": "markdown",
   "id": "43a88b8c",
   "metadata": {},
   "source": [
    "### Prediction of X_test by Model 1"
   ]
  },
  {
   "cell_type": "code",
   "execution_count": null,
   "id": "cf66f37a",
   "metadata": {},
   "outputs": [],
   "source": [
    "model_1_pred = model_1.predict(X_test_vec)\n",
    "model_1_pred[0:5, :]"
   ]
  },
  {
   "cell_type": "code",
   "execution_count": null,
   "id": "6c909825",
   "metadata": {},
   "outputs": [],
   "source": [
    "y_test_sentiment = []\n",
    "for line in y_test.values:\n",
    "    sc = np.argmax(line)\n",
    "    if sc == 0:\n",
    "        y_test_sentiment.append('Negative')\n",
    "    elif sc == 1:\n",
    "        y_test_sentiment.append('Neutral')\n",
    "    elif sc == 2:\n",
    "        y_test_sentiment.append('Positive')\n",
    "y_test_sentiment[0:5]"
   ]
  },
  {
   "cell_type": "code",
   "execution_count": null,
   "id": "25a0ade0",
   "metadata": {},
   "outputs": [],
   "source": [
    "model_1_sentiment = []\n",
    "for line in  model_1_pred:\n",
    "    sc = np.argmax(line)\n",
    "    if sc == 0:\n",
    "        model_1_sentiment.append('Negative')\n",
    "    elif sc == 1:\n",
    "        model_1_sentiment.append('Neutral')\n",
    "    elif sc == 2:\n",
    "        model_1_sentiment.append('Positive')\n",
    "model_1_sentiment[0:5]"
   ]
  },
  {
   "cell_type": "code",
   "execution_count": null,
   "id": "57d383b9",
   "metadata": {},
   "outputs": [],
   "source": [
    "model_1_info = pd.DataFrame()\n",
    "model_1_info['Preprocessed Review Text'] = X_test\n",
    "model_1_info['True Sentiment'] = y_test_sentiment\n",
    "model_1_info['FCNN Sentiment'] = model_1_sentiment\n",
    "model_1_info"
   ]
  },
  {
   "cell_type": "markdown",
   "id": "526b89c0",
   "metadata": {},
   "source": [
    "## ***Model 2: Recurrent Neural Network (RNN)***"
   ]
  },
  {
   "cell_type": "markdown",
   "id": "6ba10908",
   "metadata": {},
   "source": [
    "### Word Embedding"
   ]
  },
  {
   "cell_type": "code",
   "execution_count": null,
   "id": "7a87e8c4",
   "metadata": {},
   "outputs": [],
   "source": [
    "women_sample_df.head()"
   ]
  },
  {
   "cell_type": "code",
   "execution_count": null,
   "id": "014626d8",
   "metadata": {},
   "outputs": [],
   "source": [
    "import re\n",
    "\n",
    "import nltk\n",
    "nltk.download('stopwords')\n",
    "nltk.download('punkt')\n",
    "from nltk.tokenize import word_tokenize\n",
    "from nltk.tokenize import WordPunctTokenizer\n",
    "from nltk.corpus import stopwords\n",
    "from nltk.stem.porter import PorterStemmer\n",
    "from nltk.stem import WordNetLemmatizer"
   ]
  },
  {
   "cell_type": "code",
   "execution_count": null,
   "id": "1cb867a1",
   "metadata": {},
   "outputs": [],
   "source": [
    "# define the stop words\n",
    "stopwords = stopwords.words(\"english\")\n",
    "\n",
    "def processTextToToken(tweet):\n",
    "\n",
    "    # convert all words in the tweet into the lower case\n",
    "    tweet = tweet.lower()\n",
    "\n",
    "    # remove the urls\n",
    "    tweet = re.sub('http[s]?://(?:[a-zA-Z]|[0-9]|[$-_@.&+#]|[!*\\(\\),]|'\\\n",
    "                             '(?:%[0-9a-fA-F][0-9a-fA-F]))+','', tweet)\n",
    "    # remove the @ and references\n",
    "    tweet = re.sub(r\"(@[A-Za-z0-9_]+)\",\"\", tweet)\n",
    "    # remove special charaecters\n",
    "    tweet = re.sub(r'[\\#\\:\\)\\n\\/\\_\\-\\&]','', tweet)\n",
    "\n",
    "    # tokenize the string into list of words\n",
    "    word_list = word_tokenize(tweet)\n",
    "    \n",
    "    # filter out the stop words and punctuations in the list\n",
    "    word_list = [w for w in word_list if (not w in stopwords) and (w.isalpha())]\n",
    "\n",
    "    # transfer all remained words into the word stems i.e., perform stemming\n",
    "    porter = PorterStemmer()\n",
    "    word_list = [porter.stem(w) for w in word_list]\n",
    "\n",
    "    return word_list"
   ]
  },
  {
   "cell_type": "code",
   "execution_count": null,
   "id": "241e9fed",
   "metadata": {},
   "outputs": [],
   "source": [
    "from tqdm import tqdm"
   ]
  },
  {
   "cell_type": "code",
   "execution_count": null,
   "id": "7b84f5f4",
   "metadata": {},
   "outputs": [],
   "source": [
    "women_token = []\n",
    "for i in tqdm(range(women_sample_df.shape[0])):\n",
    "    women_token.append(processTextToToken(women_sample_df.iloc[i, 3]))"
   ]
  },
  {
   "cell_type": "code",
   "execution_count": null,
   "id": "bca1e2b6",
   "metadata": {},
   "outputs": [],
   "source": [
    "for i in range(5):\n",
    "    print(women_token[i], '\\n')"
   ]
  },
  {
   "cell_type": "code",
   "execution_count": null,
   "id": "492dd617",
   "metadata": {},
   "outputs": [],
   "source": [
    "y = pd.get_dummies(women_sample_df['Polarity_Rating'])\n",
    "y.head()"
   ]
  },
  {
   "cell_type": "code",
   "execution_count": null,
   "id": "cd5dbab9",
   "metadata": {},
   "outputs": [],
   "source": [
    "from sklearn.model_selection import train_test_split\n",
    "\n",
    "# y is the previous one-hot encoding\n",
    "Token_train, Token_test, y_train, y_test = train_test_split(women_token, y, test_size = 0.3, random_state = 8307)\n",
    "\n",
    "print(y_train.value_counts(), '\\n')\n",
    "print(y_test.value_counts(), '\\n')\n",
    "print(Token_test[0:5])"
   ]
  },
  {
   "cell_type": "code",
   "execution_count": null,
   "id": "fc7d5246",
   "metadata": {},
   "outputs": [],
   "source": [
    "from gensim.models import Word2Vec"
   ]
  },
  {
   "cell_type": "code",
   "execution_count": null,
   "id": "8279498e",
   "metadata": {},
   "outputs": [],
   "source": [
    "# Train the Word2Vec model obtained from gensim over the processed training Token data\n",
    "# (using the default parameters of Word2Vec)\n",
    "model_word2vec = Word2Vec(Token_train)"
   ]
  },
  {
   "cell_type": "code",
   "execution_count": null,
   "id": "42c2d039",
   "metadata": {},
   "outputs": [],
   "source": [
    "# report the size of vocabulary for the trained word2vec model\n",
    "size_vocab = len(model_word2vec.wv.key_to_index)\n",
    "print('The Size of The Vocabulary:', size_vocab)"
   ]
  },
  {
   "cell_type": "code",
   "execution_count": null,
   "id": "759d3f84",
   "metadata": {},
   "outputs": [],
   "source": [
    "# save the word vectors into a local file named as 'embedding_word2vec.txt'\n",
    "word_vectors = model_word2vec.wv\n",
    "word_vectors.save_word2vec_format('embedding_word2vec.txt', binary = False)"
   ]
  },
  {
   "cell_type": "code",
   "execution_count": null,
   "id": "64b4b9a1",
   "metadata": {},
   "outputs": [],
   "source": [
    "# load the saved embeddings from the disk\n",
    "# create a embedding dictionary with the key as the word and the value as the corresponding numerical embedding vector\n",
    "from gensim.models import KeyedVectors\n",
    "embedding_dict = {}\n",
    "\n",
    "f = open('embedding_word2vec.txt', 'r')\n",
    "word_dim = f.readline().strip('\\n').split(' ')     # skip first line '3646 100\\n'\n",
    "n_word = int(word_dim[0])\n",
    "n_dim = int(word_dim[1])\n",
    "for line in f:\n",
    "    key_value = line.strip('\\n').split(' ')\n",
    "    embedding_dict[key_value[0]] = key_value[1:]\n",
    "f.close()\n",
    "\n",
    "if len(embedding_dict) == n_word:\n",
    "    print('The Shape of The Embedding Dictionary:', (n_word, n_dim))"
   ]
  },
  {
   "cell_type": "code",
   "execution_count": null,
   "id": "7ff77bb9",
   "metadata": {},
   "outputs": [],
   "source": [
    "from tensorflow.keras.preprocessing.text import Tokenizer"
   ]
  },
  {
   "cell_type": "code",
   "execution_count": null,
   "id": "0b414e81",
   "metadata": {},
   "outputs": [],
   "source": [
    "# define a Tokenizer() from tensorflow.keras.preprocessing.text, and fit it on the processed training Token data\n",
    "tokenizer = Tokenizer()\n",
    "tokenizer.fit_on_texts(Token_train)"
   ]
  },
  {
   "cell_type": "code",
   "execution_count": null,
   "id": "ca6d9b24",
   "metadata": {},
   "outputs": [],
   "source": [
    "# obtain the word index (a dictionary object with the format as {word:index}, and the index starts from 1)\n",
    "# initialize a zero embedding matrix\n",
    "word_index = tokenizer.word_index\n",
    "embedding_matrix = np.zeros((len(word_index)+1, n_dim))"
   ]
  },
  {
   "cell_type": "code",
   "execution_count": null,
   "id": "9b4450fa",
   "metadata": {},
   "outputs": [],
   "source": [
    "# iterate over the word index dictionary\n",
    "for k, v in word_index.items():\n",
    "    if embedding_dict.get(k) is not None:\n",
    "        embedding_matrix[v] = embedding_dict.get(k)\n",
    "        \n",
    "# report the shape of the embedding matrix\n",
    "print('The Shape of The Embedding Matrix:', embedding_matrix.shape)"
   ]
  },
  {
   "cell_type": "code",
   "execution_count": null,
   "id": "8a398f18",
   "metadata": {},
   "outputs": [],
   "source": [
    "embedding_matrix"
   ]
  },
  {
   "cell_type": "code",
   "execution_count": null,
   "id": "5da698b4",
   "metadata": {},
   "outputs": [],
   "source": [
    "# transfer the processed training texts into a list of index sequences\n",
    "# using the aforementioned fitted tokenizer\n",
    "train_sequences = tokenizer.texts_to_sequences(Token_train)\n",
    "print(train_sequences[0:5])"
   ]
  },
  {
   "cell_type": "code",
   "execution_count": null,
   "id": "785627f4",
   "metadata": {},
   "outputs": [],
   "source": [
    "# find the maximum length of the training sequences within the list\n",
    "train_max_len = -1\n",
    "for seq in train_sequences:\n",
    "    if len(seq) >= train_max_len:\n",
    "        train_max_len = len(seq)\n",
    "print('The Maximum ength of The Training Sequences:', train_max_len)"
   ]
  },
  {
   "cell_type": "code",
   "execution_count": null,
   "id": "bb5cffa8",
   "metadata": {},
   "outputs": [],
   "source": [
    "from tensorflow.keras.preprocessing.sequence import pad_sequences"
   ]
  },
  {
   "cell_type": "code",
   "execution_count": null,
   "id": "89ddfe90",
   "metadata": {},
   "outputs": [],
   "source": [
    "# use pad_sequences to pad the list of training sequences with the length of each sequence as the maximum length\n",
    "X_train = pad_sequences(train_sequences, maxlen = train_max_len, padding = 'post')\n",
    "X_train"
   ]
  },
  {
   "cell_type": "code",
   "execution_count": null,
   "id": "b54336ab",
   "metadata": {},
   "outputs": [],
   "source": [
    "# generate X_test based on the same tokenizer fitted over the training texts\n",
    "test_sequences = tokenizer.texts_to_sequences(Token_test)\n",
    "print(test_sequences[0:5])"
   ]
  },
  {
   "cell_type": "code",
   "execution_count": null,
   "id": "00318b7c",
   "metadata": {},
   "outputs": [],
   "source": [
    "# generate X_test based on the same tokenizer fitted over the training texts\n",
    "# note: the padding length for the test data is identical to the maximum length of the training data\n",
    "X_test = pad_sequences(test_sequences, maxlen = train_max_len, padding = 'post')\n",
    "X_test"
   ]
  },
  {
   "cell_type": "code",
   "execution_count": null,
   "id": "fafd9a61",
   "metadata": {},
   "outputs": [],
   "source": [
    "# report the shapes of X_train,y_train, X_test andy_test\n",
    "print('The Shape of X_train:', X_train.shape)\n",
    "print('The Shape of y_train:', y_train.shape)\n",
    "print('The Shape of X_test:', X_test.shape)\n",
    "print('The Shape of y_test:', y_test.shape)"
   ]
  },
  {
   "cell_type": "markdown",
   "id": "3345a5e2",
   "metadata": {},
   "source": [
    "### Build Model 2 with RNN"
   ]
  },
  {
   "cell_type": "code",
   "execution_count": null,
   "id": "24264805",
   "metadata": {},
   "outputs": [],
   "source": [
    "from keras.models import Sequential\n",
    "from keras.layers import Embedding, GRU, Dense"
   ]
  },
  {
   "cell_type": "code",
   "execution_count": null,
   "id": "3b291e40",
   "metadata": {},
   "outputs": [],
   "source": [
    "# define a word2vec embedding layer based on the embedding matrix via Keras\n",
    "word2vec_embedding = Embedding(input_dim = embedding_matrix.shape[0],\n",
    "                               output_dim = embedding_matrix.shape[1],\n",
    "                               input_length = train_max_len,\n",
    "                               weights = [embedding_matrix],\n",
    "                               trainable = False)"
   ]
  },
  {
   "cell_type": "markdown",
   "id": "aaee5248",
   "metadata": {},
   "source": [
    "### Add Different Layers to Model 2"
   ]
  },
  {
   "cell_type": "code",
   "execution_count": null,
   "id": "17d5b250",
   "metadata": {},
   "outputs": [],
   "source": [
    "import tensorflow as tf\n",
    "import keras\n",
    "from keras.models import Sequential\n",
    "from keras.layers import Dense, Dropout, Bidirectional, GRU\n",
    "from keras.callbacks import EarlyStopping"
   ]
  },
  {
   "cell_type": "code",
   "execution_count": null,
   "id": "b4fb0ab5",
   "metadata": {},
   "outputs": [],
   "source": [
    "# define the RNN model\n",
    "model_2 = Sequential()\n",
    "\n",
    "# Embedding layer\n",
    "model_2.add(word2vec_embedding)\n",
    "\n",
    "# GRU Layer\n",
    "model_2.add(GRU(1024, dropout = 0.5, return_sequences = True))\n",
    "\n",
    "# GRU Layer\n",
    "model_2.add(Bidirectional(GRU(128, dropout = 0.3)))\n",
    "# model_2.add(GRU(64, dropout = 0.1))\n",
    "\n",
    "# Output Dense layer\n",
    "model_2.add(Dense(y_train.shape[1], activation = 'softmax'))\n",
    "\n",
    "opt = tf.keras.optimizers.Adam(learning_rate = 0.001)\n",
    "\n",
    "model_2.compile(optimizer = opt,loss = \"categorical_crossentropy\", metrics = [\"accuracy\"])\n",
    "\n",
    "early_stop = EarlyStopping(monitor = \"val_loss\", mode = \"min\", verbose = 1, patience = 2)\n",
    "\n",
    "# Report the model structure \n",
    "model_2.summary()"
   ]
  },
  {
   "cell_type": "code",
   "execution_count": null,
   "id": "4daee87d",
   "metadata": {},
   "outputs": [],
   "source": [
    "from keras.utils.vis_utils import plot_model\n",
    "plot_model(model_2, './model_2.png', show_shapes = True)"
   ]
  },
  {
   "cell_type": "markdown",
   "id": "80d2f41c",
   "metadata": {},
   "source": [
    "### Fit the Model 2"
   ]
  },
  {
   "cell_type": "code",
   "execution_count": null,
   "id": "01c5b00a",
   "metadata": {},
   "outputs": [],
   "source": [
    "# train the model\n",
    "model_2.fit(X_train, y_train,\n",
    "            batch_size = 256,\n",
    "            epochs = 100,\n",
    "            validation_data = (X_test, y_test),\n",
    "            verbose = 1,\n",
    "            callbacks = early_stop)"
   ]
  },
  {
   "cell_type": "markdown",
   "id": "9388389d",
   "metadata": {},
   "source": [
    "### Evaluation of Model 2"
   ]
  },
  {
   "cell_type": "code",
   "execution_count": null,
   "id": "e43024fa",
   "metadata": {},
   "outputs": [],
   "source": [
    "# report the accuracy scores for the training and test set\n",
    "model_2_train_acc = model_2.evaluate(X_train, y_train)[1]     # [loss, acc]\n",
    "model_2_test_acc = model_2.evaluate(X_test, y_test)[1]\n",
    "print('The Accuracy Score for The Training Set:', model_2_train_acc)\n",
    "print('The Accuracy Score for The Test Set:', model_2_test_acc)"
   ]
  },
  {
   "cell_type": "markdown",
   "id": "3e82b40e",
   "metadata": {},
   "source": [
    "### Save Model 2"
   ]
  },
  {
   "cell_type": "code",
   "execution_count": null,
   "id": "8a89fa32",
   "metadata": {},
   "outputs": [],
   "source": [
    "!mkdir -p saved_model\n",
    "model_2.save('./saved_model/RNN')"
   ]
  },
  {
   "cell_type": "markdown",
   "id": "7e90dc8a",
   "metadata": {},
   "source": [
    "### Prediction of X_test by Model 2"
   ]
  },
  {
   "cell_type": "code",
   "execution_count": null,
   "id": "9c92fd3a",
   "metadata": {},
   "outputs": [],
   "source": [
    "y_test_sentiment = []\n",
    "for line in y_test.values:\n",
    "    sc = np.argmax(line)\n",
    "    if sc == 0:\n",
    "        y_test_sentiment.append('Negative')\n",
    "    elif sc == 1:\n",
    "        y_test_sentiment.append('Neutral')\n",
    "    elif sc == 2:\n",
    "        y_test_sentiment.append('Positive')\n",
    "y_test_sentiment[0:5]"
   ]
  },
  {
   "cell_type": "code",
   "execution_count": null,
   "id": "07924314",
   "metadata": {},
   "outputs": [],
   "source": [
    "# make sentiment predictions on those collected data, here X_test\n",
    "model_2_pred = model_2.predict(X_test)\n",
    "model_2_pred"
   ]
  },
  {
   "cell_type": "code",
   "execution_count": null,
   "id": "7154cac5",
   "metadata": {},
   "outputs": [],
   "source": [
    "# make sentiment predictions on those collected data, here X_test\n",
    "model_2_sentiment = []\n",
    "for line in  model_2_pred:\n",
    "    sc = np.argmax(line)\n",
    "    if sc == 0:\n",
    "        model_2_sentiment.append('Negative')\n",
    "    elif sc == 1:\n",
    "        model_2_sentiment.append('Neutral')\n",
    "    elif sc == 2:\n",
    "        model_2_sentiment.append('Positive')\n",
    "model_2_sentiment[0:5]"
   ]
  },
  {
   "cell_type": "code",
   "execution_count": null,
   "id": "0b047a67",
   "metadata": {},
   "outputs": [],
   "source": [
    "# for each tweet, show the sentiment scores (predicted probability) together with the text\n",
    "model_2_info = pd.DataFrame()\n",
    "model_2_info['Review Token'] = Token_test\n",
    "model_2_info['True Sentiment'] = y_test_sentiment\n",
    "model_2_info['RNN Sentiment'] = model_2_sentiment\n",
    "model_2_info"
   ]
  },
  {
   "cell_type": "code",
   "execution_count": null,
   "id": "5510403a",
   "metadata": {},
   "outputs": [],
   "source": [
    "women_info = pd.DataFrame()\n",
    "women_info['Preprocessed Review Text'] = model_1_info['Preprocessed Review Text']\n",
    "women_info['Review Token'] = model_2_info['Review Token']\n",
    "women_info['True Sentiment'] =  y_test_sentiment\n",
    "women_info['FCNN Sentiment'] = model_1_sentiment\n",
    "women_info['RNN Sentiment'] = model_2_sentiment\n",
    "women_info"
   ]
  },
  {
   "cell_type": "code",
   "execution_count": null,
   "id": "fe800d38",
   "metadata": {},
   "outputs": [],
   "source": [
    "women_info.to_csv('women_info.csv', index = False)"
   ]
  },
  {
   "cell_type": "markdown",
   "id": "475ad5a7",
   "metadata": {},
   "source": [
    "## __Phase 2: Prediction__\n",
    "> 1. Predict the sentiment on 'chatbots-virtual-assistant-Bitext-sample.csv'   \n",
    "> 2. Use the Model 2: Recurrent Neural Network (RNN)"
   ]
  },
  {
   "cell_type": "code",
   "execution_count": 31,
   "id": "3c5a42b4",
   "metadata": {},
   "outputs": [
    {
     "data": {
      "text/html": [
       "<div>\n",
       "<style scoped>\n",
       "    .dataframe tbody tr th:only-of-type {\n",
       "        vertical-align: middle;\n",
       "    }\n",
       "\n",
       "    .dataframe tbody tr th {\n",
       "        vertical-align: top;\n",
       "    }\n",
       "\n",
       "    .dataframe thead th {\n",
       "        text-align: right;\n",
       "    }\n",
       "</style>\n",
       "<table border=\"1\" class=\"dataframe\">\n",
       "  <thead>\n",
       "    <tr style=\"text-align: right;\">\n",
       "      <th></th>\n",
       "      <th>flags</th>\n",
       "      <th>utterance</th>\n",
       "      <th>category</th>\n",
       "      <th>intent</th>\n",
       "    </tr>\n",
       "  </thead>\n",
       "  <tbody>\n",
       "    <tr>\n",
       "      <th>0</th>\n",
       "      <td>BILC</td>\n",
       "      <td>I don't have an online account, what do I have...</td>\n",
       "      <td>ACCOUNT</td>\n",
       "      <td>create_account</td>\n",
       "    </tr>\n",
       "    <tr>\n",
       "      <th>1</th>\n",
       "      <td>BILQZ</td>\n",
       "      <td>can you tell me if i can regisger two accounts...</td>\n",
       "      <td>ACCOUNT</td>\n",
       "      <td>create_account</td>\n",
       "    </tr>\n",
       "    <tr>\n",
       "      <th>2</th>\n",
       "      <td>BPLC</td>\n",
       "      <td>I have no online account, open one, please</td>\n",
       "      <td>ACCOUNT</td>\n",
       "      <td>create_account</td>\n",
       "    </tr>\n",
       "    <tr>\n",
       "      <th>3</th>\n",
       "      <td>BIPLD</td>\n",
       "      <td>could you ask an agent how to open an account,...</td>\n",
       "      <td>ACCOUNT</td>\n",
       "      <td>create_account</td>\n",
       "    </tr>\n",
       "    <tr>\n",
       "      <th>4</th>\n",
       "      <td>BLQC</td>\n",
       "      <td>i want an online account, create one</td>\n",
       "      <td>ACCOUNT</td>\n",
       "      <td>create_account</td>\n",
       "    </tr>\n",
       "  </tbody>\n",
       "</table>\n",
       "</div>"
      ],
      "text/plain": [
       "   flags                                          utterance category  \\\n",
       "0   BILC  I don't have an online account, what do I have...  ACCOUNT   \n",
       "1  BILQZ  can you tell me if i can regisger two accounts...  ACCOUNT   \n",
       "2   BPLC         I have no online account, open one, please  ACCOUNT   \n",
       "3  BIPLD  could you ask an agent how to open an account,...  ACCOUNT   \n",
       "4   BLQC               i want an online account, create one  ACCOUNT   \n",
       "\n",
       "           intent  \n",
       "0  create_account  \n",
       "1  create_account  \n",
       "2  create_account  \n",
       "3  create_account  \n",
       "4  create_account  "
      ]
     },
     "execution_count": 31,
     "metadata": {},
     "output_type": "execute_result"
    }
   ],
   "source": [
    "chat_path = '../content/archive/20000-Utterances-Training-dataset-for-chatbots-virtual-assistant-Bitext-sample' + \\\n",
    "'/20000-Utterances-Training-dataset-for-chatbots-virtual-assistant-Bitext-sample' + \\\n",
    "'/20000-Utterances-Training-dataset-for-chatbots-virtual-assistant-Bitext-sample.csv'\n",
    "\n",
    "chat_df = pd.read_csv(chat_path)\n",
    "chat_df.head()"
   ]
  },
  {
   "cell_type": "code",
   "execution_count": null,
   "id": "f5f95b39",
   "metadata": {},
   "outputs": [],
   "source": [
    "chat_processed = []\n",
    "for i in tqdm(range(chat_df.shape[0])):\n",
    "    chat_processed .append(processTextToToken(chat_df.iloc[i, 1])) # utterance"
   ]
  },
  {
   "cell_type": "code",
   "execution_count": null,
   "id": "fdf9420a",
   "metadata": {},
   "outputs": [],
   "source": [
    "for i in range(5):\n",
    "    print(chat_processed[i], '\\n')"
   ]
  },
  {
   "cell_type": "code",
   "execution_count": null,
   "id": "704e7d49",
   "metadata": {},
   "outputs": [],
   "source": [
    "chat_sequences = tokenizer.texts_to_sequences(chat_processed)\n",
    "chat_X = pad_sequences(chat_sequences, maxlen = train_max_len, padding = 'post')\n",
    "chat_X"
   ]
  },
  {
   "cell_type": "code",
   "execution_count": null,
   "id": "98f5553a",
   "metadata": {},
   "outputs": [],
   "source": [
    "# make sentiment predictions on those collected data\n",
    "chat_y = model_2.predict(chat_X) # RNN\n",
    "chat_y"
   ]
  },
  {
   "cell_type": "code",
   "execution_count": null,
   "id": "b66b4e7b",
   "metadata": {},
   "outputs": [],
   "source": [
    "# make sentiment predictions on those collected data\n",
    "chat_sentiment = []\n",
    "for line in  chat_y:\n",
    "    sc = np.argmax(line)\n",
    "    if sc == 0:\n",
    "        chat_sentiment.append('Negative')\n",
    "    elif sc == 1:\n",
    "        chat_sentiment.append('Neutral')\n",
    "    elif sc == 2:\n",
    "        chat_sentiment.append('Positive')\n",
    "chat_sentiment[0:5]"
   ]
  },
  {
   "cell_type": "code",
   "execution_count": null,
   "id": "d6ab9314",
   "metadata": {},
   "outputs": [],
   "source": [
    "chat_info = pd.DataFrame()\n",
    "chat_info['utterance'] = chat_df['utterance']\n",
    "chat_info['Utterance Token'] = chat_processed\n",
    "chat_info['RNN Sentiment'] = chat_sentiment\n",
    "chat_info"
   ]
  },
  {
   "cell_type": "code",
   "execution_count": null,
   "id": "26c03f44",
   "metadata": {},
   "outputs": [],
   "source": [
    "chat_info['RNN Sentiment'].value_counts()"
   ]
  },
  {
   "cell_type": "code",
   "execution_count": null,
   "id": "f63188ad",
   "metadata": {},
   "outputs": [],
   "source": [
    "sns.set_style('whitegrid')\n",
    "sns.countplot(x = 'RNN Sentiment', data = chat_info, palette = 'summer')"
   ]
  },
  {
   "cell_type": "code",
   "execution_count": null,
   "id": "5c56eeb9",
   "metadata": {},
   "outputs": [],
   "source": [
    "chat_info.to_csv('chat_info.csv', index = False)"
   ]
  },
  {
   "cell_type": "markdown",
   "id": "5a26974b",
   "metadata": {},
   "source": [
    "# __Rating Analysis on Womens Clothing E-Commerce Reviews__\n",
    "> 1. Train and Test some model on the dataset 'Womens Clothing E-Commerce Reviews.csv'\n",
    "> > + Recurrent Neural Network (RNN)\n",
    "> 2. Predict the rating on 'chatbots-virtual-assistant-Bitext-sample.csv'\n",
    "> 3. It is better to restart the kernel to run the Rating Analysis."
   ]
  },
  {
   "cell_type": "markdown",
   "id": "7c87c3a0",
   "metadata": {},
   "source": [
    "## __Phase 1: Training and Test__"
   ]
  },
  {
   "cell_type": "code",
   "execution_count": null,
   "id": "753b6bff",
   "metadata": {},
   "outputs": [],
   "source": [
    "import pandas as pd\n",
    "import numpy as np\n",
    "import matplotlib.pyplot as plt\n",
    "import seaborn as sns"
   ]
  },
  {
   "cell_type": "markdown",
   "id": "aa38cb7c",
   "metadata": {},
   "source": [
    "### Load the dataset"
   ]
  },
  {
   "cell_type": "code",
   "execution_count": 32,
   "id": "3d548738",
   "metadata": {},
   "outputs": [
    {
     "data": {
      "text/html": [
       "<div>\n",
       "<style scoped>\n",
       "    .dataframe tbody tr th:only-of-type {\n",
       "        vertical-align: middle;\n",
       "    }\n",
       "\n",
       "    .dataframe tbody tr th {\n",
       "        vertical-align: top;\n",
       "    }\n",
       "\n",
       "    .dataframe thead th {\n",
       "        text-align: right;\n",
       "    }\n",
       "</style>\n",
       "<table border=\"1\" class=\"dataframe\">\n",
       "  <thead>\n",
       "    <tr style=\"text-align: right;\">\n",
       "      <th></th>\n",
       "      <th>Clothing ID</th>\n",
       "      <th>Age</th>\n",
       "      <th>Title</th>\n",
       "      <th>Review Text</th>\n",
       "      <th>Rating</th>\n",
       "      <th>Recommended IND</th>\n",
       "      <th>Positive Feedback Count</th>\n",
       "      <th>Division Name</th>\n",
       "      <th>Department Name</th>\n",
       "      <th>Class Name</th>\n",
       "    </tr>\n",
       "  </thead>\n",
       "  <tbody>\n",
       "    <tr>\n",
       "      <th>0</th>\n",
       "      <td>1077</td>\n",
       "      <td>60</td>\n",
       "      <td>Some major design flaws</td>\n",
       "      <td>I had such high hopes for this dress and reall...</td>\n",
       "      <td>3</td>\n",
       "      <td>0</td>\n",
       "      <td>0</td>\n",
       "      <td>General</td>\n",
       "      <td>Dresses</td>\n",
       "      <td>Dresses</td>\n",
       "    </tr>\n",
       "    <tr>\n",
       "      <th>1</th>\n",
       "      <td>1049</td>\n",
       "      <td>50</td>\n",
       "      <td>My favorite buy!</td>\n",
       "      <td>I love, love, love this jumpsuit. it's fun, fl...</td>\n",
       "      <td>5</td>\n",
       "      <td>1</td>\n",
       "      <td>0</td>\n",
       "      <td>General Petite</td>\n",
       "      <td>Bottoms</td>\n",
       "      <td>Pants</td>\n",
       "    </tr>\n",
       "    <tr>\n",
       "      <th>2</th>\n",
       "      <td>847</td>\n",
       "      <td>47</td>\n",
       "      <td>Flattering shirt</td>\n",
       "      <td>This shirt is very flattering to all due to th...</td>\n",
       "      <td>5</td>\n",
       "      <td>1</td>\n",
       "      <td>6</td>\n",
       "      <td>General</td>\n",
       "      <td>Tops</td>\n",
       "      <td>Blouses</td>\n",
       "    </tr>\n",
       "    <tr>\n",
       "      <th>3</th>\n",
       "      <td>1080</td>\n",
       "      <td>49</td>\n",
       "      <td>Not for the very petite</td>\n",
       "      <td>I love tracy reese dresses, but this one is no...</td>\n",
       "      <td>2</td>\n",
       "      <td>0</td>\n",
       "      <td>4</td>\n",
       "      <td>General</td>\n",
       "      <td>Dresses</td>\n",
       "      <td>Dresses</td>\n",
       "    </tr>\n",
       "    <tr>\n",
       "      <th>4</th>\n",
       "      <td>858</td>\n",
       "      <td>39</td>\n",
       "      <td>Cagrcoal shimmer fun</td>\n",
       "      <td>I aded this in my basket at hte last mintue to...</td>\n",
       "      <td>5</td>\n",
       "      <td>1</td>\n",
       "      <td>1</td>\n",
       "      <td>General Petite</td>\n",
       "      <td>Tops</td>\n",
       "      <td>Knits</td>\n",
       "    </tr>\n",
       "  </tbody>\n",
       "</table>\n",
       "</div>"
      ],
      "text/plain": [
       "   Clothing ID  Age                    Title  \\\n",
       "0         1077   60  Some major design flaws   \n",
       "1         1049   50         My favorite buy!   \n",
       "2          847   47         Flattering shirt   \n",
       "3         1080   49  Not for the very petite   \n",
       "4          858   39     Cagrcoal shimmer fun   \n",
       "\n",
       "                                         Review Text  Rating  Recommended IND  \\\n",
       "0  I had such high hopes for this dress and reall...       3                0   \n",
       "1  I love, love, love this jumpsuit. it's fun, fl...       5                1   \n",
       "2  This shirt is very flattering to all due to th...       5                1   \n",
       "3  I love tracy reese dresses, but this one is no...       2                0   \n",
       "4  I aded this in my basket at hte last mintue to...       5                1   \n",
       "\n",
       "   Positive Feedback Count   Division Name Department Name Class Name  \n",
       "0                        0         General         Dresses    Dresses  \n",
       "1                        0  General Petite         Bottoms      Pants  \n",
       "2                        6         General            Tops    Blouses  \n",
       "3                        4         General         Dresses    Dresses  \n",
       "4                        1  General Petite            Tops      Knits  "
      ]
     },
     "execution_count": 32,
     "metadata": {},
     "output_type": "execute_result"
    }
   ],
   "source": [
    "women_df = pd.read_csv('Womens Clothing E-Commerce Reviews.csv')\n",
    "women_df.drop('Unnamed: 0', axis = 1, inplace = True)     # drop some column\n",
    "women_df.dropna(inplace = True)     # modify in the original data\n",
    "women_df.reset_index(drop = True, inplace = True)     # reset index after dropna\n",
    "women_df.head()"
   ]
  },
  {
   "cell_type": "code",
   "execution_count": null,
   "id": "a114430a",
   "metadata": {},
   "outputs": [],
   "source": [
    "women_df['Rating'].value_counts()"
   ]
  },
  {
   "cell_type": "code",
   "execution_count": null,
   "id": "f0164fed",
   "metadata": {},
   "outputs": [],
   "source": [
    "sns.set_style('whitegrid')\n",
    "sns.countplot(x = 'Rating',data = women_df, palette = 'YlGnBu_r')"
   ]
  },
  {
   "cell_type": "markdown",
   "id": "e81e997f",
   "metadata": {},
   "source": [
    "#### The Rating is unevenly distributed. Rating = 5 has the largest count number, and is almost equal to the sum of the counts of other levels.¶"
   ]
  },
  {
   "cell_type": "markdown",
   "id": "6d6dcd6e",
   "metadata": {},
   "source": [
    "### Resampling\n",
    "> to make Rating is equally distributed, in which each level has 8,000 data samples"
   ]
  },
  {
   "cell_type": "code",
   "execution_count": null,
   "id": "0caf673c",
   "metadata": {},
   "outputs": [],
   "source": [
    "# Level=5 has data samples > 8000\n",
    "# so we sample 8000 from all samples without replacement, whichs no repetition\n",
    "# by default replace = False, means sample without replacement\n",
    "df_l5 = women_df[women_df['Rating'] == 5].sample(\n",
    "    n = 8000, replace = False, random_state = 1\n",
    ")\n",
    "df_l1 = women_df[women_df['Rating'] == 1]\n",
    "df_l2 = women_df[women_df['Rating'] == 2]\n",
    "df_l3 = women_df[women_df['Rating'] == 3]\n",
    "df_l4 = women_df[women_df['Rating'] == 4]"
   ]
  },
  {
   "cell_type": "code",
   "execution_count": null,
   "id": "7033ed9a",
   "metadata": {},
   "outputs": [],
   "source": [
    "# Level=1, 2, 3, 4 has samples < 8000\n",
    "# so we sample them to 8000 with replacement, which have repetitions\n",
    "# replace = True, means sample with replacement\n",
    "df_l1_over = df_l1.sample(8000, replace = True, random_state = 1)\n",
    "df_l2_over = df_l2.sample(8000, replace = True, random_state = 1)\n",
    "df_l3_over = df_l3.sample(8000, replace = True, random_state = 1)\n",
    "df_l4_over = df_l4.sample(8000, replace = True, random_state = 1)\n",
    "women_sample_df = pd.concat([df_l5, df_l1_over, df_l2_over, df_l3_over, df_l4_over], axis = 0)\n",
    "# reset index after resampling\n",
    "women_sample_df.reset_index(drop = True, inplace = True)\n",
    "women_sample_df.shape"
   ]
  },
  {
   "cell_type": "code",
   "execution_count": null,
   "id": "158a671b",
   "metadata": {},
   "outputs": [],
   "source": [
    "sns.set_style('whitegrid')\n",
    "sns.countplot(x = 'Rating',data = women_sample_df, palette = 'YlGnBu_r')"
   ]
  },
  {
   "cell_type": "markdown",
   "id": "0f443d46",
   "metadata": {},
   "source": [
    "### Word Embedding"
   ]
  },
  {
   "cell_type": "code",
   "execution_count": null,
   "id": "3b24fbfa",
   "metadata": {},
   "outputs": [],
   "source": [
    "women_sample_df.head()"
   ]
  },
  {
   "cell_type": "code",
   "execution_count": null,
   "id": "700eea3f",
   "metadata": {},
   "outputs": [],
   "source": [
    "import re\n",
    "\n",
    "import nltk\n",
    "nltk.download('stopwords')\n",
    "nltk.download('punkt')\n",
    "from nltk.tokenize import word_tokenize\n",
    "from nltk.tokenize import WordPunctTokenizer\n",
    "from nltk.corpus import stopwords\n",
    "from nltk.stem.porter import PorterStemmer\n",
    "from nltk.stem import WordNetLemmatizer"
   ]
  },
  {
   "cell_type": "code",
   "execution_count": null,
   "id": "4676b321",
   "metadata": {},
   "outputs": [],
   "source": [
    "# define the stop words\n",
    "stopwords = stopwords.words(\"english\")\n",
    "\n",
    "def processTextToToken(tweet):\n",
    "\n",
    "    # convert all words in the tweet into the lower case\n",
    "    tweet = tweet.lower()\n",
    "\n",
    "    # remove the urls\n",
    "    tweet = re.sub('http[s]?://(?:[a-zA-Z]|[0-9]|[$-_@.&+#]|[!*\\(\\),]|'\\\n",
    "                             '(?:%[0-9a-fA-F][0-9a-fA-F]))+','', tweet)\n",
    "    # remove the @ and references\n",
    "    tweet = re.sub(r\"(@[A-Za-z0-9_]+)\",\"\", tweet)\n",
    "    # remove special charaecters\n",
    "    tweet = re.sub(r'[\\#\\:\\)\\n\\/\\_\\-\\&]','', tweet)\n",
    "\n",
    "    # tokenize the string into list of words\n",
    "    word_list = word_tokenize(tweet)\n",
    "    \n",
    "    # filter out the stop words and punctuations in the list\n",
    "    word_list = [w for w in word_list if (not w in stopwords) and (w.isalpha())]\n",
    "\n",
    "    # transfer all remained words into the word stems i.e., perform stemming\n",
    "    porter = PorterStemmer()\n",
    "    word_list = [porter.stem(w) for w in word_list]\n",
    "\n",
    "    return word_list"
   ]
  },
  {
   "cell_type": "code",
   "execution_count": null,
   "id": "061028bd",
   "metadata": {},
   "outputs": [],
   "source": [
    "from tqdm import tqdm"
   ]
  },
  {
   "cell_type": "code",
   "execution_count": null,
   "id": "6ca1f911",
   "metadata": {},
   "outputs": [],
   "source": [
    "women_token = []\n",
    "for i in tqdm(range(women_sample_df.shape[0])):\n",
    "    women_token.append(processTextToToken(women_sample_df.iloc[i, 3]))"
   ]
  },
  {
   "cell_type": "code",
   "execution_count": null,
   "id": "69b75a56",
   "metadata": {},
   "outputs": [],
   "source": [
    "for i in range(5):\n",
    "    print(women_token[i], '\\n')"
   ]
  },
  {
   "cell_type": "code",
   "execution_count": null,
   "id": "c96a1236",
   "metadata": {},
   "outputs": [],
   "source": [
    "y = pd.get_dummies(women_sample_df['Rating'])\n",
    "y.head()"
   ]
  },
  {
   "cell_type": "code",
   "execution_count": null,
   "id": "85a153ee",
   "metadata": {},
   "outputs": [],
   "source": [
    "from sklearn.model_selection import train_test_split\n",
    "\n",
    "# y is the previous one-hot encoding\n",
    "Token_train, Token_test, y_train, y_test = train_test_split(women_token, y, test_size = 0.3, random_state = 8307)\n",
    "\n",
    "print(y_train.value_counts(), '\\n')\n",
    "print(y_test.value_counts(), '\\n')\n",
    "print(Token_test[0:5])"
   ]
  },
  {
   "cell_type": "code",
   "execution_count": null,
   "id": "bfec88a7",
   "metadata": {},
   "outputs": [],
   "source": [
    "from gensim.models import Word2Vec"
   ]
  },
  {
   "cell_type": "code",
   "execution_count": null,
   "id": "ec473ba4",
   "metadata": {},
   "outputs": [],
   "source": [
    "# Train the Word2Vec model obtained from gensim over the processed training Token data\n",
    "# (using the default parameters of Word2Vec)\n",
    "model_word2vec = Word2Vec(Token_train)"
   ]
  },
  {
   "cell_type": "code",
   "execution_count": null,
   "id": "3cf137c5",
   "metadata": {},
   "outputs": [],
   "source": [
    "# report the size of vocabulary for the trained word2vec model\n",
    "size_vocab = len(model_word2vec.wv.key_to_index)\n",
    "print('The Size of The Vocabulary:', size_vocab)"
   ]
  },
  {
   "cell_type": "code",
   "execution_count": null,
   "id": "ea6d3c64",
   "metadata": {},
   "outputs": [],
   "source": [
    "# save the word vectors into a local file named as 'new_embedding_word2vec.txt'\n",
    "word_vectors = model_word2vec.wv\n",
    "word_vectors.save_word2vec_format('new_embedding_word2vec.txt', binary = False)"
   ]
  },
  {
   "cell_type": "code",
   "execution_count": null,
   "id": "16a729a9",
   "metadata": {},
   "outputs": [],
   "source": [
    "# load the saved embeddings from the disk\n",
    "# create a embedding dictionary with the key as the word and the value as the corresponding numerical embedding vector\n",
    "from gensim.models import KeyedVectors\n",
    "embedding_dict = {}\n",
    "\n",
    "f = open('new_embedding_word2vec.txt', 'r')\n",
    "word_dim = f.readline().strip('\\n').split(' ')     # skip first line '3646 100\\n'\n",
    "n_word = int(word_dim[0])\n",
    "n_dim = int(word_dim[1])\n",
    "for line in f:\n",
    "    key_value = line.strip('\\n').split(' ')\n",
    "    embedding_dict[key_value[0]] = key_value[1:]\n",
    "f.close()\n",
    "\n",
    "if len(embedding_dict) == n_word:\n",
    "    print('The Shape of The Embedding Dictionary:', (n_word, n_dim))"
   ]
  },
  {
   "cell_type": "code",
   "execution_count": null,
   "id": "8dccd371",
   "metadata": {},
   "outputs": [],
   "source": [
    "from tensorflow.keras.preprocessing.text import Tokenizer"
   ]
  },
  {
   "cell_type": "code",
   "execution_count": null,
   "id": "839c5050",
   "metadata": {},
   "outputs": [],
   "source": [
    "# define a Tokenizer() from tensorflow.keras.preprocessing.text, and fit it on the processed training Token data\n",
    "tokenizer = Tokenizer()\n",
    "tokenizer.fit_on_texts(Token_train)"
   ]
  },
  {
   "cell_type": "code",
   "execution_count": null,
   "id": "d4670971",
   "metadata": {},
   "outputs": [],
   "source": [
    "# obtain the word index (a dictionary object with the format as {word:index}, and the index starts from 1)\n",
    "# initialize a zero embedding matrix\n",
    "word_index = tokenizer.word_index\n",
    "embedding_matrix = np.zeros((len(word_index)+1, n_dim))"
   ]
  },
  {
   "cell_type": "code",
   "execution_count": null,
   "id": "f0a76969",
   "metadata": {},
   "outputs": [],
   "source": [
    "# iterate over the word index dictionary\n",
    "for k, v in word_index.items():\n",
    "    if embedding_dict.get(k) is not None:\n",
    "        embedding_matrix[v] = embedding_dict.get(k)\n",
    "        \n",
    "# report the shape of the embedding matrix\n",
    "print('The Shape of The Embedding Matrix:', embedding_matrix.shape)"
   ]
  },
  {
   "cell_type": "code",
   "execution_count": null,
   "id": "2d5107dc",
   "metadata": {},
   "outputs": [],
   "source": [
    "embedding_matrix"
   ]
  },
  {
   "cell_type": "code",
   "execution_count": null,
   "id": "f96edd32",
   "metadata": {},
   "outputs": [],
   "source": [
    "# transfer the processed training texts into a list of index sequences\n",
    "# using the aforementioned fitted tokenizer\n",
    "train_sequences = tokenizer.texts_to_sequences(Token_train)\n",
    "print(train_sequences[0:5])"
   ]
  },
  {
   "cell_type": "code",
   "execution_count": null,
   "id": "2ae3af7e",
   "metadata": {},
   "outputs": [],
   "source": [
    "# find the maximum length of the training sequences within the list\n",
    "train_max_len = -1\n",
    "for seq in train_sequences:\n",
    "    if len(seq) >= train_max_len:\n",
    "        train_max_len = len(seq)\n",
    "print('The Maximum ength of The Training Sequences:', train_max_len)"
   ]
  },
  {
   "cell_type": "code",
   "execution_count": null,
   "id": "c2a899cd",
   "metadata": {},
   "outputs": [],
   "source": [
    "from tensorflow.keras.preprocessing.sequence import pad_sequences"
   ]
  },
  {
   "cell_type": "code",
   "execution_count": null,
   "id": "81ca0ca2",
   "metadata": {},
   "outputs": [],
   "source": [
    "# use pad_sequences to pad the list of training sequences with the length of each sequence as the maximum length\n",
    "X_train = pad_sequences(train_sequences, maxlen = train_max_len, padding = 'post')\n",
    "X_train"
   ]
  },
  {
   "cell_type": "code",
   "execution_count": null,
   "id": "235b9e50",
   "metadata": {},
   "outputs": [],
   "source": [
    "# generate X_test based on the same tokenizer fitted over the training texts\n",
    "test_sequences = tokenizer.texts_to_sequences(Token_test)\n",
    "print(test_sequences[0:5])"
   ]
  },
  {
   "cell_type": "code",
   "execution_count": null,
   "id": "cef42d85",
   "metadata": {},
   "outputs": [],
   "source": [
    "# generate X_test based on the same tokenizer fitted over the training texts\n",
    "# note: the padding length for the test data is identical to the maximum length of the training data\n",
    "X_test = pad_sequences(test_sequences, maxlen = train_max_len, padding = 'post')\n",
    "X_test"
   ]
  },
  {
   "cell_type": "code",
   "execution_count": null,
   "id": "db094a9b",
   "metadata": {},
   "outputs": [],
   "source": [
    "# report the shapes of X_train,y_train, X_test andy_test\n",
    "print('The Shape of X_train:', X_train.shape)\n",
    "print('The Shape of y_train:', y_train.shape)\n",
    "print('The Shape of X_test:', X_test.shape)\n",
    "print('The Shape of y_test:', y_test.shape)"
   ]
  },
  {
   "cell_type": "markdown",
   "id": "5a707326",
   "metadata": {},
   "source": [
    "### Build Model 3 with RNN"
   ]
  },
  {
   "cell_type": "code",
   "execution_count": null,
   "id": "2df8ede9",
   "metadata": {},
   "outputs": [],
   "source": [
    "from keras.models import Sequential\n",
    "from keras.layers import Embedding, GRU, Dense, LSTM"
   ]
  },
  {
   "cell_type": "code",
   "execution_count": null,
   "id": "82175aa5",
   "metadata": {},
   "outputs": [],
   "source": [
    "# define a word2vec embedding layer based on the embedding matrix via Keras\n",
    "word2vec_embedding = Embedding(input_dim = embedding_matrix.shape[0],\n",
    "                               output_dim = embedding_matrix.shape[1],\n",
    "                               input_length = train_max_len,\n",
    "                               weights = [embedding_matrix],\n",
    "                               trainable = False)"
   ]
  },
  {
   "cell_type": "markdown",
   "id": "cc6be205",
   "metadata": {},
   "source": [
    "### Add Different Layers to Model 3"
   ]
  },
  {
   "cell_type": "code",
   "execution_count": null,
   "id": "f165ffb8",
   "metadata": {},
   "outputs": [],
   "source": [
    "import tensorflow as tf\n",
    "import keras\n",
    "from keras.models import Sequential\n",
    "from keras.layers import Dense, Dropout, Bidirectional, GRU\n",
    "from keras.callbacks import EarlyStopping"
   ]
  },
  {
   "cell_type": "code",
   "execution_count": null,
   "id": "62ce02ae",
   "metadata": {},
   "outputs": [],
   "source": [
    "# define the RNN model\n",
    "model_3 = Sequential()\n",
    "\n",
    "# Embedding layer\n",
    "model_3.add(word2vec_embedding)\n",
    "\n",
    "# GRU Layer\n",
    "model_3.add(GRU(1024, dropout = 0.5, return_sequences = True))\n",
    "\n",
    "# GRU Layer\n",
    "model_3.add(Bidirectional(GRU(256, dropout = 0.5)))\n",
    "# model_2.add(GRU(64, dropout = 0.1))\n",
    "\n",
    "# Output Dense layer\n",
    "model_3.add(Dense(y_train.shape[1], activation = 'softmax'))\n",
    "\n",
    "opt = tf.keras.optimizers.Adam(learning_rate = 0.001)\n",
    "\n",
    "model_3.compile(optimizer = opt,loss = \"categorical_crossentropy\", metrics = [\"accuracy\"])\n",
    "\n",
    "early_stop = EarlyStopping(monitor = \"val_loss\", mode = \"min\", verbose = 1, patience = 2)\n",
    "\n",
    "# Report the model structure \n",
    "model_3.summary()"
   ]
  },
  {
   "cell_type": "code",
   "execution_count": null,
   "id": "bd7bf8f5",
   "metadata": {},
   "outputs": [],
   "source": [
    "from keras.utils.vis_utils import plot_model\n",
    "plot_model(model_3, './model_3.png', show_shapes = True)"
   ]
  },
  {
   "cell_type": "markdown",
   "id": "3def28b3",
   "metadata": {},
   "source": [
    "### Fit the Model 3"
   ]
  },
  {
   "cell_type": "code",
   "execution_count": null,
   "id": "fa3cfe4d",
   "metadata": {},
   "outputs": [],
   "source": [
    "# train the model\n",
    "model_3.fit(X_train, y_train,\n",
    "            batch_size = 256,\n",
    "            epochs = 100,\n",
    "            validation_data = (X_test, y_test),\n",
    "            verbose = 1,\n",
    "            callbacks = early_stop)"
   ]
  },
  {
   "cell_type": "markdown",
   "id": "89604f07",
   "metadata": {},
   "source": [
    "### Or Load the Pre-trained Model 3\n",
    "> I add this block since after the first time I fitted the model 3, I cleared the cache. Therefore, I need to load the model to generated the dataset I want, instead of refitting the model 3."
   ]
  },
  {
   "cell_type": "code",
   "execution_count": null,
   "id": "e599889e",
   "metadata": {},
   "outputs": [],
   "source": [
    "model_3 = keras.models.load_model('./saved_model/RNN2')"
   ]
  },
  {
   "cell_type": "markdown",
   "id": "064945e8",
   "metadata": {},
   "source": [
    "### Evaluation of Model 3"
   ]
  },
  {
   "cell_type": "code",
   "execution_count": null,
   "id": "5b0f3089",
   "metadata": {},
   "outputs": [],
   "source": [
    "# report the accuracy scores for the training and test set\n",
    "model_3_train_acc = model_3.evaluate(X_train, y_train)[1]     # [loss, acc]\n",
    "model_3_test_acc = model_3.evaluate(X_test, y_test)[1]\n",
    "print('The Accuracy Score for The Training Set:', model_3_train_acc)\n",
    "print('The Accuracy Score for The Test Set:', model_3_test_acc)"
   ]
  },
  {
   "cell_type": "markdown",
   "id": "b7d02723",
   "metadata": {},
   "source": [
    "### Save Model 3"
   ]
  },
  {
   "cell_type": "code",
   "execution_count": null,
   "id": "6809688b",
   "metadata": {},
   "outputs": [],
   "source": [
    "!mkdir -p saved_model\n",
    "model_3.save('./saved_model/RNN2')"
   ]
  },
  {
   "cell_type": "markdown",
   "id": "5153c396",
   "metadata": {},
   "source": [
    "### Prediction of X_test by Model 3"
   ]
  },
  {
   "cell_type": "code",
   "execution_count": null,
   "id": "4135a746",
   "metadata": {},
   "outputs": [],
   "source": [
    "y_test_rating = []\n",
    "for line in y_test.values:\n",
    "    sc = np.argmax(line)\n",
    "    if sc == 0:\n",
    "        y_test_rating.append(1)\n",
    "    elif sc == 1:\n",
    "        y_test_rating.append(2)\n",
    "    elif sc == 2:\n",
    "        y_test_rating.append(3)\n",
    "    elif sc == 3:\n",
    "        y_test_rating.append(4)\n",
    "    elif sc == 4:\n",
    "        y_test_rating.append(5)\n",
    "y_test_rating[0:5]"
   ]
  },
  {
   "cell_type": "code",
   "execution_count": null,
   "id": "ceb7c1e4",
   "metadata": {},
   "outputs": [],
   "source": [
    "# make rating predictions on those collected data, here X_test\n",
    "model_3_pred = model_3.predict(X_test)\n",
    "model_3_pred"
   ]
  },
  {
   "cell_type": "code",
   "execution_count": null,
   "id": "e4dadb40",
   "metadata": {},
   "outputs": [],
   "source": [
    "# make rating predictions on those collected data, here X_test\n",
    "model_3_rating = []\n",
    "for line in  model_3_pred:\n",
    "    sc = np.argmax(line)\n",
    "    if sc == 0:\n",
    "        model_3_rating.append(1)\n",
    "    elif sc == 1:\n",
    "        model_3_rating.append(2)\n",
    "    elif sc == 2:\n",
    "        model_3_rating.append(3)\n",
    "    elif sc == 3:\n",
    "        model_3_rating.append(4)\n",
    "    elif sc == 4:\n",
    "        model_3_rating.append(5)\n",
    "model_3_rating[0:5]"
   ]
  },
  {
   "cell_type": "code",
   "execution_count": null,
   "id": "f83630fd",
   "metadata": {},
   "outputs": [],
   "source": [
    "# for each tweet, show the rating scores (predicted probability) together with the text\n",
    "model_3_info = pd.DataFrame()\n",
    "model_3_info['Review Token'] = Token_test\n",
    "model_3_info['True Rating'] = y_test_rating\n",
    "model_3_info['RNN Rating'] = model_3_rating\n",
    "model_3_info"
   ]
  },
  {
   "cell_type": "code",
   "execution_count": null,
   "id": "0b6dc36c",
   "metadata": {},
   "outputs": [],
   "source": [
    "model_3_info.to_csv('rating_women_info.csv', index = False)"
   ]
  },
  {
   "cell_type": "markdown",
   "id": "64535f43",
   "metadata": {},
   "source": [
    "## __Phase 2: Prediction__\n",
    "> 1. Predict the rating on 'chatbots-virtual-assistant-Bitext-sample.csv'   \n",
    "> 2. Use the Model 3: Recurrent Neural Network (RNN)"
   ]
  },
  {
   "cell_type": "code",
   "execution_count": 33,
   "id": "3e570e60",
   "metadata": {},
   "outputs": [
    {
     "data": {
      "text/html": [
       "<div>\n",
       "<style scoped>\n",
       "    .dataframe tbody tr th:only-of-type {\n",
       "        vertical-align: middle;\n",
       "    }\n",
       "\n",
       "    .dataframe tbody tr th {\n",
       "        vertical-align: top;\n",
       "    }\n",
       "\n",
       "    .dataframe thead th {\n",
       "        text-align: right;\n",
       "    }\n",
       "</style>\n",
       "<table border=\"1\" class=\"dataframe\">\n",
       "  <thead>\n",
       "    <tr style=\"text-align: right;\">\n",
       "      <th></th>\n",
       "      <th>flags</th>\n",
       "      <th>utterance</th>\n",
       "      <th>category</th>\n",
       "      <th>intent</th>\n",
       "    </tr>\n",
       "  </thead>\n",
       "  <tbody>\n",
       "    <tr>\n",
       "      <th>0</th>\n",
       "      <td>BILC</td>\n",
       "      <td>I don't have an online account, what do I have...</td>\n",
       "      <td>ACCOUNT</td>\n",
       "      <td>create_account</td>\n",
       "    </tr>\n",
       "    <tr>\n",
       "      <th>1</th>\n",
       "      <td>BILQZ</td>\n",
       "      <td>can you tell me if i can regisger two accounts...</td>\n",
       "      <td>ACCOUNT</td>\n",
       "      <td>create_account</td>\n",
       "    </tr>\n",
       "    <tr>\n",
       "      <th>2</th>\n",
       "      <td>BPLC</td>\n",
       "      <td>I have no online account, open one, please</td>\n",
       "      <td>ACCOUNT</td>\n",
       "      <td>create_account</td>\n",
       "    </tr>\n",
       "    <tr>\n",
       "      <th>3</th>\n",
       "      <td>BIPLD</td>\n",
       "      <td>could you ask an agent how to open an account,...</td>\n",
       "      <td>ACCOUNT</td>\n",
       "      <td>create_account</td>\n",
       "    </tr>\n",
       "    <tr>\n",
       "      <th>4</th>\n",
       "      <td>BLQC</td>\n",
       "      <td>i want an online account, create one</td>\n",
       "      <td>ACCOUNT</td>\n",
       "      <td>create_account</td>\n",
       "    </tr>\n",
       "  </tbody>\n",
       "</table>\n",
       "</div>"
      ],
      "text/plain": [
       "   flags                                          utterance category  \\\n",
       "0   BILC  I don't have an online account, what do I have...  ACCOUNT   \n",
       "1  BILQZ  can you tell me if i can regisger two accounts...  ACCOUNT   \n",
       "2   BPLC         I have no online account, open one, please  ACCOUNT   \n",
       "3  BIPLD  could you ask an agent how to open an account,...  ACCOUNT   \n",
       "4   BLQC               i want an online account, create one  ACCOUNT   \n",
       "\n",
       "           intent  \n",
       "0  create_account  \n",
       "1  create_account  \n",
       "2  create_account  \n",
       "3  create_account  \n",
       "4  create_account  "
      ]
     },
     "execution_count": 33,
     "metadata": {},
     "output_type": "execute_result"
    }
   ],
   "source": [
    "chat_path = '../content/archive/20000-Utterances-Training-dataset-for-chatbots-virtual-assistant-Bitext-sample' + \\\n",
    "'/20000-Utterances-Training-dataset-for-chatbots-virtual-assistant-Bitext-sample' + \\\n",
    "'/20000-Utterances-Training-dataset-for-chatbots-virtual-assistant-Bitext-sample.csv'\n",
    "\n",
    "chat_df = pd.read_csv(chat_path)\n",
    "chat_df.head()"
   ]
  },
  {
   "cell_type": "code",
   "execution_count": null,
   "id": "97c76c56",
   "metadata": {},
   "outputs": [],
   "source": [
    "chat_processed = []\n",
    "for i in tqdm(range(chat_df.shape[0])):\n",
    "    chat_processed .append(processTextToToken(chat_df.iloc[i, 1])) # utterance"
   ]
  },
  {
   "cell_type": "code",
   "execution_count": null,
   "id": "5d330b24",
   "metadata": {},
   "outputs": [],
   "source": [
    "for i in range(5):\n",
    "    print(chat_processed[i], '\\n')"
   ]
  },
  {
   "cell_type": "code",
   "execution_count": null,
   "id": "f3aeb6a5",
   "metadata": {},
   "outputs": [],
   "source": [
    "chat_sequences = tokenizer.texts_to_sequences(chat_processed)\n",
    "chat_X = pad_sequences(chat_sequences, maxlen = train_max_len, padding = 'post')\n",
    "chat_X"
   ]
  },
  {
   "cell_type": "code",
   "execution_count": null,
   "id": "c304dabf",
   "metadata": {},
   "outputs": [],
   "source": [
    "# make rating predictions on those collected data\n",
    "chat_y = model_3.predict(chat_X) # RNN\n",
    "chat_y"
   ]
  },
  {
   "cell_type": "code",
   "execution_count": null,
   "id": "ada25c75",
   "metadata": {},
   "outputs": [],
   "source": [
    "# make rating predictions on those collected data\n",
    "chat_rating = []\n",
    "for line in chat_y:\n",
    "    sc = np.argmax(line)\n",
    "    if sc == 0:\n",
    "        chat_rating.append(1)\n",
    "    elif sc == 1:\n",
    "        chat_rating.append(2)\n",
    "    elif sc == 2:\n",
    "        chat_rating.append(3)\n",
    "    elif sc == 3:\n",
    "        chat_rating.append(4)\n",
    "    elif sc == 4:\n",
    "        chat_rating.append(5)\n",
    "chat_rating[0:5]"
   ]
  },
  {
   "cell_type": "code",
   "execution_count": null,
   "id": "8849a850",
   "metadata": {},
   "outputs": [],
   "source": [
    "chat_info = pd.read_csv('chat_info.csv')\n",
    "chat_info"
   ]
  },
  {
   "cell_type": "code",
   "execution_count": null,
   "id": "5e8bb47b",
   "metadata": {},
   "outputs": [],
   "source": [
    "chat_info['RNN Rating'] = chat_rating\n",
    "chat_info"
   ]
  },
  {
   "cell_type": "code",
   "execution_count": null,
   "id": "d2f519dc",
   "metadata": {},
   "outputs": [],
   "source": [
    "chat_info['RNN Rating'].value_counts()"
   ]
  },
  {
   "cell_type": "code",
   "execution_count": null,
   "id": "3d826b11",
   "metadata": {},
   "outputs": [],
   "source": [
    "sns.set_style('whitegrid')\n",
    "sns.countplot(x = 'RNN Rating', data = chat_info, palette = 'summer')"
   ]
  },
  {
   "cell_type": "code",
   "execution_count": null,
   "id": "bd153b5c",
   "metadata": {},
   "outputs": [],
   "source": [
    "chat_info.to_csv('rating_chat_info.csv', index = False)"
   ]
  },
  {
   "cell_type": "code",
   "execution_count": null,
   "id": "236e3eaf",
   "metadata": {},
   "outputs": [],
   "source": []
  }
 ],
 "metadata": {
  "kernelspec": {
   "display_name": "Python 3 (ipykernel)",
   "language": "python",
   "name": "python3"
  },
  "language_info": {
   "codemirror_mode": {
    "name": "ipython",
    "version": 3
   },
   "file_extension": ".py",
   "mimetype": "text/x-python",
   "name": "python",
   "nbconvert_exporter": "python",
   "pygments_lexer": "ipython3",
   "version": "3.9.13"
  }
 },
 "nbformat": 4,
 "nbformat_minor": 5
}
