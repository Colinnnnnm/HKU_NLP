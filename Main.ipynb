{
 "cells": [
  {
   "cell_type": "code",
   "execution_count": 1,
   "id": "fc83913b-5932-45e5-9eeb-066b6e0a8bfc",
   "metadata": {},
   "outputs": [
    {
     "data": {
      "text/html": [
       "<div>\n",
       "<style scoped>\n",
       "    .dataframe tbody tr th:only-of-type {\n",
       "        vertical-align: middle;\n",
       "    }\n",
       "\n",
       "    .dataframe tbody tr th {\n",
       "        vertical-align: top;\n",
       "    }\n",
       "\n",
       "    .dataframe thead th {\n",
       "        text-align: right;\n",
       "    }\n",
       "</style>\n",
       "<table border=\"1\" class=\"dataframe\">\n",
       "  <thead>\n",
       "    <tr style=\"text-align: right;\">\n",
       "      <th></th>\n",
       "      <th>flags</th>\n",
       "      <th>utterance</th>\n",
       "      <th>category</th>\n",
       "      <th>intent</th>\n",
       "    </tr>\n",
       "  </thead>\n",
       "  <tbody>\n",
       "    <tr>\n",
       "      <th>0</th>\n",
       "      <td>BILC</td>\n",
       "      <td>I don't have an online account, what do I have...</td>\n",
       "      <td>ACCOUNT</td>\n",
       "      <td>create_account</td>\n",
       "    </tr>\n",
       "    <tr>\n",
       "      <th>1</th>\n",
       "      <td>BILQZ</td>\n",
       "      <td>can you tell me if i can regisger two accounts...</td>\n",
       "      <td>ACCOUNT</td>\n",
       "      <td>create_account</td>\n",
       "    </tr>\n",
       "    <tr>\n",
       "      <th>2</th>\n",
       "      <td>BPLC</td>\n",
       "      <td>I have no online account, open one, please</td>\n",
       "      <td>ACCOUNT</td>\n",
       "      <td>create_account</td>\n",
       "    </tr>\n",
       "    <tr>\n",
       "      <th>3</th>\n",
       "      <td>BIPLD</td>\n",
       "      <td>could you ask an agent how to open an account,...</td>\n",
       "      <td>ACCOUNT</td>\n",
       "      <td>create_account</td>\n",
       "    </tr>\n",
       "    <tr>\n",
       "      <th>4</th>\n",
       "      <td>BLQC</td>\n",
       "      <td>i want an online account, create one</td>\n",
       "      <td>ACCOUNT</td>\n",
       "      <td>create_account</td>\n",
       "    </tr>\n",
       "  </tbody>\n",
       "</table>\n",
       "</div>"
      ],
      "text/plain": [
       "   flags                                          utterance category  \\\n",
       "0   BILC  I don't have an online account, what do I have...  ACCOUNT   \n",
       "1  BILQZ  can you tell me if i can regisger two accounts...  ACCOUNT   \n",
       "2   BPLC         I have no online account, open one, please  ACCOUNT   \n",
       "3  BIPLD  could you ask an agent how to open an account,...  ACCOUNT   \n",
       "4   BLQC               i want an online account, create one  ACCOUNT   \n",
       "\n",
       "           intent  \n",
       "0  create_account  \n",
       "1  create_account  \n",
       "2  create_account  \n",
       "3  create_account  \n",
       "4  create_account  "
      ]
     },
     "execution_count": 1,
     "metadata": {},
     "output_type": "execute_result"
    }
   ],
   "source": [
    "import pandas as pd\n",
    "import nltk\n",
    "import gensim\n",
    "\n",
    "df = pd.read_csv('./content/archive/20000-Utterances-Training-dataset-for-chatbots-virtual-assistant-Bitext-sample/20000-Utterances-Training-dataset-for-chatbots-virtual-assistant-Bitext-sample/20000-Utterances-Training-dataset-for-chatbots-virtual-assistant-Bitext-sample.csv')\n",
    "df.head(5)"
   ]
  },
  {
   "cell_type": "markdown",
   "id": "677be186-3999-4a5c-bed8-a3bda5e41ad3",
   "metadata": {},
   "source": [
    "# Basic Processing"
   ]
  },
  {
   "cell_type": "code",
   "execution_count": 2,
   "id": "dddb07c5-d893-4dc7-a714-7e930b5d2813",
   "metadata": {},
   "outputs": [
    {
     "name": "stdout",
     "output_type": "stream",
     "text": [
      "0                             [onlin, account, regist]\n",
      "1    [tell, regisg, two, account, singl, email, add...\n",
      "2                   [onlin, account, open, one, pleas]\n",
      "3            [could, ask, agent, open, account, pleas]\n",
      "4                   [want, onlin, account, creat, one]\n",
      "Name: words, dtype: object\n",
      "count           21534\n",
      "unique          10836\n",
      "top       [see, bill]\n",
      "freq               31\n",
      "Name: words, dtype: object\n"
     ]
    }
   ],
   "source": [
    "from nltk import word_tokenize\n",
    "from nltk.corpus import stopwords\n",
    "from nltk.stem import PorterStemmer\n",
    "\n",
    "porter = PorterStemmer()\n",
    "english_stopwords = stopwords.words('english')\n",
    "\n",
    "# lower case, tokenize, stopword, puctuation and stemming\n",
    "df['words'] = df['utterance'].str.lower()\n",
    "df['words'] = df['words'].apply(word_tokenize)\n",
    "df['words'] = df['words'].apply(lambda l: [porter.stem(word) for word in l if (word not in english_stopwords) and word.isalpha()])\n",
    "print(df['words'].head())\n",
    "print(df['words'].describe())"
   ]
  },
  {
   "cell_type": "code",
   "execution_count": 3,
   "id": "13335292-0070-4a49-a09e-ae4232c4c276",
   "metadata": {},
   "outputs": [
    {
     "data": {
      "image/png": "[encoded data removed]",
      "text/plain": [
       "<Figure size 432x288 with 1 Axes>"
      ]
     },
     "metadata": {
      "needs_background": "light"
     },
     "output_type": "display_data"
    },
    {
     "data": {
      "text/plain": [
       "<AxesSubplot:xlabel='Samples', ylabel='Counts'>"
      ]
     },
     "execution_count": 3,
     "metadata": {},
     "output_type": "execute_result"
    }
   ],
   "source": [
    "from nltk.probability import FreqDist\n",
    "\n",
    "fdist = FreqDist(df['words'].sum())\n",
    "fdist.most_common(3)\n",
    "fdist.plot(10)"
   ]
  },
  {
   "cell_type": "code",
   "execution_count": 4,
   "id": "de39bea8-614a-4409-885f-cee8abdb4dc9",
   "metadata": {},
   "outputs": [],
   "source": [
    "from sklearn.model_selection import train_test_split\n",
    "df_train, df_test = train_test_split(df, test_size=0.2, random_state = 1337)"
   ]
  },
  {
   "cell_type": "markdown",
   "id": "8df96325-297c-4387-9122-71d6f8549693",
   "metadata": {},
   "source": [
    "### Count vectorize"
   ]
  },
  {
   "cell_type": "code",
   "execution_count": 17,
   "id": "aeea67db-23d8-4dcc-b548-45b8ed1b8f78",
   "metadata": {},
   "outputs": [],
   "source": [
    "from sklearn.feature_extraction.text import CountVectorizer\n",
    "\n",
    "# merged words list\n",
    "train_words=[' '.join(text) for text in df_train['words']]\n",
    "test_words=[' '.join(text) for text in df_test['words']]\n",
    "\n",
    "# count\n",
    "count_vectorizer = CountVectorizer()\n",
    "X_train_counts = count_vectorizer.fit_transform(train_words).toarray()\n",
    "X_test_counts = count_vectorizer.transform(test_words).toarray()"
   ]
  },
  {
   "cell_type": "markdown",
   "id": "95177fdc-a8fb-439b-8e90-2a5bb10eff4e",
   "metadata": {},
   "source": [
    "### N-gram"
   ]
  },
  {
   "cell_type": "code",
   "execution_count": 18,
   "id": "23e4157c-1c7e-4513-b3ba-be04d673f61e",
   "metadata": {},
   "outputs": [],
   "source": [
    "# ngram\n",
    "ngram_vectorizer = CountVectorizer(binary=True, ngram_range=(1, 2))\n",
    "X_train_ng = ngram_vectorizer.fit_transform(train_words).toarray()\n",
    "X_test_ng = ngram_vectorizer.transform(test_words).toarray()"
   ]
  },
  {
   "cell_type": "code",
   "execution_count": 19,
   "id": "4eecc9f6-23dd-4f61-b14d-cbf172d6d9c7",
   "metadata": {},
   "outputs": [],
   "source": [
    "# tfidf\n",
    "from sklearn.feature_extraction.text import TfidfTransformer\n",
    "\n",
    "transformer = TfidfTransformer(smooth_idf=False);\n",
    "X_train_tfidf = transformer.fit_transform(X_train_counts);\n",
    "X_test_tfidf = transformer.transform(X_test_counts);"
   ]
  },
  {
   "cell_type": "code",
   "execution_count": 9,
   "id": "ceb36af4-fdc1-48d1-8e40-fce8e372083c",
   "metadata": {},
   "outputs": [],
   "source": [
    "# custom word2vec\n",
    "model_w2v = gensim.models.Word2Vec(sentences=df_train['words'])"
   ]
  },
  {
   "cell_type": "code",
   "execution_count": 19,
   "id": "a063cbe8-1052-484d-b25b-5d2025b29842",
   "metadata": {
    "collapsed": true,
    "jupyter": {
     "outputs_hidden": true
    },
    "tags": []
   },
   "outputs": [
    {
     "name": "stderr",
     "output_type": "stream",
     "text": [
      "<ipython-input-19-5aa41b271e05>:8: DeprecationWarning: Call to deprecated `glove2word2vec` (KeyedVectors.load_word2vec_format(.., binary=False, no_header=True) loads GLoVE text vectors.).\n",
      "  _ = glove2word2vec(glove_file, tmp_file)\n"
     ]
    },
    {
     "ename": "KeyboardInterrupt",
     "evalue": "",
     "output_type": "error",
     "traceback": [
      "\u001b[0;31m---------------------------------------------------------------------------\u001b[0m",
      "\u001b[0;31mKeyboardInterrupt\u001b[0m                         Traceback (most recent call last)",
      "Input \u001b[0;32mIn [19]\u001b[0m, in \u001b[0;36m<cell line: 10>\u001b[0;34m()\u001b[0m\n\u001b[1;32m      6\u001b[0m tmp_file \u001b[38;5;241m=\u001b[39m \u001b[38;5;124m\"\u001b[39m\u001b[38;5;124m./content/glove_100d_word2vec.txt\u001b[39m\u001b[38;5;124m\"\u001b[39m\n\u001b[1;32m      8\u001b[0m _ \u001b[38;5;241m=\u001b[39m glove2word2vec(glove_file, tmp_file)\n\u001b[0;32m---> 10\u001b[0m glove_model \u001b[38;5;241m=\u001b[39m \u001b[43mKeyedVectors\u001b[49m\u001b[38;5;241;43m.\u001b[39;49m\u001b[43mload_word2vec_format\u001b[49m\u001b[43m(\u001b[49m\u001b[43mtmp_file\u001b[49m\u001b[43m)\u001b[49m\n",
      "File \u001b[0;32m~/opt/anaconda3/envs/nlp/lib/python3.8/site-packages/gensim/models/keyedvectors.py:1723\u001b[0m, in \u001b[0;36mKeyedVectors.load_word2vec_format\u001b[0;34m(cls, fname, fvocab, binary, encoding, unicode_errors, limit, datatype, no_header)\u001b[0m\n\u001b[1;32m   1676\u001b[0m \u001b[38;5;129m@classmethod\u001b[39m\n\u001b[1;32m   1677\u001b[0m \u001b[38;5;28;01mdef\u001b[39;00m \u001b[38;5;21mload_word2vec_format\u001b[39m(\n\u001b[1;32m   1678\u001b[0m         \u001b[38;5;28mcls\u001b[39m, fname, fvocab\u001b[38;5;241m=\u001b[39m\u001b[38;5;28;01mNone\u001b[39;00m, binary\u001b[38;5;241m=\u001b[39m\u001b[38;5;28;01mFalse\u001b[39;00m, encoding\u001b[38;5;241m=\u001b[39m\u001b[38;5;124m'\u001b[39m\u001b[38;5;124mutf8\u001b[39m\u001b[38;5;124m'\u001b[39m, unicode_errors\u001b[38;5;241m=\u001b[39m\u001b[38;5;124m'\u001b[39m\u001b[38;5;124mstrict\u001b[39m\u001b[38;5;124m'\u001b[39m,\n\u001b[1;32m   1679\u001b[0m         limit\u001b[38;5;241m=\u001b[39m\u001b[38;5;28;01mNone\u001b[39;00m, datatype\u001b[38;5;241m=\u001b[39mREAL, no_header\u001b[38;5;241m=\u001b[39m\u001b[38;5;28;01mFalse\u001b[39;00m,\n\u001b[1;32m   1680\u001b[0m     ):\n\u001b[1;32m   1681\u001b[0m     \u001b[38;5;124;03m\"\"\"Load KeyedVectors from a file produced by the original C word2vec-tool format.\u001b[39;00m\n\u001b[1;32m   1682\u001b[0m \n\u001b[1;32m   1683\u001b[0m \u001b[38;5;124;03m    Warnings\u001b[39;00m\n\u001b[0;32m   (...)\u001b[0m\n\u001b[1;32m   1721\u001b[0m \n\u001b[1;32m   1722\u001b[0m \u001b[38;5;124;03m    \"\"\"\u001b[39;00m\n\u001b[0;32m-> 1723\u001b[0m     \u001b[38;5;28;01mreturn\u001b[39;00m \u001b[43m_load_word2vec_format\u001b[49m\u001b[43m(\u001b[49m\n\u001b[1;32m   1724\u001b[0m \u001b[43m        \u001b[49m\u001b[38;5;28;43mcls\u001b[39;49m\u001b[43m,\u001b[49m\u001b[43m \u001b[49m\u001b[43mfname\u001b[49m\u001b[43m,\u001b[49m\u001b[43m \u001b[49m\u001b[43mfvocab\u001b[49m\u001b[38;5;241;43m=\u001b[39;49m\u001b[43mfvocab\u001b[49m\u001b[43m,\u001b[49m\u001b[43m \u001b[49m\u001b[43mbinary\u001b[49m\u001b[38;5;241;43m=\u001b[39;49m\u001b[43mbinary\u001b[49m\u001b[43m,\u001b[49m\u001b[43m \u001b[49m\u001b[43mencoding\u001b[49m\u001b[38;5;241;43m=\u001b[39;49m\u001b[43mencoding\u001b[49m\u001b[43m,\u001b[49m\u001b[43m \u001b[49m\u001b[43municode_errors\u001b[49m\u001b[38;5;241;43m=\u001b[39;49m\u001b[43municode_errors\u001b[49m\u001b[43m,\u001b[49m\n\u001b[1;32m   1725\u001b[0m \u001b[43m        \u001b[49m\u001b[43mlimit\u001b[49m\u001b[38;5;241;43m=\u001b[39;49m\u001b[43mlimit\u001b[49m\u001b[43m,\u001b[49m\u001b[43m \u001b[49m\u001b[43mdatatype\u001b[49m\u001b[38;5;241;43m=\u001b[39;49m\u001b[43mdatatype\u001b[49m\u001b[43m,\u001b[49m\u001b[43m \u001b[49m\u001b[43mno_header\u001b[49m\u001b[38;5;241;43m=\u001b[39;49m\u001b[43mno_header\u001b[49m\u001b[43m,\u001b[49m\n\u001b[1;32m   1726\u001b[0m \u001b[43m    \u001b[49m\u001b[43m)\u001b[49m\n",
      "File \u001b[0;32m~/opt/anaconda3/envs/nlp/lib/python3.8/site-packages/gensim/models/keyedvectors.py:2073\u001b[0m, in \u001b[0;36m_load_word2vec_format\u001b[0;34m(cls, fname, fvocab, binary, encoding, unicode_errors, limit, datatype, no_header, binary_chunk_size)\u001b[0m\n\u001b[1;32m   2069\u001b[0m         _word2vec_read_binary(\n\u001b[1;32m   2070\u001b[0m             fin, kv, counts, vocab_size, vector_size, datatype, unicode_errors, binary_chunk_size, encoding\n\u001b[1;32m   2071\u001b[0m         )\n\u001b[1;32m   2072\u001b[0m     \u001b[38;5;28;01melse\u001b[39;00m:\n\u001b[0;32m-> 2073\u001b[0m         \u001b[43m_word2vec_read_text\u001b[49m\u001b[43m(\u001b[49m\u001b[43mfin\u001b[49m\u001b[43m,\u001b[49m\u001b[43m \u001b[49m\u001b[43mkv\u001b[49m\u001b[43m,\u001b[49m\u001b[43m \u001b[49m\u001b[43mcounts\u001b[49m\u001b[43m,\u001b[49m\u001b[43m \u001b[49m\u001b[43mvocab_size\u001b[49m\u001b[43m,\u001b[49m\u001b[43m \u001b[49m\u001b[43mvector_size\u001b[49m\u001b[43m,\u001b[49m\u001b[43m \u001b[49m\u001b[43mdatatype\u001b[49m\u001b[43m,\u001b[49m\u001b[43m \u001b[49m\u001b[43municode_errors\u001b[49m\u001b[43m,\u001b[49m\u001b[43m \u001b[49m\u001b[43mencoding\u001b[49m\u001b[43m)\u001b[49m\n\u001b[1;32m   2074\u001b[0m \u001b[38;5;28;01mif\u001b[39;00m kv\u001b[38;5;241m.\u001b[39mvectors\u001b[38;5;241m.\u001b[39mshape[\u001b[38;5;241m0\u001b[39m] \u001b[38;5;241m!=\u001b[39m \u001b[38;5;28mlen\u001b[39m(kv):\n\u001b[1;32m   2075\u001b[0m     logger\u001b[38;5;241m.\u001b[39minfo(\n\u001b[1;32m   2076\u001b[0m         \u001b[38;5;124m\"\u001b[39m\u001b[38;5;124mduplicate words detected, shrinking matrix size from \u001b[39m\u001b[38;5;132;01m%i\u001b[39;00m\u001b[38;5;124m to \u001b[39m\u001b[38;5;132;01m%i\u001b[39;00m\u001b[38;5;124m\"\u001b[39m,\n\u001b[1;32m   2077\u001b[0m         kv\u001b[38;5;241m.\u001b[39mvectors\u001b[38;5;241m.\u001b[39mshape[\u001b[38;5;241m0\u001b[39m], \u001b[38;5;28mlen\u001b[39m(kv),\n\u001b[1;32m   2078\u001b[0m     )\n",
      "File \u001b[0;32m~/opt/anaconda3/envs/nlp/lib/python3.8/site-packages/gensim/models/keyedvectors.py:1978\u001b[0m, in \u001b[0;36m_word2vec_read_text\u001b[0;34m(fin, kv, counts, vocab_size, vector_size, datatype, unicode_errors, encoding)\u001b[0m\n\u001b[1;32m   1976\u001b[0m \u001b[38;5;28;01mif\u001b[39;00m line \u001b[38;5;241m==\u001b[39m \u001b[38;5;124mb\u001b[39m\u001b[38;5;124m'\u001b[39m\u001b[38;5;124m'\u001b[39m:\n\u001b[1;32m   1977\u001b[0m     \u001b[38;5;28;01mraise\u001b[39;00m \u001b[38;5;167;01mEOFError\u001b[39;00m(\u001b[38;5;124m\"\u001b[39m\u001b[38;5;124munexpected end of input; is count incorrect or file otherwise damaged?\u001b[39m\u001b[38;5;124m\"\u001b[39m)\n\u001b[0;32m-> 1978\u001b[0m word, weights \u001b[38;5;241m=\u001b[39m \u001b[43m_word2vec_line_to_vector\u001b[49m\u001b[43m(\u001b[49m\u001b[43mline\u001b[49m\u001b[43m,\u001b[49m\u001b[43m \u001b[49m\u001b[43mdatatype\u001b[49m\u001b[43m,\u001b[49m\u001b[43m \u001b[49m\u001b[43municode_errors\u001b[49m\u001b[43m,\u001b[49m\u001b[43m \u001b[49m\u001b[43mencoding\u001b[49m\u001b[43m)\u001b[49m\n\u001b[1;32m   1979\u001b[0m _add_word_to_kv(kv, counts, word, weights, vocab_size)\n",
      "File \u001b[0;32m~/opt/anaconda3/envs/nlp/lib/python3.8/site-packages/gensim/models/keyedvectors.py:1984\u001b[0m, in \u001b[0;36m_word2vec_line_to_vector\u001b[0;34m(line, datatype, unicode_errors, encoding)\u001b[0m\n\u001b[1;32m   1982\u001b[0m \u001b[38;5;28;01mdef\u001b[39;00m \u001b[38;5;21m_word2vec_line_to_vector\u001b[39m(line, datatype, unicode_errors, encoding):\n\u001b[1;32m   1983\u001b[0m     parts \u001b[38;5;241m=\u001b[39m utils\u001b[38;5;241m.\u001b[39mto_unicode(line\u001b[38;5;241m.\u001b[39mrstrip(), encoding\u001b[38;5;241m=\u001b[39mencoding, errors\u001b[38;5;241m=\u001b[39municode_errors)\u001b[38;5;241m.\u001b[39msplit(\u001b[38;5;124m\"\u001b[39m\u001b[38;5;124m \u001b[39m\u001b[38;5;124m\"\u001b[39m)\n\u001b[0;32m-> 1984\u001b[0m     word, weights \u001b[38;5;241m=\u001b[39m parts[\u001b[38;5;241m0\u001b[39m], [datatype(x) \u001b[38;5;28;01mfor\u001b[39;00m x \u001b[38;5;129;01min\u001b[39;00m parts[\u001b[38;5;241m1\u001b[39m:]]\n\u001b[1;32m   1985\u001b[0m     \u001b[38;5;28;01mreturn\u001b[39;00m word, weights\n",
      "File \u001b[0;32m~/opt/anaconda3/envs/nlp/lib/python3.8/site-packages/gensim/models/keyedvectors.py:1984\u001b[0m, in \u001b[0;36m<listcomp>\u001b[0;34m(.0)\u001b[0m\n\u001b[1;32m   1982\u001b[0m \u001b[38;5;28;01mdef\u001b[39;00m \u001b[38;5;21m_word2vec_line_to_vector\u001b[39m(line, datatype, unicode_errors, encoding):\n\u001b[1;32m   1983\u001b[0m     parts \u001b[38;5;241m=\u001b[39m utils\u001b[38;5;241m.\u001b[39mto_unicode(line\u001b[38;5;241m.\u001b[39mrstrip(), encoding\u001b[38;5;241m=\u001b[39mencoding, errors\u001b[38;5;241m=\u001b[39municode_errors)\u001b[38;5;241m.\u001b[39msplit(\u001b[38;5;124m\"\u001b[39m\u001b[38;5;124m \u001b[39m\u001b[38;5;124m\"\u001b[39m)\n\u001b[0;32m-> 1984\u001b[0m     word, weights \u001b[38;5;241m=\u001b[39m parts[\u001b[38;5;241m0\u001b[39m], [datatype(x) \u001b[38;5;28;01mfor\u001b[39;00m x \u001b[38;5;129;01min\u001b[39;00m parts[\u001b[38;5;241m1\u001b[39m:]]\n\u001b[1;32m   1985\u001b[0m     \u001b[38;5;28;01mreturn\u001b[39;00m word, weights\n",
      "\u001b[0;31mKeyboardInterrupt\u001b[0m: "
     ]
    }
   ],
   "source": [
    "# pretrained glove\n",
    "from gensim.models import KeyedVectors\n",
    "from gensim.scripts.glove2word2vec import glove2word2vec\n",
    "\n",
    "glove_file = './content/glove.6B.100d.txt'\n",
    "tmp_file = \"./content/glove_100d_word2vec.txt\"\n",
    "\n",
    "_ = glove2word2vec(glove_file, tmp_file)\n",
    "\n",
    "glove_model = KeyedVectors.load_word2vec_format(tmp_file)\n"
   ]
  },
  {
   "cell_type": "code",
   "execution_count": 20,
   "id": "38d47258-6bad-4a3a-ab95-6aed5e58fe54",
   "metadata": {},
   "outputs": [],
   "source": [
    "# pretrained bert\n",
    "from tensorflow.keras.layers import Input, Dropout\n",
    "from tensorflow.keras import Model\n",
    "import tensorflow as tf\n",
    "import tensorflow_hub as hub\n",
    "import tensorflow_text as text # just needed tensorflow_text\n",
    "\n",
    "bert_encoder_dir = 'https://tfhub.dev/tensorflow/small_bert/bert_en_uncased_L-2_H-128_A-2/1'\n",
    "bert_preprocess_dir = 'https://tfhub.dev/tensorflow/bert_en_uncased_preprocess/3'\n",
    "\n",
    "bert_preprocess_layer = hub.KerasLayer(bert_preprocess_dir)\n",
    "bert_encode_model = hub.KerasLayer(bert_encoder_dir, trainable=True)"
   ]
  },
  {
   "cell_type": "code",
   "execution_count": 21,
   "id": "09bde31e-b389-4ecc-a0af-d73d999f184d",
   "metadata": {},
   "outputs": [],
   "source": [
    "# tokenized seq for keras\n",
    "from tensorflow.keras.preprocessing.text import Tokenizer\n",
    "from tensorflow.keras.preprocessing.sequence import pad_sequences\n",
    "tokenizer = Tokenizer()\n",
    "tokenizer.fit_on_texts(df_train['words'])\n",
    "encoded_train_docs = tokenizer.texts_to_sequences(df_train['words'])\n",
    "encoded_test_docs = tokenizer.texts_to_sequences(df_test['words'])\n",
    "max_length = max([len(s) for s in df_train['words']])\n",
    "X_train = pad_sequences(encoded_train_docs, \n",
    "                        maxlen=max_length, \n",
    "                        padding='post')\n",
    "y_train = pd.get_dummies(df_train['category'])\n",
    "X_test = pad_sequences(encoded_test_docs, \n",
    "                        maxlen=max_length, \n",
    "                        padding='post')\n",
    "y_test = pd.get_dummies(df_test['category'])"
   ]
  },
  {
   "cell_type": "markdown",
   "id": "753db1fb-ebbc-4e4f-9421-4c8af8124c70",
   "metadata": {},
   "source": [
    "# Preprocessing Result:\n",
    "- X_train, X_test: Tokenized doc\n",
    "- y_train, y_test: taget df\n",
    "- X_train_tfidf, X_test_tfidf: TFIDF processed df\n",
    "- X_train_ng, X_test_ng : N-gram embedding DF\n",
    "- X_train_counts, X_test_counts: Count Vector DF\n",
    "- model_w2v: CBOW w2v with default parameter\n",
    "- glove_model : glove embedding\n",
    "- BERT"
   ]
  },
  {
   "cell_type": "code",
   "execution_count": 22,
   "id": "2c82d82c-cd1c-4aa7-9852-65ca4a6499ce",
   "metadata": {},
   "outputs": [],
   "source": [
    "import numpy as np"
   ]
  },
  {
   "cell_type": "code",
   "execution_count": 23,
   "id": "56786843-9685-4d86-8027-d9475d43730d",
   "metadata": {},
   "outputs": [],
   "source": [
    "np.save(\"X_train.npy\",X_train)\n",
    "np.save(\"X_test.npy\",X_test)"
   ]
  },
  {
   "cell_type": "code",
   "execution_count": 24,
   "id": "a4df664c-1f7a-4243-81a1-9288117683d2",
   "metadata": {},
   "outputs": [],
   "source": [
    "df_train.to_csv(\"df_train.csv\")\n",
    "df_test.to_csv(\"df_test.csv\")\n",
    "y_train.to_csv(\"y_train.csv\")\n",
    "y_test.to_csv(\"y_test.csv\")"
   ]
  },
  {
   "cell_type": "markdown",
   "id": "b904d12a-a738-4e91-ae7b-3e2978efd455",
   "metadata": {},
   "source": [
    "# Colin: Building Supervised Topic Detection Model"
   ]
  },
  {
   "cell_type": "code",
   "execution_count": 5,
   "id": "4c1b2a8e-c08e-48b8-af1c-efb69465cefa",
   "metadata": {},
   "outputs": [],
   "source": [
    "import pandas as pd\n",
    "import numpy as np\n",
    "import gensim"
   ]
  },
  {
   "cell_type": "code",
   "execution_count": 6,
   "id": "e783d21d-f76f-4e4e-96ae-ec9c4a1873fe",
   "metadata": {},
   "outputs": [],
   "source": [
    "w2v_pretrain= gensim.models.KeyedVectors.load_word2vec_format(\"GoogleNews-vectors-negative300.bin\", binary=True)"
   ]
  },
  {
   "cell_type": "code",
   "execution_count": 7,
   "id": "22603f7d-693e-4830-af84-87742961cf94",
   "metadata": {},
   "outputs": [],
   "source": [
    "from tensorflow.keras.preprocessing.text import Tokenizer\n",
    "from tensorflow.keras.preprocessing.sequence import pad_sequences\n",
    "tokenizer = Tokenizer()\n",
    "tokenizer.fit_on_texts(df_train['words'])\n",
    "encoded_train_docs = tokenizer.texts_to_sequences(df_train['words'])\n",
    "encoded_test_docs = tokenizer.texts_to_sequences(df_test['words'])\n",
    "max_length = max([len(s) for s in df_train['words']])\n",
    "X_train = pad_sequences(encoded_train_docs, \n",
    "                        maxlen=max_length, \n",
    "                        padding='post')\n",
    "y_train = pd.get_dummies(df_train['category'])\n",
    "X_test = pad_sequences(encoded_test_docs, \n",
    "                        maxlen=max_length, \n",
    "                        padding='post')\n",
    "y_test = pd.get_dummies(df_test['category'])"
   ]
  },
  {
   "cell_type": "code",
   "execution_count": null,
   "id": "29938d8c-903f-468a-8263-a9f91fd67829",
   "metadata": {},
   "outputs": [],
   "source": []
  },
  {
   "cell_type": "code",
   "execution_count": 46,
   "id": "914742a3-5dd4-469c-98ce-b54520a50ecf",
   "metadata": {},
   "outputs": [],
   "source": [
    "# word2vec + cnn\n",
    "from tensorflow.keras.preprocessing.text import Tokenizer\n",
    "from tensorflow.keras.preprocessing.sequence import pad_sequences\n",
    "from tensorflow.keras.models import Sequential\n",
    "from tensorflow.keras.layers import Dense, Flatten, Embedding, Conv1D, MaxPooling1D\n",
    "from tensorflow.keras.preprocessing.sequence import pad_sequences\n",
    "import numpy as np\n",
    "\n",
    "def get_word2vec_embed_layer(max_length, tokenizer, model):\n",
    "    word_index = tokenizer.word_index\n",
    "    embedding_mat = np.zeros((len(word_index)+1, 300))\n",
    "    for word, i in word_index.items():\n",
    "        try:\n",
    "            vector = model.get_vector(word)\n",
    "            embedding_mat[i] = vector\n",
    "        except:\n",
    "            continue\n",
    "    word2vec_embedding_layer = Embedding(input_dim=embedding_mat.shape[0],\n",
    "                                      output_dim=embedding_mat.shape[1], \n",
    "                                      weights=[embedding_mat],\n",
    "                                      input_length=max_length, \n",
    "                                      trainable=False)\n",
    "    return word2vec_embedding_layer\n",
    "\n",
    "embedding = get_word2vec_embed_layer(X_train.shape[1], tokenizer, w2v_pretrain)"
   ]
  },
  {
   "cell_type": "markdown",
   "id": "4d660c68-1dad-4935-97bb-20bcd7641678",
   "metadata": {},
   "source": [
    "# RNN Model for topic detection"
   ]
  }
 ],
 "metadata": {
  "kernelspec": {
   "display_name": "Python 3",
   "language": "python",
   "name": "python3"
  },
  "language_info": {
   "codemirror_mode": {
    "name": "ipython",
    "version": 3
   },
   "file_extension": ".py",
   "mimetype": "text/x-python",
   "name": "python",
   "nbconvert_exporter": "python",
   "pygments_lexer": "ipython3",
   "version": "3.8.13"
  }
 },
 "nbformat": 4,
 "nbformat_minor": 5
}
