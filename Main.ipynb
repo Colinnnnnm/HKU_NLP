{
 "cells": [
  {
   "cell_type": "code",
   "execution_count": 6,
   "id": "8a4bf344",
   "metadata": {},
   "outputs": [
    {
     "data": {
      "text/html": [
       "<div>\n",
       "<style scoped>\n",
       "    .dataframe tbody tr th:only-of-type {\n",
       "        vertical-align: middle;\n",
       "    }\n",
       "\n",
       "    .dataframe tbody tr th {\n",
       "        vertical-align: top;\n",
       "    }\n",
       "\n",
       "    .dataframe thead th {\n",
       "        text-align: right;\n",
       "    }\n",
       "</style>\n",
       "<table border=\"1\" class=\"dataframe\">\n",
       "  <thead>\n",
       "    <tr style=\"text-align: right;\">\n",
       "      <th></th>\n",
       "      <th>flags</th>\n",
       "      <th>utterance</th>\n",
       "      <th>category</th>\n",
       "      <th>intent</th>\n",
       "    </tr>\n",
       "  </thead>\n",
       "  <tbody>\n",
       "    <tr>\n",
       "      <th>0</th>\n",
       "      <td>BILC</td>\n",
       "      <td>I don't have an online account, what do I have...</td>\n",
       "      <td>ACCOUNT</td>\n",
       "      <td>create_account</td>\n",
       "    </tr>\n",
       "    <tr>\n",
       "      <th>1</th>\n",
       "      <td>BILQZ</td>\n",
       "      <td>can you tell me if i can regisger two accounts...</td>\n",
       "      <td>ACCOUNT</td>\n",
       "      <td>create_account</td>\n",
       "    </tr>\n",
       "    <tr>\n",
       "      <th>2</th>\n",
       "      <td>BPLC</td>\n",
       "      <td>I have no online account, open one, please</td>\n",
       "      <td>ACCOUNT</td>\n",
       "      <td>create_account</td>\n",
       "    </tr>\n",
       "    <tr>\n",
       "      <th>3</th>\n",
       "      <td>BIPLD</td>\n",
       "      <td>could you ask an agent how to open an account,...</td>\n",
       "      <td>ACCOUNT</td>\n",
       "      <td>create_account</td>\n",
       "    </tr>\n",
       "    <tr>\n",
       "      <th>4</th>\n",
       "      <td>BLQC</td>\n",
       "      <td>i want an online account, create one</td>\n",
       "      <td>ACCOUNT</td>\n",
       "      <td>create_account</td>\n",
       "    </tr>\n",
       "  </tbody>\n",
       "</table>\n",
       "</div>"
      ],
      "text/plain": [
       "   flags                                          utterance category  \\\n",
       "0   BILC  I don't have an online account, what do I have...  ACCOUNT   \n",
       "1  BILQZ  can you tell me if i can regisger two accounts...  ACCOUNT   \n",
       "2   BPLC         I have no online account, open one, please  ACCOUNT   \n",
       "3  BIPLD  could you ask an agent how to open an account,...  ACCOUNT   \n",
       "4   BLQC               i want an online account, create one  ACCOUNT   \n",
       "\n",
       "           intent  \n",
       "0  create_account  \n",
       "1  create_account  \n",
       "2  create_account  \n",
       "3  create_account  \n",
       "4  create_account  "
      ]
     },
     "execution_count": 6,
     "metadata": {},
     "output_type": "execute_result"
    }
   ],
   "source": [
    "import pandas as pd\n",
    "import nltk\n",
    "import gensim\n",
    "import numpy as np\n",
    "df = pd.read_csv('./content/archive/20000-Utterances-Training-dataset-for-chatbots-virtual-assistant-Bitext-sample/20000-Utterances-Training-dataset-for-chatbots-virtual-assistant-Bitext-sample/20000-Utterances-Training-dataset-for-chatbots-virtual-assistant-Bitext-sample.csv')\n",
    "df.head(5)"
   ]
  },
  {
   "cell_type": "markdown",
   "id": "19301bb0",
   "metadata": {},
   "source": [
    "# Basic Processing"
   ]
  },
  {
   "cell_type": "code",
   "execution_count": 7,
   "id": "e4a172b6",
   "metadata": {},
   "outputs": [
    {
     "name": "stdout",
     "output_type": "stream",
     "text": [
      "0                             [onlin, account, regist]\n",
      "1    [tell, regisg, two, account, singl, email, add...\n",
      "2                   [onlin, account, open, one, pleas]\n",
      "3            [could, ask, agent, open, account, pleas]\n",
      "4                   [want, onlin, account, creat, one]\n",
      "Name: words, dtype: object\n",
      "count           21534\n",
      "unique          10836\n",
      "top       [see, bill]\n",
      "freq               31\n",
      "Name: words, dtype: object\n"
     ]
    }
   ],
   "source": [
    "from nltk import word_tokenize\n",
    "from nltk.corpus import stopwords\n",
    "from nltk.stem import PorterStemmer\n",
    "english_stopwords = stopwords.words('english')\n",
    "porter = PorterStemmer()\n",
    "def preprocess(text):\n",
    "    text = text.lower()\n",
    "    token = word_tokenize(text)\n",
    "    token = [porter.stem(word) for word in token if (word not in english_stopwords) and word.isalpha()]\n",
    "    return token\n",
    "df['words'] = df['utterance'].apply(lambda x: preprocess(x))\n",
    "print(df['words'].head())\n",
    "print(df['words'].describe())"
   ]
  },
  {
   "cell_type": "code",
   "execution_count": 8,
   "id": "a4cd612b",
   "metadata": {},
   "outputs": [],
   "source": [
    "from sklearn.model_selection import train_test_split\n",
    "df_train, df_test = train_test_split(df, test_size=0.2, random_state = 1337)"
   ]
  },
  {
   "cell_type": "markdown",
   "id": "42eb0ea6",
   "metadata": {},
   "source": [
    "# Building Embedding Layer"
   ]
  },
  {
   "cell_type": "code",
   "execution_count": 9,
   "id": "7b2b19a5",
   "metadata": {},
   "outputs": [],
   "source": [
    "import pandas as pd\n",
    "import numpy as np\n",
    "import gensim\n",
    "import tensorflow as tf"
   ]
  },
  {
   "cell_type": "code",
   "execution_count": 10,
   "id": "22ed915b",
   "metadata": {},
   "outputs": [],
   "source": [
    "# Download from https://drive.google.com/file/d/0B7XkCwpI5KDYNlNUTTlSS21pQmM/edit?resourcekey=0-wjGZdNAUop6WykTtMip30g\n",
    "import gensim.downloader as api\n",
    "wv_pretrain = api.load('word2vec-google-news-300')"
   ]
  },
  {
   "cell_type": "code",
   "execution_count": 11,
   "id": "23ecce7a",
   "metadata": {},
   "outputs": [],
   "source": [
    "from tensorflow.keras.preprocessing.text import Tokenizer\n",
    "from tensorflow.keras.preprocessing.sequence import pad_sequences\n",
    "tokenizer = Tokenizer()\n",
    "tokenizer.fit_on_texts(df_train['words'])\n",
    "encoded_train_docs = tokenizer.texts_to_sequences(df_train['words'])\n",
    "encoded_test_docs = tokenizer.texts_to_sequences(df_test['words'])\n",
    "max_length = max([len(s) for s in df_train['words']])\n",
    "X_train = pad_sequences(encoded_train_docs, \n",
    "                        maxlen=max_length, \n",
    "                        padding='post')\n",
    "y_train = pd.get_dummies(df_train['category'])\n",
    "X_test = pad_sequences(encoded_test_docs, \n",
    "                        maxlen=max_length, \n",
    "                        padding='post')\n",
    "y_test = pd.get_dummies(df_test['category'])"
   ]
  },
  {
   "cell_type": "code",
   "execution_count": 12,
   "id": "489afe9d",
   "metadata": {},
   "outputs": [],
   "source": [
    "# word2vec + cnn\n",
    "from tensorflow.keras.preprocessing.text import Tokenizer\n",
    "from tensorflow.keras.preprocessing.sequence import pad_sequences\n",
    "from tensorflow.keras.models import Sequential\n",
    "from tensorflow.keras.layers import Dense, Flatten, Embedding, Conv1D, MaxPooling1D\n",
    "from tensorflow.keras.preprocessing.sequence import pad_sequences\n",
    "import numpy as np\n",
    "\n",
    "def get_word2vec_embed_layer(max_length, tokenizer, model):\n",
    "    word_index = tokenizer.word_index\n",
    "    embedding_mat = np.zeros((len(word_index)+1, 300))\n",
    "    for word, i in word_index.items():\n",
    "        try:\n",
    "            vector = model.get_vector(word)\n",
    "            embedding_mat[i] = vector\n",
    "        except:\n",
    "            continue\n",
    "    word2vec_embedding_layer = Embedding(input_dim=embedding_mat.shape[0],\n",
    "                                      output_dim=embedding_mat.shape[1], \n",
    "                                      weights=[embedding_mat],\n",
    "                                      input_length=max_length, \n",
    "                                      trainable=False)\n",
    "    return word2vec_embedding_layer\n",
    "\n",
    "embedding = get_word2vec_embed_layer(X_train.shape[1], tokenizer, w2v_pretrain)"
   ]
  },
  {
   "cell_type": "code",
   "execution_count": 13,
   "id": "af91f2be",
   "metadata": {},
   "outputs": [],
   "source": [
    "y_train_arr = np.array(y_train).reshape(-1,1,y_train.shape[1])\n",
    "y_test_arr = np.array(y_test).reshape(-1,1,y_test.shape[1])"
   ]
  },
  {
   "cell_type": "markdown",
   "id": "d368aa01",
   "metadata": {},
   "source": [
    "# RNN Model for topic detection"
   ]
  },
  {
   "cell_type": "code",
   "execution_count": 14,
   "id": "15581087",
   "metadata": {},
   "outputs": [],
   "source": [
    "from tensorflow.keras.layers import LSTM, GRU, Dense\n",
    "from tensorflow.keras.callbacks import EarlyStopping"
   ]
  },
  {
   "cell_type": "code",
   "execution_count": 15,
   "id": "b6e373a2",
   "metadata": {},
   "outputs": [
    {
     "name": "stdout",
     "output_type": "stream",
     "text": [
      "Metal device set to: Apple M1\n"
     ]
    },
    {
     "name": "stderr",
     "output_type": "stream",
     "text": [
      "2022-08-06 14:35:53.308274: I tensorflow/core/common_runtime/pluggable_device/pluggable_device_factory.cc:305] Could not identify NUMA node of platform GPU ID 0, defaulting to 0. Your kernel may not have been built with NUMA support.\n",
      "2022-08-06 14:35:53.309986: I tensorflow/core/common_runtime/pluggable_device/pluggable_device_factory.cc:271] Created TensorFlow device (/job:localhost/replica:0/task:0/device:GPU:0 with 0 MB memory) -> physical PluggableDevice (device: 0, name: METAL, pci bus id: <undefined>)\n"
     ]
    }
   ],
   "source": [
    "model = Sequential()\n",
    "model.add(embedding)\n",
    "\n",
    "model.add(LSTM(64))\n",
    "model.add(Dense(y_train.shape[1],activation='softmax'))\n",
    "callback = EarlyStopping(monitor='val_loss', patience=3)\n",
    "\n",
    "model.compile(loss='CategoricalCrossentropy',metrics=['Accuracy'])"
   ]
  },
  {
   "cell_type": "code",
   "execution_count": 16,
   "id": "1c8025e1",
   "metadata": {},
   "outputs": [
    {
     "name": "stdout",
     "output_type": "stream",
     "text": [
      "Epoch 1/100\n"
     ]
    },
    {
     "name": "stderr",
     "output_type": "stream",
     "text": [
      "2022-08-06 14:35:53.751989: W tensorflow/core/platform/profile_utils/cpu_utils.cc:128] Failed to get CPU frequency: 0 Hz\n",
      "2022-08-06 14:35:54.610875: I tensorflow/core/grappler/optimizers/custom_graph_optimizer_registry.cc:113] Plugin optimizer for device_type GPU is enabled.\n",
      "2022-08-06 14:35:54.943934: I tensorflow/core/grappler/optimizers/custom_graph_optimizer_registry.cc:113] Plugin optimizer for device_type GPU is enabled.\n",
      "2022-08-06 14:35:55.652248: I tensorflow/core/grappler/optimizers/custom_graph_optimizer_registry.cc:113] Plugin optimizer for device_type GPU is enabled.\n"
     ]
    },
    {
     "name": "stdout",
     "output_type": "stream",
     "text": [
      "485/485 [==============================] - ETA: 0s - loss: 0.4304 - Accuracy: 0.8700"
     ]
    },
    {
     "name": "stderr",
     "output_type": "stream",
     "text": [
      "2022-08-06 14:36:01.254499: I tensorflow/core/grappler/optimizers/custom_graph_optimizer_registry.cc:113] Plugin optimizer for device_type GPU is enabled.\n",
      "2022-08-06 14:36:01.298651: I tensorflow/core/grappler/optimizers/custom_graph_optimizer_registry.cc:113] Plugin optimizer for device_type GPU is enabled.\n"
     ]
    },
    {
     "name": "stdout",
     "output_type": "stream",
     "text": [
      "485/485 [==============================] - 8s 12ms/step - loss: 0.4304 - Accuracy: 0.8700 - val_loss: 0.1819 - val_Accuracy: 0.9437\n",
      "Epoch 2/100\n",
      "485/485 [==============================] - 6s 12ms/step - loss: 0.1153 - Accuracy: 0.9618 - val_loss: 0.1084 - val_Accuracy: 0.9605\n",
      "Epoch 3/100\n",
      "485/485 [==============================] - 6s 12ms/step - loss: 0.0873 - Accuracy: 0.9688 - val_loss: 0.0839 - val_Accuracy: 0.9698\n",
      "Epoch 4/100\n",
      "485/485 [==============================] - 5s 11ms/step - loss: 0.0763 - Accuracy: 0.9716 - val_loss: 0.0787 - val_Accuracy: 0.9698\n",
      "Epoch 5/100\n",
      "485/485 [==============================] - 6s 12ms/step - loss: 0.0695 - Accuracy: 0.9728 - val_loss: 0.0769 - val_Accuracy: 0.9692\n",
      "Epoch 6/100\n",
      "485/485 [==============================] - 5s 11ms/step - loss: 0.0662 - Accuracy: 0.9744 - val_loss: 0.0729 - val_Accuracy: 0.9716\n",
      "Epoch 7/100\n",
      "485/485 [==============================] - 5s 11ms/step - loss: 0.0622 - Accuracy: 0.9753 - val_loss: 0.0710 - val_Accuracy: 0.9756\n",
      "Epoch 8/100\n",
      "485/485 [==============================] - 5s 11ms/step - loss: 0.0588 - Accuracy: 0.9764 - val_loss: 0.0705 - val_Accuracy: 0.9727\n",
      "Epoch 9/100\n",
      "485/485 [==============================] - 5s 11ms/step - loss: 0.0566 - Accuracy: 0.9781 - val_loss: 0.0649 - val_Accuracy: 0.9727\n",
      "Epoch 10/100\n",
      "485/485 [==============================] - 5s 11ms/step - loss: 0.0543 - Accuracy: 0.9790 - val_loss: 0.0609 - val_Accuracy: 0.9762\n",
      "Epoch 11/100\n",
      "485/485 [==============================] - 5s 11ms/step - loss: 0.0532 - Accuracy: 0.9789 - val_loss: 0.0652 - val_Accuracy: 0.9762\n",
      "Epoch 12/100\n",
      "485/485 [==============================] - 6s 12ms/step - loss: 0.0521 - Accuracy: 0.9797 - val_loss: 0.0650 - val_Accuracy: 0.9756\n",
      "Epoch 13/100\n",
      "485/485 [==============================] - 5s 11ms/step - loss: 0.0496 - Accuracy: 0.9796 - val_loss: 0.0598 - val_Accuracy: 0.9745\n",
      "Epoch 14/100\n",
      "485/485 [==============================] - 6s 12ms/step - loss: 0.0500 - Accuracy: 0.9799 - val_loss: 0.0652 - val_Accuracy: 0.9750\n",
      "Epoch 15/100\n",
      "485/485 [==============================] - 6s 12ms/step - loss: 0.0483 - Accuracy: 0.9805 - val_loss: 0.0695 - val_Accuracy: 0.9721\n",
      "Epoch 16/100\n",
      "485/485 [==============================] - 6s 12ms/step - loss: 0.0480 - Accuracy: 0.9810 - val_loss: 0.0579 - val_Accuracy: 0.9756\n",
      "Epoch 17/100\n",
      "485/485 [==============================] - 6s 11ms/step - loss: 0.0458 - Accuracy: 0.9816 - val_loss: 0.0593 - val_Accuracy: 0.9762\n",
      "Epoch 18/100\n",
      "485/485 [==============================] - 6s 12ms/step - loss: 0.0443 - Accuracy: 0.9808 - val_loss: 0.0596 - val_Accuracy: 0.9774\n",
      "Epoch 19/100\n",
      "485/485 [==============================] - 6s 12ms/step - loss: 0.0454 - Accuracy: 0.9818 - val_loss: 0.0615 - val_Accuracy: 0.9762\n"
     ]
    },
    {
     "data": {
      "text/plain": [
       "<keras.callbacks.History at 0x3b19e2fd0>"
      ]
     },
     "execution_count": 16,
     "metadata": {},
     "output_type": "execute_result"
    }
   ],
   "source": [
    "model.fit(X_train,y_train,validation_split=0.1,epochs=100,callbacks=[callback])"
   ]
  },
  {
   "cell_type": "markdown",
   "id": "064ab5ec",
   "metadata": {},
   "source": [
    "# Model Inference"
   ]
  },
  {
   "cell_type": "code",
   "execution_count": 17,
   "id": "8e4700c9",
   "metadata": {},
   "outputs": [
    {
     "name": "stderr",
     "output_type": "stream",
     "text": [
      "WARNING:absl:Found untraced functions such as lstm_cell_layer_call_fn, lstm_cell_layer_call_and_return_conditional_losses while saving (showing 2 of 2). These functions will not be directly callable after loading.\n"
     ]
    },
    {
     "name": "stdout",
     "output_type": "stream",
     "text": [
      "INFO:tensorflow:Assets written to: RNN_chatbot/assets\n"
     ]
    },
    {
     "name": "stderr",
     "output_type": "stream",
     "text": [
      "INFO:tensorflow:Assets written to: RNN_chatbot/assets\n"
     ]
    }
   ],
   "source": [
    "model.save(\"RNN_chatbot\")"
   ]
  },
  {
   "cell_type": "code",
   "execution_count": 18,
   "id": "951b343c",
   "metadata": {},
   "outputs": [
    {
     "name": "stdout",
     "output_type": "stream",
     "text": [
      "Maxlen of prediction:  13\n"
     ]
    },
    {
     "data": {
      "text/plain": [
       "{0: 'ACCOUNT',\n",
       " 1: 'CANCELLATION_FEE',\n",
       " 2: 'CONTACT',\n",
       " 3: 'DELIVERY',\n",
       " 4: 'FEEDBACK',\n",
       " 5: 'INVOICES',\n",
       " 6: 'NEWSLETTER',\n",
       " 7: 'ORDER',\n",
       " 8: 'PAYMENT',\n",
       " 9: 'REFUNDS',\n",
       " 10: 'SHIPPING'}"
      ]
     },
     "execution_count": 18,
     "metadata": {},
     "output_type": "execute_result"
    }
   ],
   "source": [
    "topic_mapping =dict(zip(range(11),list(y_train.columns)))\n",
    "print('Maxlen of prediction: ',max_length) # The incoming texts will be pad/ cut to length 13\n",
    "topic_mapping"
   ]
  },
  {
   "cell_type": "code",
   "execution_count": 19,
   "id": "96954ed4",
   "metadata": {},
   "outputs": [],
   "source": [
    "def accuracy_rate(df):\n",
    "    return np.sum(df['True']!=df['Predict'])/len(df)\n",
    "def model_evaluation(model,X,y):\n",
    "    # Pass a list of word, label\n",
    "    X_preprocessed = list(map(preprocess,X))\n",
    "    X_input = pad_sequences(tokenizer.texts_to_sequences(X),maxlen=max_length,padding='post')\n",
    "    y_pred = model.predict(X_input)\n",
    "    class_prob = np.max(y_pred,axis=1)\n",
    "    label = np.argmax(y_pred,axis=1)\n",
    "    result = pd.DataFrame({'Word':X,'True':y,'Prob':class_prob,'Predict':label})\n",
    "    result['Predict']= result['Predict'].apply(lambda x: topic_mapping[x])\n",
    "    print('Accuracy: ',np.sum(result['True']==result['Predict'])/len(X))\n",
    "    print('Top 5 misclassification:')\n",
    "    temp = result[result['True']!=result['Predict']].sort_values(by='Prob').head(5)\n",
    "    print(temp.to_string())\n",
    "    print(\"-\"*100)\n",
    "    print(\"Misclassification Rate by category:\")\n",
    "    temp = result.groupby('True').apply(lambda x: accuracy_rate(x))\n",
    "    print(temp)\n",
    "    return result"
   ]
  },
  {
   "cell_type": "markdown",
   "id": "7927a38e",
   "metadata": {},
   "source": [
    "## Evaluation on Training Set\n",
    "The overall accuracy is quite satisfactory\n",
    "The performance on some minority catrgories like Shipping,  Delivery,  cancellation_fee is quite bad subjucted to small sample size"
   ]
  },
  {
   "cell_type": "code",
   "execution_count": 20,
   "id": "870cd3f6",
   "metadata": {},
   "outputs": [
    {
     "name": "stdout",
     "output_type": "stream",
     "text": [
      " 12/539 [..............................] - ETA: 2s  "
     ]
    },
    {
     "name": "stderr",
     "output_type": "stream",
     "text": [
      "2022-08-06 14:37:47.385649: I tensorflow/core/grappler/optimizers/custom_graph_optimizer_registry.cc:113] Plugin optimizer for device_type GPU is enabled.\n",
      "2022-08-06 14:37:47.431501: I tensorflow/core/grappler/optimizers/custom_graph_optimizer_registry.cc:113] Plugin optimizer for device_type GPU is enabled.\n"
     ]
    },
    {
     "name": "stdout",
     "output_type": "stream",
     "text": [
      "539/539 [==============================] - 2s 3ms/step\n",
      "Accuracy:  0.8096012074069774\n",
      "Top 5 misclassification:\n",
      "                                             Word      True      Prob   Predict\n",
      "1052                       ho to rceate a profile   ACCOUNT  0.224204  DELIVERY\n",
      "8397            how sono can i expect my tickets?  DELIVERY  0.238577  INVOICES\n",
      "3914       my profile was hacked, can u belp me ?   ACCOUNT  0.263164   REFUNDS\n",
      "7463                            u are not helping   CONTACT  0.263164   REFUNDS\n",
      "3876  my account's been hacked, can u recover it?   ACCOUNT  0.263164   REFUNDS\n",
      "----------------------------------------------------------------------------------------------------\n",
      "Misclassification Rate by category:\n",
      "True\n",
      "ACCOUNT             0.240000\n",
      "CANCELLATION_FEE    0.736842\n",
      "CONTACT             0.069303\n",
      "DELIVERY            0.415423\n",
      "FEEDBACK            0.039305\n",
      "INVOICES            0.206582\n",
      "NEWSLETTER          0.175141\n",
      "ORDER               0.262688\n",
      "PAYMENT             0.153887\n",
      "REFUNDS             0.161880\n",
      "SHIPPING            0.546584\n",
      "dtype: float64\n"
     ]
    }
   ],
   "source": [
    "result =model_evaluation(model,df_train['utterance'],df_train['category'])"
   ]
  },
  {
   "cell_type": "markdown",
   "id": "9b9ebb92",
   "metadata": {},
   "source": [
    "## Evalution on Test Set\n",
    "The performance on testing set is quite consistent with the one in training set, indicate there is no sign of overfitting"
   ]
  },
  {
   "cell_type": "code",
   "execution_count": 21,
   "id": "c126f82c",
   "metadata": {},
   "outputs": [
    {
     "name": "stdout",
     "output_type": "stream",
     "text": [
      "135/135 [==============================] - 0s 3ms/step\n",
      "Accuracy:  0.802646853958672\n",
      "Top 5 misclassification:\n",
      "                                                                        Word     True      Prob  Predict\n",
      "6442  I want information, I ned help speaking with Customer Servgice, please  CONTACT  0.234961  ACCOUNT\n",
      "3202                                my profile was hacked, can u recover it?  ACCOUNT  0.263164  REFUNDS\n",
      "7002                                                  can u contcat someone?  CONTACT  0.263164  REFUNDS\n",
      "4266                                           I'm having problems signing u  ACCOUNT  0.263164  REFUNDS\n",
      "3570                                my account's been hacked, can u help me?  ACCOUNT  0.278325  REFUNDS\n",
      "----------------------------------------------------------------------------------------------------\n",
      "Misclassification Rate by category:\n",
      "True\n",
      "ACCOUNT             0.236052\n",
      "CANCELLATION_FEE    0.746667\n",
      "CONTACT             0.076433\n",
      "DELIVERY            0.505051\n",
      "FEEDBACK            0.043103\n",
      "INVOICES            0.198718\n",
      "NEWSLETTER          0.118644\n",
      "ORDER               0.282937\n",
      "PAYMENT             0.139073\n",
      "REFUNDS             0.210000\n",
      "SHIPPING            0.555556\n",
      "dtype: float64\n"
     ]
    }
   ],
   "source": [
    "result =model_evaluation(model,df_test['utterance'],df_test['category'])"
   ]
  },
  {
   "cell_type": "markdown",
   "id": "c28940e9",
   "metadata": {},
   "source": [
    "# Inference on some self prepare enquiry"
   ]
  },
  {
   "cell_type": "code",
   "execution_count": 22,
   "id": "29323afd",
   "metadata": {},
   "outputs": [],
   "source": [
    "Enquiry=['I want to open an account',\"The hat quality is poor, can I return it?\",\"Find somebody to talk with me or cotact me later\"]\n",
    "# Enquiry 1 and 2 should be some quite standard Account and Refund enquiry.\n",
    "# Enquiry 3 is about contact, but there is some typo\n",
    "topic_ans = ['ACCOUNT','REFUNDS','CONTACT']"
   ]
  },
  {
   "cell_type": "code",
   "execution_count": 23,
   "id": "414edf9a",
   "metadata": {},
   "outputs": [
    {
     "name": "stdout",
     "output_type": "stream",
     "text": [
      "1/1 [==============================] - 0s 91ms/step\n",
      "Accuracy:  0.6666666666666666\n",
      "Top 5 misclassification:\n",
      "                                               Word     True      Prob   Predict\n",
      "2  Find somebody to talk with me or cotact me later  CONTACT  0.626085  INVOICES\n",
      "----------------------------------------------------------------------------------------------------\n",
      "Misclassification Rate by category:\n",
      "True\n",
      "ACCOUNT    0.0\n",
      "CONTACT    1.0\n",
      "REFUNDS    0.0\n",
      "dtype: float64\n"
     ]
    },
    {
     "data": {
      "text/html": [
       "<div>\n",
       "<style scoped>\n",
       "    .dataframe tbody tr th:only-of-type {\n",
       "        vertical-align: middle;\n",
       "    }\n",
       "\n",
       "    .dataframe tbody tr th {\n",
       "        vertical-align: top;\n",
       "    }\n",
       "\n",
       "    .dataframe thead th {\n",
       "        text-align: right;\n",
       "    }\n",
       "</style>\n",
       "<table border=\"1\" class=\"dataframe\">\n",
       "  <thead>\n",
       "    <tr style=\"text-align: right;\">\n",
       "      <th></th>\n",
       "      <th>Word</th>\n",
       "      <th>True</th>\n",
       "      <th>Prob</th>\n",
       "      <th>Predict</th>\n",
       "    </tr>\n",
       "  </thead>\n",
       "  <tbody>\n",
       "    <tr>\n",
       "      <th>0</th>\n",
       "      <td>I want to open an account</td>\n",
       "      <td>ACCOUNT</td>\n",
       "      <td>0.999981</td>\n",
       "      <td>ACCOUNT</td>\n",
       "    </tr>\n",
       "    <tr>\n",
       "      <th>1</th>\n",
       "      <td>The hat quality is poor, can I return it?</td>\n",
       "      <td>REFUNDS</td>\n",
       "      <td>0.549255</td>\n",
       "      <td>REFUNDS</td>\n",
       "    </tr>\n",
       "    <tr>\n",
       "      <th>2</th>\n",
       "      <td>Find somebody to talk with me or cotact me later</td>\n",
       "      <td>CONTACT</td>\n",
       "      <td>0.626085</td>\n",
       "      <td>INVOICES</td>\n",
       "    </tr>\n",
       "  </tbody>\n",
       "</table>\n",
       "</div>"
      ],
      "text/plain": [
       "                                               Word     True      Prob  \\\n",
       "0                         I want to open an account  ACCOUNT  0.999981   \n",
       "1         The hat quality is poor, can I return it?  REFUNDS  0.549255   \n",
       "2  Find somebody to talk with me or cotact me later  CONTACT  0.626085   \n",
       "\n",
       "    Predict  \n",
       "0   ACCOUNT  \n",
       "1   REFUNDS  \n",
       "2  INVOICES  "
      ]
     },
     "execution_count": 23,
     "metadata": {},
     "output_type": "execute_result"
    }
   ],
   "source": [
    "model_evaluation(model,Enquiry,topic_ans)"
   ]
  },
  {
   "cell_type": "code",
   "execution_count": null,
   "id": "14310d99",
   "metadata": {},
   "outputs": [],
   "source": []
  }
 ],
 "metadata": {
  "kernelspec": {
   "display_name": "Python 3 (ipykernel)",
   "language": "python",
   "name": "python3"
  },
  "language_info": {
   "codemirror_mode": {
    "name": "ipython",
    "version": 3
   },
   "file_extension": ".py",
   "mimetype": "text/x-python",
   "name": "python",
   "nbconvert_exporter": "python",
   "pygments_lexer": "ipython3",
   "version": "3.9.13"
  }
 },
 "nbformat": 4,
 "nbformat_minor": 5
}
