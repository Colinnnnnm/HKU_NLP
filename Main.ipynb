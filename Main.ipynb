{
 "cells": [
  {
   "cell_type": "code",
   "execution_count": 1,
   "id": "b6dc84ec",
   "metadata": {},
   "outputs": [
    {
     "data": {
      "text/html": [
       "<div>\n",
       "<style scoped>\n",
       "    .dataframe tbody tr th:only-of-type {\n",
       "        vertical-align: middle;\n",
       "    }\n",
       "\n",
       "    .dataframe tbody tr th {\n",
       "        vertical-align: top;\n",
       "    }\n",
       "\n",
       "    .dataframe thead th {\n",
       "        text-align: right;\n",
       "    }\n",
       "</style>\n",
       "<table border=\"1\" class=\"dataframe\">\n",
       "  <thead>\n",
       "    <tr style=\"text-align: right;\">\n",
       "      <th></th>\n",
       "      <th>flags</th>\n",
       "      <th>utterance</th>\n",
       "      <th>category</th>\n",
       "      <th>intent</th>\n",
       "    </tr>\n",
       "  </thead>\n",
       "  <tbody>\n",
       "    <tr>\n",
       "      <th>0</th>\n",
       "      <td>BILC</td>\n",
       "      <td>I don't have an online account, what do I have...</td>\n",
       "      <td>ACCOUNT</td>\n",
       "      <td>create_account</td>\n",
       "    </tr>\n",
       "    <tr>\n",
       "      <th>1</th>\n",
       "      <td>BILQZ</td>\n",
       "      <td>can you tell me if i can regisger two accounts...</td>\n",
       "      <td>ACCOUNT</td>\n",
       "      <td>create_account</td>\n",
       "    </tr>\n",
       "    <tr>\n",
       "      <th>2</th>\n",
       "      <td>BPLC</td>\n",
       "      <td>I have no online account, open one, please</td>\n",
       "      <td>ACCOUNT</td>\n",
       "      <td>create_account</td>\n",
       "    </tr>\n",
       "    <tr>\n",
       "      <th>3</th>\n",
       "      <td>BIPLD</td>\n",
       "      <td>could you ask an agent how to open an account,...</td>\n",
       "      <td>ACCOUNT</td>\n",
       "      <td>create_account</td>\n",
       "    </tr>\n",
       "    <tr>\n",
       "      <th>4</th>\n",
       "      <td>BLQC</td>\n",
       "      <td>i want an online account, create one</td>\n",
       "      <td>ACCOUNT</td>\n",
       "      <td>create_account</td>\n",
       "    </tr>\n",
       "  </tbody>\n",
       "</table>\n",
       "</div>"
      ],
      "text/plain": [
       "   flags                                          utterance category  \\\n",
       "0   BILC  I don't have an online account, what do I have...  ACCOUNT   \n",
       "1  BILQZ  can you tell me if i can regisger two accounts...  ACCOUNT   \n",
       "2   BPLC         I have no online account, open one, please  ACCOUNT   \n",
       "3  BIPLD  could you ask an agent how to open an account,...  ACCOUNT   \n",
       "4   BLQC               i want an online account, create one  ACCOUNT   \n",
       "\n",
       "           intent  \n",
       "0  create_account  \n",
       "1  create_account  \n",
       "2  create_account  \n",
       "3  create_account  \n",
       "4  create_account  "
      ]
     },
     "execution_count": 1,
     "metadata": {},
     "output_type": "execute_result"
    }
   ],
   "source": [
    "import pandas as pd\n",
    "import nltk\n",
    "import gensim\n",
    "import numpy as np\n",
    "df = pd.read_csv('./content/archive/20000-Utterances-Training-dataset-for-chatbots-virtual-assistant-Bitext-sample/20000-Utterances-Training-dataset-for-chatbots-virtual-assistant-Bitext-sample/20000-Utterances-Training-dataset-for-chatbots-virtual-assistant-Bitext-sample.csv')\n",
    "df.head(5)"
   ]
  },
  {
   "cell_type": "markdown",
   "id": "40839931",
   "metadata": {},
   "source": [
    "# Basic Processing"
   ]
  },
  {
   "cell_type": "code",
   "execution_count": 2,
   "id": "d37e6d43",
   "metadata": {},
   "outputs": [
    {
     "name": "stdout",
     "output_type": "stream",
     "text": [
      "0                             [onlin, account, regist]\n",
      "1    [tell, regisg, two, account, singl, email, add...\n",
      "2                   [onlin, account, open, one, pleas]\n",
      "3            [could, ask, agent, open, account, pleas]\n",
      "4                   [want, onlin, account, creat, one]\n",
      "Name: words, dtype: object\n",
      "count           21534\n",
      "unique          10836\n",
      "top       [see, bill]\n",
      "freq               31\n",
      "Name: words, dtype: object\n"
     ]
    }
   ],
   "source": [
    "from nltk import word_tokenize\n",
    "from nltk.corpus import stopwords\n",
    "from nltk.stem import PorterStemmer\n",
    "english_stopwords = stopwords.words('english')\n",
    "porter = PorterStemmer()\n",
    "def preprocess(text):\n",
    "    text = text.lower()\n",
    "    token = word_tokenize(text)\n",
    "    token = [porter.stem(word) for word in token if (word not in english_stopwords) and word.isalpha()]\n",
    "    return token\n",
    "df['words'] = df['utterance'].apply(lambda x: preprocess(x))\n",
    "print(df['words'].head())\n",
    "print(df['words'].describe())"
   ]
  },
  {
   "cell_type": "code",
   "execution_count": 3,
   "id": "515af0f4",
   "metadata": {},
   "outputs": [],
   "source": [
    "from sklearn.model_selection import train_test_split\n",
    "df_train, df_test = train_test_split(df, test_size=0.2, random_state = 1337)"
   ]
  },
  {
   "cell_type": "markdown",
   "id": "8a204870",
   "metadata": {},
   "source": [
    "# Building Embedding Layer"
   ]
  },
  {
   "cell_type": "code",
   "execution_count": 4,
   "id": "82210870",
   "metadata": {},
   "outputs": [],
   "source": [
    "import pandas as pd\n",
    "import numpy as np\n",
    "import gensim\n",
    "import tensorflow as tf"
   ]
  },
  {
   "cell_type": "code",
   "execution_count": 5,
   "id": "65ed1792",
   "metadata": {},
   "outputs": [],
   "source": [
    "# Download from https://drive.google.com/file/d/0B7XkCwpI5KDYNlNUTTlSS21pQmM/edit?resourcekey=0-wjGZdNAUop6WykTtMip30g\n",
    "w2v_pretrain= gensim.models.KeyedVectors.load_word2vec_format(\"GoogleNews-vectors-negative300.bin\", binary=True)"
   ]
  },
  {
   "cell_type": "code",
   "execution_count": 6,
   "id": "7ff17c35",
   "metadata": {},
   "outputs": [],
   "source": [
    "from tensorflow.keras.preprocessing.text import Tokenizer\n",
    "from tensorflow.keras.preprocessing.sequence import pad_sequences\n",
    "tokenizer = Tokenizer()\n",
    "tokenizer.fit_on_texts(df_train['words'])\n",
    "encoded_train_docs = tokenizer.texts_to_sequences(df_train['words'])\n",
    "encoded_test_docs = tokenizer.texts_to_sequences(df_test['words'])\n",
    "max_length = max([len(s) for s in df_train['words']])\n",
    "X_train = pad_sequences(encoded_train_docs, \n",
    "                        maxlen=max_length, \n",
    "                        padding='post')\n",
    "y_train = pd.get_dummies(df_train['category'])\n",
    "X_test = pad_sequences(encoded_test_docs, \n",
    "                        maxlen=max_length, \n",
    "                        padding='post')\n",
    "y_test = pd.get_dummies(df_test['category'])"
   ]
  },
  {
   "cell_type": "code",
   "execution_count": 7,
   "id": "f384bd4b",
   "metadata": {},
   "outputs": [],
   "source": [
    "# word2vec + cnn\n",
    "from tensorflow.keras.preprocessing.text import Tokenizer\n",
    "from tensorflow.keras.preprocessing.sequence import pad_sequences\n",
    "from tensorflow.keras.models import Sequential\n",
    "from tensorflow.keras.layers import Dense, Flatten, Embedding, Conv1D, MaxPooling1D\n",
    "from tensorflow.keras.preprocessing.sequence import pad_sequences\n",
    "import numpy as np\n",
    "\n",
    "def get_word2vec_embed_layer(max_length, tokenizer, model):\n",
    "    word_index = tokenizer.word_index\n",
    "    embedding_mat = np.zeros((len(word_index)+1, 300))\n",
    "    for word, i in word_index.items():\n",
    "        try:\n",
    "            vector = model.get_vector(word)\n",
    "            embedding_mat[i] = vector\n",
    "        except:\n",
    "            continue\n",
    "    word2vec_embedding_layer = Embedding(input_dim=embedding_mat.shape[0],\n",
    "                                      output_dim=embedding_mat.shape[1], \n",
    "                                      weights=[embedding_mat],\n",
    "                                      input_length=max_length, \n",
    "                                      trainable=False)\n",
    "    return word2vec_embedding_layer\n",
    "\n",
    "embedding = get_word2vec_embed_layer(X_train.shape[1], tokenizer, w2v_pretrain)"
   ]
  },
  {
   "cell_type": "code",
   "execution_count": 8,
   "id": "7a8ec1da",
   "metadata": {},
   "outputs": [],
   "source": [
    "y_train_arr = np.array(y_train).reshape(-1,1,y_train.shape[1])\n",
    "y_test_arr = np.array(y_test).reshape(-1,1,y_test.shape[1])"
   ]
  },
  {
   "cell_type": "markdown",
   "id": "da440ba9",
   "metadata": {},
   "source": [
    "# RNN Model for topic detection"
   ]
  },
  {
   "cell_type": "code",
   "execution_count": 9,
   "id": "ceb27d66",
   "metadata": {},
   "outputs": [],
   "source": [
    "from tensorflow.keras.layers import LSTM, GRU, Dense\n",
    "from tensorflow.keras.callbacks import EarlyStopping"
   ]
  },
  {
   "cell_type": "code",
   "execution_count": 29,
   "id": "2c1c5e36",
   "metadata": {},
   "outputs": [],
   "source": [
    "model = Sequential()\n",
    "model.add(embedding)\n",
    "\n",
    "model.add(LSTM(64))\n",
    "model.add(Dense(y_train.shape[1],activation='softmax'))\n",
    "callback = EarlyStopping(monitor='val_loss', patience=3)\n",
    "\n",
    "model.compile(loss='CategoricalCrossentropy',metrics=['Accuracy'])"
   ]
  },
  {
   "cell_type": "code",
   "execution_count": 30,
   "id": "afaf0a9f",
   "metadata": {},
   "outputs": [
    {
     "name": "stdout",
     "output_type": "stream",
     "text": [
      "Epoch 1/100\n"
     ]
    },
    {
     "name": "stderr",
     "output_type": "stream",
     "text": [
      "2022-07-17 20:57:27.860184: I tensorflow/core/grappler/optimizers/custom_graph_optimizer_registry.cc:113] Plugin optimizer for device_type GPU is enabled.\n",
      "2022-07-17 20:57:27.974115: I tensorflow/core/grappler/optimizers/custom_graph_optimizer_registry.cc:113] Plugin optimizer for device_type GPU is enabled.\n",
      "2022-07-17 20:57:28.043507: I tensorflow/core/grappler/optimizers/custom_graph_optimizer_registry.cc:113] Plugin optimizer for device_type GPU is enabled.\n"
     ]
    },
    {
     "name": "stdout",
     "output_type": "stream",
     "text": [
      "484/485 [============================>.] - ETA: 0s - loss: 0.4346 - Accuracy: 0.8665"
     ]
    },
    {
     "name": "stderr",
     "output_type": "stream",
     "text": [
      "2022-07-17 20:57:33.644653: I tensorflow/core/grappler/optimizers/custom_graph_optimizer_registry.cc:113] Plugin optimizer for device_type GPU is enabled.\n",
      "2022-07-17 20:57:33.689240: I tensorflow/core/grappler/optimizers/custom_graph_optimizer_registry.cc:113] Plugin optimizer for device_type GPU is enabled.\n"
     ]
    },
    {
     "name": "stdout",
     "output_type": "stream",
     "text": [
      "485/485 [==============================] - 7s 12ms/step - loss: 0.4344 - Accuracy: 0.8666 - val_loss: 0.1838 - val_Accuracy: 0.9408\n",
      "Epoch 2/100\n",
      "485/485 [==============================] - 6s 12ms/step - loss: 0.1194 - Accuracy: 0.9603 - val_loss: 0.1582 - val_Accuracy: 0.9553\n",
      "Epoch 3/100\n",
      "485/485 [==============================] - 6s 12ms/step - loss: 0.0921 - Accuracy: 0.9682 - val_loss: 0.0751 - val_Accuracy: 0.9721\n",
      "Epoch 4/100\n",
      "485/485 [==============================] - 6s 12ms/step - loss: 0.0804 - Accuracy: 0.9718 - val_loss: 0.0774 - val_Accuracy: 0.9739\n",
      "Epoch 5/100\n",
      "485/485 [==============================] - 6s 12ms/step - loss: 0.0715 - Accuracy: 0.9749 - val_loss: 0.0731 - val_Accuracy: 0.9733\n",
      "Epoch 6/100\n",
      "485/485 [==============================] - 6s 12ms/step - loss: 0.0667 - Accuracy: 0.9752 - val_loss: 0.0715 - val_Accuracy: 0.9681\n",
      "Epoch 7/100\n",
      "485/485 [==============================] - 6s 12ms/step - loss: 0.0630 - Accuracy: 0.9751 - val_loss: 0.0748 - val_Accuracy: 0.9733\n",
      "Epoch 8/100\n",
      "485/485 [==============================] - 6s 12ms/step - loss: 0.0586 - Accuracy: 0.9764 - val_loss: 0.1376 - val_Accuracy: 0.9692\n",
      "Epoch 9/100\n",
      "485/485 [==============================] - 6s 12ms/step - loss: 0.0579 - Accuracy: 0.9772 - val_loss: 0.0821 - val_Accuracy: 0.9733\n"
     ]
    },
    {
     "data": {
      "text/plain": [
       "<keras.callbacks.History at 0x3c4e702b0>"
      ]
     },
     "execution_count": 30,
     "metadata": {},
     "output_type": "execute_result"
    }
   ],
   "source": [
    "model.fit(X_train,y_train,validation_split=0.1,epochs=100,callbacks=[callback])"
   ]
  },
  {
   "cell_type": "markdown",
   "id": "d6afd008",
   "metadata": {},
   "source": [
    "# Model Inference"
   ]
  },
  {
   "cell_type": "code",
   "execution_count": 31,
   "id": "6e314a62",
   "metadata": {},
   "outputs": [
    {
     "name": "stderr",
     "output_type": "stream",
     "text": [
      "WARNING:absl:Found untraced functions such as lstm_cell_4_layer_call_fn, lstm_cell_4_layer_call_and_return_conditional_losses while saving (showing 2 of 2). These functions will not be directly callable after loading.\n"
     ]
    },
    {
     "name": "stdout",
     "output_type": "stream",
     "text": [
      "INFO:tensorflow:Assets written to: RNN_chatbot/assets\n"
     ]
    },
    {
     "name": "stderr",
     "output_type": "stream",
     "text": [
      "INFO:tensorflow:Assets written to: RNN_chatbot/assets\n"
     ]
    }
   ],
   "source": [
    "model.save(\"RNN_chatbot\")"
   ]
  },
  {
   "cell_type": "code",
   "execution_count": 32,
   "id": "625e17f4",
   "metadata": {},
   "outputs": [
    {
     "name": "stdout",
     "output_type": "stream",
     "text": [
      "Maxlen of prediction:  13\n"
     ]
    },
    {
     "data": {
      "text/plain": [
       "{0: 'ACCOUNT',\n",
       " 1: 'CANCELLATION_FEE',\n",
       " 2: 'CONTACT',\n",
       " 3: 'DELIVERY',\n",
       " 4: 'FEEDBACK',\n",
       " 5: 'INVOICES',\n",
       " 6: 'NEWSLETTER',\n",
       " 7: 'ORDER',\n",
       " 8: 'PAYMENT',\n",
       " 9: 'REFUNDS',\n",
       " 10: 'SHIPPING'}"
      ]
     },
     "execution_count": 32,
     "metadata": {},
     "output_type": "execute_result"
    }
   ],
   "source": [
    "topic_mapping =dict(zip(range(11),list(y_train.columns)))\n",
    "print('Maxlen of prediction: ',max_length) # The incoming texts will be pad/ cut to length 13\n",
    "topic_mapping"
   ]
  },
  {
   "cell_type": "code",
   "execution_count": 33,
   "id": "ba4892e0",
   "metadata": {},
   "outputs": [],
   "source": [
    "def accuracy_rate(df):\n",
    "    return np.sum(df['True']!=df['Predict'])/len(df)\n",
    "def model_evaluation(model,X,y):\n",
    "    # Pass a list of word, label\n",
    "    X_preprocessed = list(map(preprocess,X))\n",
    "    X_input = pad_sequences(tokenizer.texts_to_sequences(X),maxlen=max_length,padding='post')\n",
    "    y_pred = model.predict(X_input)\n",
    "    class_prob = np.max(y_pred,axis=1)\n",
    "    label = np.argmax(y_pred,axis=1)\n",
    "    result = pd.DataFrame({'Word':X,'True':y,'Prob':class_prob,'Predict':label})\n",
    "    result['Predict']= result['Predict'].apply(lambda x: topic_mapping[x])\n",
    "    print('Accuracy: ',np.sum(result['True']==result['Predict'])/len(X))\n",
    "    print('Top 5 misclassification:')\n",
    "    temp = result[result['True']!=result['Predict']].sort_values(by='Prob').head(5)\n",
    "    print(temp.to_string())\n",
    "    print(\"-\"*100)\n",
    "    print(\"Misclassification Rate by category:\")\n",
    "    temp = result.groupby('True').apply(lambda x: accuracy_rate(x))\n",
    "    print(temp)\n",
    "    return result"
   ]
  },
  {
   "cell_type": "markdown",
   "id": "961ccd12",
   "metadata": {},
   "source": [
    "## Evaluation on Training Set\n",
    "The overall accuracy is quite satisfactory\n",
    "The performance on some minority catrgories like Shipping,  Delivery,  cancellation_fee is quite bad subjucted to small sample size"
   ]
  },
  {
   "cell_type": "code",
   "execution_count": 34,
   "id": "f1e2c78e",
   "metadata": {},
   "outputs": [
    {
     "name": "stdout",
     "output_type": "stream",
     "text": [
      " 27/539 [>.............................] - ETA: 1s"
     ]
    },
    {
     "name": "stderr",
     "output_type": "stream",
     "text": [
      "2022-07-17 20:58:25.140776: I tensorflow/core/grappler/optimizers/custom_graph_optimizer_registry.cc:113] Plugin optimizer for device_type GPU is enabled.\n",
      "2022-07-17 20:58:25.184864: I tensorflow/core/grappler/optimizers/custom_graph_optimizer_registry.cc:113] Plugin optimizer for device_type GPU is enabled.\n"
     ]
    },
    {
     "name": "stdout",
     "output_type": "stream",
     "text": [
      "539/539 [==============================] - 2s 3ms/step\n",
      "Accuracy:  0.8423985603993731\n",
      "Top 5 misclassification:\n",
      "                                                                         Word      True      Prob     Predict\n",
      "20961          please, could u ask an agnt where to receive an reimbursement?   REFUNDS  0.267685  NEWSLETTER\n",
      "6587   I would like information, I need help calling Customer Service, please   CONTACT  0.295178  NEWSLETTER\n",
      "9827                                i want to checkl my bills, can u help me?  INVOICES  0.295393     ACCOUNT\n",
      "8412                                ask an agent hhow long the delivery takes  DELIVERY  0.300667  NEWSLETTER\n",
      "6418                      tell me what the free number of Customer Support is   CONTACT  0.302037    DELIVERY\n",
      "----------------------------------------------------------------------------------------------------\n",
      "Misclassification Rate by category:\n",
      "True\n",
      "ACCOUNT             0.100966\n",
      "CANCELLATION_FEE    0.740351\n",
      "CONTACT             0.096616\n",
      "DELIVERY            0.412935\n",
      "FEEDBACK            0.035649\n",
      "INVOICES            0.173165\n",
      "NEWSLETTER          0.717514\n",
      "ORDER               0.203569\n",
      "PAYMENT             0.135925\n",
      "REFUNDS             0.221279\n",
      "SHIPPING            0.099379\n",
      "dtype: float64\n"
     ]
    }
   ],
   "source": [
    "result =model_evaluation(model,df_train['utterance'],df_train['category'])"
   ]
  },
  {
   "cell_type": "markdown",
   "id": "45682602",
   "metadata": {},
   "source": [
    "## Evalution on Test Set\n",
    "The performance on testing set is quite consistent with the one in training set, indicate there is no sign of overfitting"
   ]
  },
  {
   "cell_type": "code",
   "execution_count": 35,
   "id": "76f474a6",
   "metadata": {},
   "outputs": [
    {
     "name": "stdout",
     "output_type": "stream",
     "text": [
      "135/135 [==============================] - 0s 3ms/step\n",
      "Accuracy:  0.8344555374970978\n",
      "Top 5 misclassification:\n",
      "                                                                         Word        True      Prob     Predict\n",
      "6442   I want information, I ned help speaking with Customer Servgice, please     CONTACT  0.234240     ACCOUNT\n",
      "13758               can u ask an agnet if my fucking orders are on their way?       ORDER  0.284226     REFUNDS\n",
      "8358                      can u ask an agent how soon i can expect my tickets    DELIVERY  0.312659    INVOICES\n",
      "12498                       I wantto know avout subscribing to the newsletter  NEWSLETTER  0.320301       ORDER\n",
      "2487                          I don't want my profile and I want to delete it     ACCOUNT  0.334384  NEWSLETTER\n",
      "----------------------------------------------------------------------------------------------------\n",
      "Misclassification Rate by category:\n",
      "True\n",
      "ACCOUNT             0.085837\n",
      "CANCELLATION_FEE    0.746667\n",
      "CONTACT             0.106688\n",
      "DELIVERY            0.484848\n",
      "FEEDBACK            0.056034\n",
      "INVOICES            0.162393\n",
      "NEWSLETTER          0.644068\n",
      "ORDER               0.228942\n",
      "PAYMENT             0.134658\n",
      "REFUNDS             0.260000\n",
      "SHIPPING            0.066667\n",
      "dtype: float64\n"
     ]
    }
   ],
   "source": [
    "result =model_evaluation(model,df_test['utterance'],df_test['category'])"
   ]
  },
  {
   "cell_type": "markdown",
   "id": "8b993de0",
   "metadata": {},
   "source": [
    "# Inference on some self prepare enquiry"
   ]
  },
  {
   "cell_type": "code",
   "execution_count": 37,
   "id": "9aaf06c9",
   "metadata": {},
   "outputs": [],
   "source": [
    "Enquiry=['I want to open an account',\"The hat quality is poor, can I return it?\",\"Find somebody to talk with me or cotact me later\"]\n",
    "# Enquiry 1 and 2 should be some quite standard Account and Refund enquiry.\n",
    "# Enquiry 3 is about contact, but there is some typo\n",
    "topic_ans = ['ACCOUNT','REFUNDS','CONTACT']"
   ]
  },
  {
   "cell_type": "code",
   "execution_count": 38,
   "id": "a33636ff",
   "metadata": {},
   "outputs": [
    {
     "name": "stdout",
     "output_type": "stream",
     "text": [
      "1/1 [==============================] - 0s 236ms/step\n",
      "Accuracy:  0.6666666666666666\n",
      "Top 5 misclassification:\n",
      "                                        Word     True      Prob Predict\n",
      "1  The hat quality is poor, can I return it?  REFUNDS  0.669783   ORDER\n",
      "----------------------------------------------------------------------------------------------------\n",
      "Misclassification Rate by category:\n",
      "True\n",
      "ACCOUNT    0.0\n",
      "CONTACT    0.0\n",
      "REFUNDS    1.0\n",
      "dtype: float64\n"
     ]
    },
    {
     "data": {
      "text/html": [
       "<div>\n",
       "<style scoped>\n",
       "    .dataframe tbody tr th:only-of-type {\n",
       "        vertical-align: middle;\n",
       "    }\n",
       "\n",
       "    .dataframe tbody tr th {\n",
       "        vertical-align: top;\n",
       "    }\n",
       "\n",
       "    .dataframe thead th {\n",
       "        text-align: right;\n",
       "    }\n",
       "</style>\n",
       "<table border=\"1\" class=\"dataframe\">\n",
       "  <thead>\n",
       "    <tr style=\"text-align: right;\">\n",
       "      <th></th>\n",
       "      <th>Word</th>\n",
       "      <th>True</th>\n",
       "      <th>Prob</th>\n",
       "      <th>Predict</th>\n",
       "    </tr>\n",
       "  </thead>\n",
       "  <tbody>\n",
       "    <tr>\n",
       "      <th>0</th>\n",
       "      <td>I want to open an account</td>\n",
       "      <td>ACCOUNT</td>\n",
       "      <td>0.999975</td>\n",
       "      <td>ACCOUNT</td>\n",
       "    </tr>\n",
       "    <tr>\n",
       "      <th>1</th>\n",
       "      <td>The hat quality is poor, can I return it?</td>\n",
       "      <td>REFUNDS</td>\n",
       "      <td>0.669783</td>\n",
       "      <td>ORDER</td>\n",
       "    </tr>\n",
       "    <tr>\n",
       "      <th>2</th>\n",
       "      <td>Find somebody to talk with me or cotact me later</td>\n",
       "      <td>CONTACT</td>\n",
       "      <td>0.885407</td>\n",
       "      <td>CONTACT</td>\n",
       "    </tr>\n",
       "  </tbody>\n",
       "</table>\n",
       "</div>"
      ],
      "text/plain": [
       "                                               Word     True      Prob  \\\n",
       "0                         I want to open an account  ACCOUNT  0.999975   \n",
       "1         The hat quality is poor, can I return it?  REFUNDS  0.669783   \n",
       "2  Find somebody to talk with me or cotact me later  CONTACT  0.885407   \n",
       "\n",
       "   Predict  \n",
       "0  ACCOUNT  \n",
       "1    ORDER  \n",
       "2  CONTACT  "
      ]
     },
     "execution_count": 38,
     "metadata": {},
     "output_type": "execute_result"
    }
   ],
   "source": [
    "model_evaluation(model,Enquiry,topic_ans)"
   ]
  },
  {
   "cell_type": "code",
   "execution_count": null,
   "id": "5c03f77c",
   "metadata": {},
   "outputs": [],
   "source": []
  }
 ],
 "metadata": {
  "kernelspec": {
   "display_name": "Python 3 (ipykernel)",
   "language": "python",
   "name": "python3"
  },
  "language_info": {
   "codemirror_mode": {
    "name": "ipython",
    "version": 3
   },
   "file_extension": ".py",
   "mimetype": "text/x-python",
   "name": "python",
   "nbconvert_exporter": "python",
   "pygments_lexer": "ipython3",
   "version": "3.9.13"
  }
 },
 "nbformat": 4,
 "nbformat_minor": 5
}
